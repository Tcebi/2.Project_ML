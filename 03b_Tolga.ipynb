{
 "cells": [
  {
   "cell_type": "markdown",
   "id": "e7106b0b-cb26-4b88-9670-ccb097ab306a",
   "metadata": {
    "jp-MarkdownHeadingCollapsed": true,
    "tags": []
   },
   "source": [
    "print('Scores for Random Forest:')\n",
    "print(classification_report(y_test, pred_test_rf)) \n",
    "print(\"Confusion Matrix: \\n\" + str(confusion_matrix(y_test, pred_test_rf)))## Business Understanding \n",
    "Purpose: Ask relevant questions and define objectives for the problem that needs to be tackled\n",
    "\n",
    "## Background\n",
    "In recent years, the range of funding options for projects created by individuals and small companies has expanded considerably. In addition to savings, bank loans, friends & family funding and other traditional options, crowdfunding has become a popular and readily available alternative.\n",
    "\n",
    "Kickstarter, founded in 2009, is one particularly well-known and popular crowdfunding platform. It has an all-or-nothing funding model, whereby a project is only funded if it meets its goal amount; otherwise no money is given by backers to a project. A huge variety of factors contribute to the success or failure of a project — in general, and also on Kickstarter. Some of these are able to be quantified or categorized, which allows for the construction of a model to attempt to predict whether a project will succeed or not. The aim of this project is to construct such a model and also to analyse Kickstarter project data more generally, in order to help potential project creators assess whether or not Kickstarter is a good funding option for them, and what their chances of success are.\n",
    "\n",
    "### Final Deliverables\n",
    "\n",
    "\n",
    "* Well designed presentation for non-technical stakeholders outlining findings and recommendations, as well as future work (10min presentation).\n",
    "* Jupyter notebook following Data Science Lifecycle\n",
    "\n",
    "### Things to think about\n",
    "\n",
    "* Try different (at least 3) machine learning algorithms to check which performs best on the problem at hand\n",
    "* What would be right performance metric: Precision, recall, accuracy, F1 score, or something else? (Check TPR?)\n",
    "* Check for data imbalance\n",
    "\n",
    "\n",
    "## Key Question \n",
    "\n",
    "We currently hold a task by Kickstarter to come up with a model to predict in a first step whether is project is likely to be successful, given certain project parameters. In a second step (out of scope), Kickstarter would like to be able to provide a good goal recommendation for creators( for example using staff picks etc.)\n",
    "\n",
    "* Given certain project parameters, __is a campaign likely to succeed or fail?__ --> classification\n",
    "* what would e a __reasonable goal reccomendation for creators__ --> regression\n",
    "\n",
    "\n",
    "\n",
    "## Feature Glossary\n",
    "\n",
    "Features included in model\n",
    "\n",
    "* Target : state\n",
    "*\n",
    "*\n",
    "*\n",
    "\n",
    "## Dataset Description\n",
    "\n",
    "- **backers_count**: Amount of people who backed this project\n",
    "- **category**: \n",
    "- **country**: Country the project owner lives in\n",
    "- **created_at**: Date when the prjoect was created\n",
    "- **currency**: Currency of the country where the owner lives in\n",
    "- **currency_trailing_code**: \n",
    "- **current_currency**: \n",
    "- **deadline**: Date until the project can be backed\n",
    "- **disable_communication**: If the communication with owner was disabled or not\n",
    "- **fx_rate**: Foreign exchange rate\n",
    "- **goal**: Project is only funded when the goal amount is reached\n",
    "- **launched_at**: Date when the project was launced\n",
    "- **spotlight**: Highlighted projects (available to all projects that are successfully funded)\n",
    "- **staff_pick**: Promissing project picked by Kickstarter employees\n",
    "- **state**: Project status\n",
    "- **state_changed_at**: Date when state changed the last time\n",
    "- **static_usd_rate**: static USD Convergen rate at time\n",
    "- **usd_pledged**: pledge amount converted to USD using Static_usd_rate\n",
    "\n",
    "\n",
    "## Dataset New/Added Feature Description\n",
    "\n",
    "- **campaign_days**: Days the Project was live\n",
    "- **pledged_over**: Amount Pledged surpassing the Goal(with converted pledge amount) \n",
    "- **pre_launched_days**: Days before the Project was launched\n",
    "\n",
    "\n",
    "## Target Metric\n",
    "\n",
    "* F1 score — Since creators wouldn’t want the model to predict too many success that will turn out to be a failure (minimize False Positives) and backers would want to make sure the model capture as many success as possible (minimize False Negatives), I want a balance between precision and recall\n",
    "\n",
    "## Outcome / Reccomendations\n",
    "*\n",
    "*\n",
    "*"
   ]
  },
  {
   "cell_type": "markdown",
   "id": "01c5ce27-de08-414b-a934-fc58320dcc1f",
   "metadata": {
    "tags": []
   },
   "source": [
    "## Import Libraries"
   ]
  },
  {
   "cell_type": "code",
   "execution_count": 1,
   "id": "b42169b9-15fd-49ac-94f6-6e0c95fb608d",
   "metadata": {
    "tags": []
   },
   "outputs": [],
   "source": [
    "import pandas as pd\n",
    "import numpy as np\n",
    "import matplotlib.pyplot as plt\n",
    "import matplotlib.ticker as ticker\n",
    "from matplotlib.gridspec import GridSpec\n",
    "import scipy as sc\n",
    "from scipy.stats import kstest\n",
    "import seaborn as sns\n",
    "import math\n",
    "import warnings\n",
    "warnings.filterwarnings(\"ignore\")\n",
    "\n",
    "#Data mining\n",
    "import os, glob\n",
    "\n",
    "#Preprocessing\n",
    "from sklearn.model_selection import train_test_split, RandomizedSearchCV, GridSearchCV\n",
    "from sklearn.dummy import DummyClassifier\n",
    "from sklearn.preprocessing import OneHotEncoder, MinMaxScaler, StandardScaler, PolynomialFeatures, LabelEncoder\n",
    "from sklearn.linear_model import LinearRegression, LogisticRegression\n",
    "from sklearn.model_selection import cross_val_score\n",
    "from sklearn.metrics import classification_report, confusion_matrix, f1_score, accuracy_score\n",
    "import imblearn # add imblearn to requirements text\n",
    "from imblearn.over_sampling import RandomOverSampler\n",
    "from sklearn.pipeline import Pipeline, make_pipeline\n",
    "from sklearn.impute import SimpleImputer\n",
    "from sklearn.compose import ColumnTransformer\n",
    "\n",
    "\n",
    "## Predictive Modelling : Classification (\"state\")\n",
    "from sklearn.ensemble import AdaBoostClassifier\n",
    "from sklearn.ensemble import AdaBoostClassifier, VotingClassifier, RandomForestClassifier, GradientBoostingClassifier\n",
    "from sklearn.tree import DecisionTreeClassifier\n",
    "from sklearn.svm import SVC, NuSVC\n",
    "from sklearn.neighbors import KNeighborsClassifier\n",
    "from sklearn.model_selection import cross_val_predict\n",
    "#from xgboost import XGBClassifier"
   ]
  },
  {
   "cell_type": "code",
   "execution_count": null,
   "id": "d9d5f342-7ef8-4fb4-af5c-ce66f2f75333",
   "metadata": {},
   "outputs": [],
   "source": []
  },
  {
   "cell_type": "markdown",
   "id": "1172ccc3-6124-4f1e-9335-ea367dc52b2a",
   "metadata": {},
   "source": [
    "# What to do? (for me)\n",
    "\n",
    "* find a way to implement pipelines for skalierung\n",
    "* pipelines for classifier\n",
    "* maybe a new feature?"
   ]
  },
  {
   "cell_type": "markdown",
   "id": "a340d81d-bff7-4438-bfdf-ec46523b0ef2",
   "metadata": {
    "tags": []
   },
   "source": [
    "## Dashboard\n",
    "Purpose : Define global variables and visuals"
   ]
  },
  {
   "cell_type": "code",
   "execution_count": 2,
   "id": "ff5ca982-73ac-4eb3-8200-8a972a93bf70",
   "metadata": {},
   "outputs": [],
   "source": [
    "random_state = 100\n",
    "test_size = 0.3\n",
    "sns.set(style = \"ticks\")\n",
    "scoring = \"f1\""
   ]
  },
  {
   "cell_type": "markdown",
   "id": "bfbd055f-0174-427b-b7fc-61ee975585d8",
   "metadata": {
    "tags": []
   },
   "source": [
    "## Data Mining"
   ]
  },
  {
   "cell_type": "code",
   "execution_count": 3,
   "id": "dc1aa018-b655-4c84-bc82-b08c6eb40cb2",
   "metadata": {},
   "outputs": [],
   "source": [
    "# Import multiple Kickstarter csv files and merge into one dataframe\n",
    "\n",
    "path = \"data-2\"\n",
    "all_files = glob.glob(os.path.join(path, \"*.csv\"))\n",
    "\n",
    "all_df = []\n",
    "for f in all_files:\n",
    "    df = pd.read_csv(f, sep=',')\n",
    "    df['file'] = f.split('/')[-1]\n",
    "    all_df.append(df)\n",
    "    \n",
    "merged_df = pd.concat(all_df, ignore_index=True, sort=True)"
   ]
  },
  {
   "cell_type": "code",
   "execution_count": 4,
   "id": "4dd02ab6-5792-49af-8186-aff4ddb867e3",
   "metadata": {},
   "outputs": [],
   "source": [
    "#\n",
    "# merged_df = pd.read_csv('data-2/Kickstarter_all.csv') ### brauche ich wenn ich den Anderen Kram nicht laufen lassen will"
   ]
  },
  {
   "cell_type": "markdown",
   "id": "49a1e3ca-e891-4ff8-8c35-9cd8fe274c97",
   "metadata": {
    "jp-MarkdownHeadingCollapsed": true,
    "tags": []
   },
   "source": [
    "## Inspection and Data Cleaning"
   ]
  },
  {
   "cell_type": "code",
   "execution_count": 5,
   "id": "7ccf0aaa-d6de-4498-b494-8babd33a1b40",
   "metadata": {},
   "outputs": [
    {
     "name": "stdout",
     "output_type": "stream",
     "text": [
      "<class 'pandas.core.frame.DataFrame'>\n",
      "RangeIndex: 209222 entries, 0 to 209221\n",
      "Data columns (total 38 columns):\n",
      " #   Column                    Non-Null Count   Dtype  \n",
      "---  ------                    --------------   -----  \n",
      " 0   backers_count             209222 non-null  int64  \n",
      " 1   blurb                     209214 non-null  object \n",
      " 2   category                  209222 non-null  object \n",
      " 3   converted_pledged_amount  209222 non-null  int64  \n",
      " 4   country                   209222 non-null  object \n",
      " 5   created_at                209222 non-null  int64  \n",
      " 6   creator                   209222 non-null  object \n",
      " 7   currency                  209222 non-null  object \n",
      " 8   currency_symbol           209222 non-null  object \n",
      " 9   currency_trailing_code    209222 non-null  bool   \n",
      " 10  current_currency          209222 non-null  object \n",
      " 11  deadline                  209222 non-null  int64  \n",
      " 12  disable_communication     209222 non-null  bool   \n",
      " 13  file                      209222 non-null  object \n",
      " 14  friends                   300 non-null     object \n",
      " 15  fx_rate                   209222 non-null  float64\n",
      " 16  goal                      209222 non-null  float64\n",
      " 17  id                        209222 non-null  int64  \n",
      " 18  is_backing                300 non-null     object \n",
      " 19  is_starrable              209222 non-null  bool   \n",
      " 20  is_starred                300 non-null     object \n",
      " 21  launched_at               209222 non-null  int64  \n",
      " 22  location                  208996 non-null  object \n",
      " 23  name                      209222 non-null  object \n",
      " 24  permissions               300 non-null     object \n",
      " 25  photo                     209222 non-null  object \n",
      " 26  pledged                   209222 non-null  float64\n",
      " 27  profile                   209222 non-null  object \n",
      " 28  slug                      209222 non-null  object \n",
      " 29  source_url                209222 non-null  object \n",
      " 30  spotlight                 209222 non-null  bool   \n",
      " 31  staff_pick                209222 non-null  bool   \n",
      " 32  state                     209222 non-null  object \n",
      " 33  state_changed_at          209222 non-null  int64  \n",
      " 34  static_usd_rate           209222 non-null  float64\n",
      " 35  urls                      209222 non-null  object \n",
      " 36  usd_pledged               209222 non-null  float64\n",
      " 37  usd_type                  208742 non-null  object \n",
      "dtypes: bool(5), float64(5), int64(7), object(21)\n",
      "memory usage: 53.7+ MB\n"
     ]
    }
   ],
   "source": [
    "merged_df.info()"
   ]
  },
  {
   "cell_type": "code",
   "execution_count": 6,
   "id": "ec4c9ada-df77-4f48-898c-91f884bffe88",
   "metadata": {},
   "outputs": [],
   "source": [
    "#save the merged data as .zip\n",
    "#compression_opts = dict(method='zip', archive_name='out.csv')  \n",
    "#merged_df.to_csv('out.zip', index=False, compression=compression_opts)"
   ]
  },
  {
   "cell_type": "code",
   "execution_count": 7,
   "id": "194f27ef-a743-4f6e-928b-6e830a951a0d",
   "metadata": {},
   "outputs": [
    {
     "data": {
      "text/plain": [
       "(209222, 38)"
      ]
     },
     "execution_count": 7,
     "metadata": {},
     "output_type": "execute_result"
    }
   ],
   "source": [
    "# Display shape of \"data\"\n",
    "merged_df.shape"
   ]
  },
  {
   "cell_type": "code",
   "execution_count": 8,
   "id": "a778074d-dc5f-4c77-9489-612373bd9a80",
   "metadata": {},
   "outputs": [
    {
     "data": {
      "text/html": [
       "<div>\n",
       "<style scoped>\n",
       "    .dataframe tbody tr th:only-of-type {\n",
       "        vertical-align: middle;\n",
       "    }\n",
       "\n",
       "    .dataframe tbody tr th {\n",
       "        vertical-align: top;\n",
       "    }\n",
       "\n",
       "    .dataframe thead th {\n",
       "        text-align: right;\n",
       "    }\n",
       "</style>\n",
       "<table border=\"1\" class=\"dataframe\">\n",
       "  <thead>\n",
       "    <tr style=\"text-align: right;\">\n",
       "      <th></th>\n",
       "      <th>backers_count</th>\n",
       "      <th>blurb</th>\n",
       "      <th>category</th>\n",
       "      <th>converted_pledged_amount</th>\n",
       "      <th>country</th>\n",
       "      <th>created_at</th>\n",
       "      <th>creator</th>\n",
       "      <th>currency</th>\n",
       "      <th>currency_symbol</th>\n",
       "      <th>currency_trailing_code</th>\n",
       "      <th>...</th>\n",
       "      <th>slug</th>\n",
       "      <th>source_url</th>\n",
       "      <th>spotlight</th>\n",
       "      <th>staff_pick</th>\n",
       "      <th>state</th>\n",
       "      <th>state_changed_at</th>\n",
       "      <th>static_usd_rate</th>\n",
       "      <th>urls</th>\n",
       "      <th>usd_pledged</th>\n",
       "      <th>usd_type</th>\n",
       "    </tr>\n",
       "  </thead>\n",
       "  <tbody>\n",
       "    <tr>\n",
       "      <th>0</th>\n",
       "      <td>315</td>\n",
       "      <td>Babalus Shoes</td>\n",
       "      <td>{\"id\":266,\"name\":\"Footwear\",\"slug\":\"fashion/fo...</td>\n",
       "      <td>28645</td>\n",
       "      <td>US</td>\n",
       "      <td>1541459205</td>\n",
       "      <td>{\"id\":2094277840,\"name\":\"Lucy Conroy\",\"slug\":\"...</td>\n",
       "      <td>USD</td>\n",
       "      <td>$</td>\n",
       "      <td>True</td>\n",
       "      <td>...</td>\n",
       "      <td>babalus-childrens-shoes</td>\n",
       "      <td>https://www.kickstarter.com/discover/categorie...</td>\n",
       "      <td>False</td>\n",
       "      <td>False</td>\n",
       "      <td>live</td>\n",
       "      <td>1548223375</td>\n",
       "      <td>1.000000</td>\n",
       "      <td>{\"web\":{\"project\":\"https://www.kickstarter.com...</td>\n",
       "      <td>28645.000000</td>\n",
       "      <td>international</td>\n",
       "    </tr>\n",
       "    <tr>\n",
       "      <th>1</th>\n",
       "      <td>47</td>\n",
       "      <td>A colorful Dia de los Muertos themed oracle de...</td>\n",
       "      <td>{\"id\":273,\"name\":\"Playing Cards\",\"slug\":\"games...</td>\n",
       "      <td>1950</td>\n",
       "      <td>US</td>\n",
       "      <td>1501684093</td>\n",
       "      <td>{\"id\":723886115,\"name\":\"Lisa Vollrath\",\"slug\":...</td>\n",
       "      <td>USD</td>\n",
       "      <td>$</td>\n",
       "      <td>True</td>\n",
       "      <td>...</td>\n",
       "      <td>the-ofrenda-oracle-deck</td>\n",
       "      <td>https://www.kickstarter.com/discover/categorie...</td>\n",
       "      <td>True</td>\n",
       "      <td>False</td>\n",
       "      <td>successful</td>\n",
       "      <td>1504976459</td>\n",
       "      <td>1.000000</td>\n",
       "      <td>{\"web\":{\"project\":\"https://www.kickstarter.com...</td>\n",
       "      <td>1950.000000</td>\n",
       "      <td>domestic</td>\n",
       "    </tr>\n",
       "    <tr>\n",
       "      <th>2</th>\n",
       "      <td>271</td>\n",
       "      <td>Electra's long awaited, eclectic Debut Pop/Roc...</td>\n",
       "      <td>{\"id\":43,\"name\":\"Rock\",\"slug\":\"music/rock\",\"po...</td>\n",
       "      <td>22404</td>\n",
       "      <td>US</td>\n",
       "      <td>1348987533</td>\n",
       "      <td>{\"id\":323849677,\"name\":\"Electra\",\"is_registere...</td>\n",
       "      <td>USD</td>\n",
       "      <td>$</td>\n",
       "      <td>True</td>\n",
       "      <td>...</td>\n",
       "      <td>record-electras-debut-album-pop-rock-classical</td>\n",
       "      <td>https://www.kickstarter.com/discover/categorie...</td>\n",
       "      <td>True</td>\n",
       "      <td>False</td>\n",
       "      <td>successful</td>\n",
       "      <td>1371013395</td>\n",
       "      <td>1.000000</td>\n",
       "      <td>{\"web\":{\"project\":\"https://www.kickstarter.com...</td>\n",
       "      <td>22404.000000</td>\n",
       "      <td>international</td>\n",
       "    </tr>\n",
       "    <tr>\n",
       "      <th>3</th>\n",
       "      <td>3</td>\n",
       "      <td>The Mist of Tribunal is a turn-based card game...</td>\n",
       "      <td>{\"id\":273,\"name\":\"Playing Cards\",\"slug\":\"games...</td>\n",
       "      <td>165</td>\n",
       "      <td>GB</td>\n",
       "      <td>1483780271</td>\n",
       "      <td>{\"id\":196281496,\"name\":\"Artur Ordijanc (delete...</td>\n",
       "      <td>GBP</td>\n",
       "      <td>£</td>\n",
       "      <td>False</td>\n",
       "      <td>...</td>\n",
       "      <td>the-mist-of-tribunal-a-card-game</td>\n",
       "      <td>https://www.kickstarter.com/discover/categorie...</td>\n",
       "      <td>False</td>\n",
       "      <td>False</td>\n",
       "      <td>failed</td>\n",
       "      <td>1489425776</td>\n",
       "      <td>1.216066</td>\n",
       "      <td>{\"web\":{\"project\":\"https://www.kickstarter.com...</td>\n",
       "      <td>165.384934</td>\n",
       "      <td>domestic</td>\n",
       "    </tr>\n",
       "    <tr>\n",
       "      <th>4</th>\n",
       "      <td>3</td>\n",
       "      <td>Livng with a brain impairment, what its like t...</td>\n",
       "      <td>{\"id\":48,\"name\":\"Nonfiction\",\"slug\":\"publishin...</td>\n",
       "      <td>2820</td>\n",
       "      <td>US</td>\n",
       "      <td>1354817071</td>\n",
       "      <td>{\"id\":1178460181,\"name\":\"Dawn Johnston\",\"is_re...</td>\n",
       "      <td>USD</td>\n",
       "      <td>$</td>\n",
       "      <td>True</td>\n",
       "      <td>...</td>\n",
       "      <td>help-change-the-face-of-brain-impairment</td>\n",
       "      <td>https://www.kickstarter.com/discover/categorie...</td>\n",
       "      <td>True</td>\n",
       "      <td>False</td>\n",
       "      <td>successful</td>\n",
       "      <td>1357763527</td>\n",
       "      <td>1.000000</td>\n",
       "      <td>{\"web\":{\"project\":\"https://www.kickstarter.com...</td>\n",
       "      <td>2820.000000</td>\n",
       "      <td>domestic</td>\n",
       "    </tr>\n",
       "  </tbody>\n",
       "</table>\n",
       "<p>5 rows × 38 columns</p>\n",
       "</div>"
      ],
      "text/plain": [
       "   backers_count                                              blurb  \\\n",
       "0            315                                      Babalus Shoes   \n",
       "1             47  A colorful Dia de los Muertos themed oracle de...   \n",
       "2            271  Electra's long awaited, eclectic Debut Pop/Roc...   \n",
       "3              3  The Mist of Tribunal is a turn-based card game...   \n",
       "4              3  Livng with a brain impairment, what its like t...   \n",
       "\n",
       "                                            category  \\\n",
       "0  {\"id\":266,\"name\":\"Footwear\",\"slug\":\"fashion/fo...   \n",
       "1  {\"id\":273,\"name\":\"Playing Cards\",\"slug\":\"games...   \n",
       "2  {\"id\":43,\"name\":\"Rock\",\"slug\":\"music/rock\",\"po...   \n",
       "3  {\"id\":273,\"name\":\"Playing Cards\",\"slug\":\"games...   \n",
       "4  {\"id\":48,\"name\":\"Nonfiction\",\"slug\":\"publishin...   \n",
       "\n",
       "   converted_pledged_amount country  created_at  \\\n",
       "0                     28645      US  1541459205   \n",
       "1                      1950      US  1501684093   \n",
       "2                     22404      US  1348987533   \n",
       "3                       165      GB  1483780271   \n",
       "4                      2820      US  1354817071   \n",
       "\n",
       "                                             creator currency currency_symbol  \\\n",
       "0  {\"id\":2094277840,\"name\":\"Lucy Conroy\",\"slug\":\"...      USD               $   \n",
       "1  {\"id\":723886115,\"name\":\"Lisa Vollrath\",\"slug\":...      USD               $   \n",
       "2  {\"id\":323849677,\"name\":\"Electra\",\"is_registere...      USD               $   \n",
       "3  {\"id\":196281496,\"name\":\"Artur Ordijanc (delete...      GBP               £   \n",
       "4  {\"id\":1178460181,\"name\":\"Dawn Johnston\",\"is_re...      USD               $   \n",
       "\n",
       "   currency_trailing_code  ...  \\\n",
       "0                    True  ...   \n",
       "1                    True  ...   \n",
       "2                    True  ...   \n",
       "3                   False  ...   \n",
       "4                    True  ...   \n",
       "\n",
       "                                             slug  \\\n",
       "0                         babalus-childrens-shoes   \n",
       "1                         the-ofrenda-oracle-deck   \n",
       "2  record-electras-debut-album-pop-rock-classical   \n",
       "3                the-mist-of-tribunal-a-card-game   \n",
       "4        help-change-the-face-of-brain-impairment   \n",
       "\n",
       "                                          source_url  spotlight staff_pick  \\\n",
       "0  https://www.kickstarter.com/discover/categorie...      False      False   \n",
       "1  https://www.kickstarter.com/discover/categorie...       True      False   \n",
       "2  https://www.kickstarter.com/discover/categorie...       True      False   \n",
       "3  https://www.kickstarter.com/discover/categorie...      False      False   \n",
       "4  https://www.kickstarter.com/discover/categorie...       True      False   \n",
       "\n",
       "        state  state_changed_at  static_usd_rate  \\\n",
       "0        live        1548223375         1.000000   \n",
       "1  successful        1504976459         1.000000   \n",
       "2  successful        1371013395         1.000000   \n",
       "3      failed        1489425776         1.216066   \n",
       "4  successful        1357763527         1.000000   \n",
       "\n",
       "                                                urls   usd_pledged  \\\n",
       "0  {\"web\":{\"project\":\"https://www.kickstarter.com...  28645.000000   \n",
       "1  {\"web\":{\"project\":\"https://www.kickstarter.com...   1950.000000   \n",
       "2  {\"web\":{\"project\":\"https://www.kickstarter.com...  22404.000000   \n",
       "3  {\"web\":{\"project\":\"https://www.kickstarter.com...    165.384934   \n",
       "4  {\"web\":{\"project\":\"https://www.kickstarter.com...   2820.000000   \n",
       "\n",
       "        usd_type  \n",
       "0  international  \n",
       "1       domestic  \n",
       "2  international  \n",
       "3       domestic  \n",
       "4       domestic  \n",
       "\n",
       "[5 rows x 38 columns]"
      ]
     },
     "execution_count": 8,
     "metadata": {},
     "output_type": "execute_result"
    }
   ],
   "source": [
    "merged_df.head()"
   ]
  },
  {
   "cell_type": "code",
   "execution_count": 9,
   "id": "e6c4703b-ca6e-4c18-b70f-ff1c77f4801e",
   "metadata": {},
   "outputs": [
    {
     "data": {
      "text/plain": [
       "Index(['backers_count', 'blurb', 'category', 'converted_pledged_amount',\n",
       "       'country', 'created_at', 'creator', 'currency', 'currency_symbol',\n",
       "       'currency_trailing_code', 'current_currency', 'deadline',\n",
       "       'disable_communication', 'file', 'friends', 'fx_rate', 'goal', 'id',\n",
       "       'is_backing', 'is_starrable', 'is_starred', 'launched_at', 'location',\n",
       "       'name', 'permissions', 'photo', 'pledged', 'profile', 'slug',\n",
       "       'source_url', 'spotlight', 'staff_pick', 'state', 'state_changed_at',\n",
       "       'static_usd_rate', 'urls', 'usd_pledged', 'usd_type'],\n",
       "      dtype='object')"
      ]
     },
     "execution_count": 9,
     "metadata": {},
     "output_type": "execute_result"
    }
   ],
   "source": [
    "merged_df.columns"
   ]
  },
  {
   "cell_type": "code",
   "execution_count": 10,
   "id": "186a52be-8974-41e1-8d1a-8d590499e010",
   "metadata": {},
   "outputs": [
    {
     "data": {
      "text/html": [
       "<div>\n",
       "<style scoped>\n",
       "    .dataframe tbody tr th:only-of-type {\n",
       "        vertical-align: middle;\n",
       "    }\n",
       "\n",
       "    .dataframe tbody tr th {\n",
       "        vertical-align: top;\n",
       "    }\n",
       "\n",
       "    .dataframe thead th {\n",
       "        text-align: right;\n",
       "    }\n",
       "</style>\n",
       "<table border=\"1\" class=\"dataframe\">\n",
       "  <thead>\n",
       "    <tr style=\"text-align: right;\">\n",
       "      <th></th>\n",
       "      <th>backers_count</th>\n",
       "      <th>blurb</th>\n",
       "      <th>category</th>\n",
       "      <th>converted_pledged_amount</th>\n",
       "      <th>country</th>\n",
       "      <th>created_at</th>\n",
       "      <th>creator</th>\n",
       "      <th>currency</th>\n",
       "      <th>currency_symbol</th>\n",
       "      <th>currency_trailing_code</th>\n",
       "      <th>...</th>\n",
       "      <th>profile</th>\n",
       "      <th>slug</th>\n",
       "      <th>source_url</th>\n",
       "      <th>spotlight</th>\n",
       "      <th>staff_pick</th>\n",
       "      <th>state_changed_at</th>\n",
       "      <th>static_usd_rate</th>\n",
       "      <th>urls</th>\n",
       "      <th>usd_pledged</th>\n",
       "      <th>usd_type</th>\n",
       "    </tr>\n",
       "    <tr>\n",
       "      <th>state</th>\n",
       "      <th></th>\n",
       "      <th></th>\n",
       "      <th></th>\n",
       "      <th></th>\n",
       "      <th></th>\n",
       "      <th></th>\n",
       "      <th></th>\n",
       "      <th></th>\n",
       "      <th></th>\n",
       "      <th></th>\n",
       "      <th></th>\n",
       "      <th></th>\n",
       "      <th></th>\n",
       "      <th></th>\n",
       "      <th></th>\n",
       "      <th></th>\n",
       "      <th></th>\n",
       "      <th></th>\n",
       "      <th></th>\n",
       "      <th></th>\n",
       "      <th></th>\n",
       "    </tr>\n",
       "  </thead>\n",
       "  <tbody>\n",
       "    <tr>\n",
       "      <th>canceled</th>\n",
       "      <td>8624</td>\n",
       "      <td>8618</td>\n",
       "      <td>8624</td>\n",
       "      <td>8624</td>\n",
       "      <td>8624</td>\n",
       "      <td>8624</td>\n",
       "      <td>8624</td>\n",
       "      <td>8624</td>\n",
       "      <td>8624</td>\n",
       "      <td>8624</td>\n",
       "      <td>...</td>\n",
       "      <td>8624</td>\n",
       "      <td>8624</td>\n",
       "      <td>8624</td>\n",
       "      <td>8624</td>\n",
       "      <td>8624</td>\n",
       "      <td>8624</td>\n",
       "      <td>8624</td>\n",
       "      <td>8624</td>\n",
       "      <td>8624</td>\n",
       "      <td>8624</td>\n",
       "    </tr>\n",
       "    <tr>\n",
       "      <th>failed</th>\n",
       "      <td>75199</td>\n",
       "      <td>75197</td>\n",
       "      <td>75199</td>\n",
       "      <td>75199</td>\n",
       "      <td>75199</td>\n",
       "      <td>75199</td>\n",
       "      <td>75199</td>\n",
       "      <td>75199</td>\n",
       "      <td>75199</td>\n",
       "      <td>75199</td>\n",
       "      <td>...</td>\n",
       "      <td>75199</td>\n",
       "      <td>75199</td>\n",
       "      <td>75199</td>\n",
       "      <td>75199</td>\n",
       "      <td>75199</td>\n",
       "      <td>75199</td>\n",
       "      <td>75199</td>\n",
       "      <td>75199</td>\n",
       "      <td>75199</td>\n",
       "      <td>75199</td>\n",
       "    </tr>\n",
       "    <tr>\n",
       "      <th>live</th>\n",
       "      <td>7311</td>\n",
       "      <td>7311</td>\n",
       "      <td>7311</td>\n",
       "      <td>7311</td>\n",
       "      <td>7311</td>\n",
       "      <td>7311</td>\n",
       "      <td>7311</td>\n",
       "      <td>7311</td>\n",
       "      <td>7311</td>\n",
       "      <td>7311</td>\n",
       "      <td>...</td>\n",
       "      <td>7311</td>\n",
       "      <td>7311</td>\n",
       "      <td>7311</td>\n",
       "      <td>7311</td>\n",
       "      <td>7311</td>\n",
       "      <td>7311</td>\n",
       "      <td>7311</td>\n",
       "      <td>7311</td>\n",
       "      <td>7311</td>\n",
       "      <td>6869</td>\n",
       "    </tr>\n",
       "    <tr>\n",
       "      <th>successful</th>\n",
       "      <td>117465</td>\n",
       "      <td>117465</td>\n",
       "      <td>117465</td>\n",
       "      <td>117465</td>\n",
       "      <td>117465</td>\n",
       "      <td>117465</td>\n",
       "      <td>117465</td>\n",
       "      <td>117465</td>\n",
       "      <td>117465</td>\n",
       "      <td>117465</td>\n",
       "      <td>...</td>\n",
       "      <td>117465</td>\n",
       "      <td>117465</td>\n",
       "      <td>117465</td>\n",
       "      <td>117465</td>\n",
       "      <td>117465</td>\n",
       "      <td>117465</td>\n",
       "      <td>117465</td>\n",
       "      <td>117465</td>\n",
       "      <td>117465</td>\n",
       "      <td>117427</td>\n",
       "    </tr>\n",
       "    <tr>\n",
       "      <th>suspended</th>\n",
       "      <td>623</td>\n",
       "      <td>623</td>\n",
       "      <td>623</td>\n",
       "      <td>623</td>\n",
       "      <td>623</td>\n",
       "      <td>623</td>\n",
       "      <td>623</td>\n",
       "      <td>623</td>\n",
       "      <td>623</td>\n",
       "      <td>623</td>\n",
       "      <td>...</td>\n",
       "      <td>623</td>\n",
       "      <td>623</td>\n",
       "      <td>623</td>\n",
       "      <td>623</td>\n",
       "      <td>623</td>\n",
       "      <td>623</td>\n",
       "      <td>623</td>\n",
       "      <td>623</td>\n",
       "      <td>623</td>\n",
       "      <td>623</td>\n",
       "    </tr>\n",
       "  </tbody>\n",
       "</table>\n",
       "<p>5 rows × 37 columns</p>\n",
       "</div>"
      ],
      "text/plain": [
       "            backers_count   blurb  category  converted_pledged_amount  \\\n",
       "state                                                                   \n",
       "canceled             8624    8618      8624                      8624   \n",
       "failed              75199   75197     75199                     75199   \n",
       "live                 7311    7311      7311                      7311   \n",
       "successful         117465  117465    117465                    117465   \n",
       "suspended             623     623       623                       623   \n",
       "\n",
       "            country  created_at  creator  currency  currency_symbol  \\\n",
       "state                                                                 \n",
       "canceled       8624        8624     8624      8624             8624   \n",
       "failed        75199       75199    75199     75199            75199   \n",
       "live           7311        7311     7311      7311             7311   \n",
       "successful   117465      117465   117465    117465           117465   \n",
       "suspended       623         623      623       623              623   \n",
       "\n",
       "            currency_trailing_code  ...  profile    slug  source_url  \\\n",
       "state                               ...                                \n",
       "canceled                      8624  ...     8624    8624        8624   \n",
       "failed                       75199  ...    75199   75199       75199   \n",
       "live                          7311  ...     7311    7311        7311   \n",
       "successful                  117465  ...   117465  117465      117465   \n",
       "suspended                      623  ...      623     623         623   \n",
       "\n",
       "            spotlight  staff_pick  state_changed_at  static_usd_rate    urls  \\\n",
       "state                                                                          \n",
       "canceled         8624        8624              8624             8624    8624   \n",
       "failed          75199       75199             75199            75199   75199   \n",
       "live             7311        7311              7311             7311    7311   \n",
       "successful     117465      117465            117465           117465  117465   \n",
       "suspended         623         623               623              623     623   \n",
       "\n",
       "            usd_pledged  usd_type  \n",
       "state                              \n",
       "canceled           8624      8624  \n",
       "failed            75199     75199  \n",
       "live               7311      6869  \n",
       "successful       117465    117427  \n",
       "suspended           623       623  \n",
       "\n",
       "[5 rows x 37 columns]"
      ]
     },
     "execution_count": 10,
     "metadata": {},
     "output_type": "execute_result"
    }
   ],
   "source": [
    "merged_df.groupby('state').count()"
   ]
  },
  {
   "cell_type": "code",
   "execution_count": 11,
   "id": "9c8b8ce3-96ac-469a-a054-d1a6a3fe325b",
   "metadata": {},
   "outputs": [
    {
     "data": {
      "text/plain": [
       "backers_count                    0\n",
       "blurb                            8\n",
       "category                         0\n",
       "converted_pledged_amount         0\n",
       "country                          0\n",
       "created_at                       0\n",
       "creator                          0\n",
       "currency                         0\n",
       "currency_symbol                  0\n",
       "currency_trailing_code           0\n",
       "current_currency                 0\n",
       "deadline                         0\n",
       "disable_communication            0\n",
       "file                             0\n",
       "friends                     208922\n",
       "fx_rate                          0\n",
       "goal                             0\n",
       "id                               0\n",
       "is_backing                  208922\n",
       "is_starrable                     0\n",
       "is_starred                  208922\n",
       "launched_at                      0\n",
       "location                       226\n",
       "name                             0\n",
       "permissions                 208922\n",
       "photo                            0\n",
       "pledged                          0\n",
       "profile                          0\n",
       "slug                             0\n",
       "source_url                       0\n",
       "spotlight                        0\n",
       "staff_pick                       0\n",
       "state                            0\n",
       "state_changed_at                 0\n",
       "static_usd_rate                  0\n",
       "urls                             0\n",
       "usd_pledged                      0\n",
       "usd_type                       480\n",
       "dtype: int64"
      ]
     },
     "execution_count": 11,
     "metadata": {},
     "output_type": "execute_result"
    }
   ],
   "source": [
    "pd.isnull(merged_df).sum()"
   ]
  },
  {
   "cell_type": "markdown",
   "id": "473ffe53-a58e-4dae-9b3a-8a060b00cb55",
   "metadata": {
    "tags": []
   },
   "source": [
    "## Data Handling"
   ]
  },
  {
   "cell_type": "code",
   "execution_count": 12,
   "id": "a4b50b30-8cfa-40ce-b227-b4b223b535a3",
   "metadata": {},
   "outputs": [],
   "source": [
    "# create a dataset for Inspection\n",
    "final = merged_df.copy()"
   ]
  },
  {
   "cell_type": "markdown",
   "id": "e099540c-5073-4b52-82bb-e7ccca4ccb61",
   "metadata": {
    "tags": []
   },
   "source": [
    "### Dropping Data - First Wave"
   ]
  },
  {
   "cell_type": "code",
   "execution_count": 13,
   "id": "3205e7cf-afda-49df-98ad-52ad9403e6dd",
   "metadata": {},
   "outputs": [],
   "source": [
    "drop_list = []"
   ]
  },
  {
   "cell_type": "markdown",
   "id": "0e8f4a92-5efa-48cd-8ce5-618c97afd112",
   "metadata": {},
   "source": [
    "#### Dropping features with missing values"
   ]
  },
  {
   "cell_type": "code",
   "execution_count": 14,
   "id": "bd514c88-1309-4978-a5db-56c9c5b60b36",
   "metadata": {},
   "outputs": [],
   "source": [
    "drop_missing_values = ['blurb', 'friends', 'is_backing', 'is_starred', 'permissions', 'usd_type', 'location']\n",
    "drop_list.extend(drop_missing_values)\n",
    "final = final.drop(drop_missing_values, axis = 1)\n"
   ]
  },
  {
   "cell_type": "markdown",
   "id": "420d37f3-3648-46eb-bbc7-16c98f7e6d65",
   "metadata": {},
   "source": [
    "#### Dropping useless features "
   ]
  },
  {
   "cell_type": "code",
   "execution_count": 15,
   "id": "fabbc6e2-50d2-4305-8068-83d7fd4ca055",
   "metadata": {},
   "outputs": [],
   "source": [
    "drop_useless_features = ['creator', 'currency_symbol', 'name', 'photo', 'profile', 'slug','urls', 'file']\n",
    "drop_list.extend(drop_useless_features)\n",
    "final = final.drop(drop_useless_features, axis = 1)"
   ]
  },
  {
   "cell_type": "markdown",
   "id": "ec63ae91-5a5a-4952-a5ae-1bfac974d8bb",
   "metadata": {},
   "source": [
    "#### Dropping redundant features"
   ]
  },
  {
   "cell_type": "code",
   "execution_count": 16,
   "id": "6e71f858-d38c-473e-afac-f5e8523a77b7",
   "metadata": {},
   "outputs": [],
   "source": [
    "drop_redundant_features = ['pledged', 'usd_pledged']\n",
    "drop_list.extend(drop_redundant_features)\n",
    "final = final.drop(drop_redundant_features, axis = 1)"
   ]
  },
  {
   "cell_type": "code",
   "execution_count": 17,
   "id": "d280fc33-c356-4199-93f7-51b1050414fe",
   "metadata": {},
   "outputs": [
    {
     "data": {
      "text/plain": [
       "['blurb',\n",
       " 'friends',\n",
       " 'is_backing',\n",
       " 'is_starred',\n",
       " 'permissions',\n",
       " 'usd_type',\n",
       " 'location',\n",
       " 'creator',\n",
       " 'currency_symbol',\n",
       " 'name',\n",
       " 'photo',\n",
       " 'profile',\n",
       " 'slug',\n",
       " 'urls',\n",
       " 'file',\n",
       " 'pledged',\n",
       " 'usd_pledged']"
      ]
     },
     "execution_count": 17,
     "metadata": {},
     "output_type": "execute_result"
    }
   ],
   "source": [
    "drop_list"
   ]
  },
  {
   "cell_type": "markdown",
   "id": "670a58ba-4346-4b66-89a9-55b629723941",
   "metadata": {},
   "source": [
    "#### Replacing features"
   ]
  },
  {
   "cell_type": "code",
   "execution_count": 18,
   "id": "8b2c46c1-a03d-4169-978e-853b2de791e9",
   "metadata": {},
   "outputs": [],
   "source": [
    "# Extract category_sub from \"category\"\n",
    "final[\"sub_category\"] = [final.category[i].split('\"')[5] for i in final.index]\n",
    "final[\"sub_category\"] = final[\"sub_category\"].str.replace(\"%20\", \"_\")"
   ]
  },
  {
   "cell_type": "code",
   "execution_count": 19,
   "id": "fb247a6b-9d31-490c-8cea-117bcbb189f0",
   "metadata": {},
   "outputs": [],
   "source": [
    "# Extract category from \"source_url\"\n",
    "final[\"category\"] = [final.source_url[i].split(\"/\")[5] for i in final.index]\n",
    "final[\"category\"] = final[\"category\"].str.replace(\"%20\", \"_\")"
   ]
  },
  {
   "cell_type": "code",
   "execution_count": 20,
   "id": "7e372844-574c-4e4f-9943-7a66f2255bde",
   "metadata": {},
   "outputs": [],
   "source": [
    "modified_list = ['category','state']"
   ]
  },
  {
   "cell_type": "code",
   "execution_count": 21,
   "id": "d6eed94d-fd95-414b-bdac-0a9740f19218",
   "metadata": {},
   "outputs": [],
   "source": [
    "#replace successful and failed with 1 and 0\n",
    "final.state.replace(['successful','failed'], [1,0],inplace=True)\n",
    "final = final.query('state == [1,0]')\n",
    "final.state = final.state.astype(int)\n",
    "\n",
    "#Changing types \n",
    "\n",
    "final.is_starrable = final.is_starrable.astype(int)\n",
    "final.disable_communication = final.disable_communication.astype(int)\n",
    "final.currency_trailing_code = final.currency_trailing_code.astype(int)\n",
    "final.staff_pick = final.staff_pick.astype(int)\n",
    "final.spotlight = final.spotlight.astype(int)\n",
    "#drop live,susspended,cancelled\n",
    "#final = final[final['state'] == [1,0]]\n"
   ]
  },
  {
   "cell_type": "markdown",
   "id": "861a501e-271a-4a93-994e-293eeb613cea",
   "metadata": {
    "tags": []
   },
   "source": [
    "### Time conversions\n",
    "\n"
   ]
  },
  {
   "cell_type": "code",
   "execution_count": 22,
   "id": "cafc4062-8a68-40fc-8c0a-c43d091f5419",
   "metadata": {},
   "outputs": [],
   "source": [
    "modified_list.extend(['launched_at', 'deadline', 'created_at', 'state_changed_at'])         "
   ]
  },
  {
   "cell_type": "code",
   "execution_count": 23,
   "id": "e83bdb1a-cdf7-4192-a29f-40894e618ac6",
   "metadata": {},
   "outputs": [],
   "source": [
    "#converting unix time \n",
    "final.launched_at = pd.to_datetime(final.launched_at,unit='s',infer_datetime_format=True)\n",
    "final.deadline = pd.to_datetime(final.deadline,unit='s',infer_datetime_format=True)\n",
    "final.created_at = pd.to_datetime(final.created_at,unit='s',infer_datetime_format=True)\n",
    "final.state_changed_at = pd.to_datetime(final.state_changed_at,unit='s',infer_datetime_format=True)"
   ]
  },
  {
   "cell_type": "code",
   "execution_count": 24,
   "id": "e244f026-42bd-4961-86a4-908feea1f901",
   "metadata": {},
   "outputs": [],
   "source": [
    "#Create month and year\n",
    "final['launched_at_yr'] = [date.year for date in final['launched_at']]\n",
    "final['launched_at_mth'] = [date.month for date in final['launched_at']]"
   ]
  },
  {
   "cell_type": "markdown",
   "id": "a68eb0f5-d2aa-4511-81c2-ad3d430972ea",
   "metadata": {},
   "source": [
    "### Writing df changes"
   ]
  },
  {
   "cell_type": "code",
   "execution_count": 25,
   "id": "5378090a-6bad-48eb-b55d-a2e21844c3ad",
   "metadata": {},
   "outputs": [],
   "source": [
    "feature_list = list(merged_df.columns)\n",
    "\n",
    "df_features = pd.DataFrame(feature_list,columns =['features'])\n",
    "df_features['dropped'] = df_features.features.isin(drop_list)\n",
    "df_features['drop_reason'] = ['missing_values' if x in drop_missing_values \\\n",
    "                              else 'useless' if x in drop_useless_features \\\n",
    "                              else 'redundant' if x in drop_redundant_features \\\n",
    "                              else 'None' for x in df_features['features']]\n",
    "df_features['modified'] = df_features.features.isin(modified_list)"
   ]
  },
  {
   "cell_type": "code",
   "execution_count": 26,
   "id": "df86b518-d47e-42e0-9a8c-e7248db1549f",
   "metadata": {},
   "outputs": [
    {
     "data": {
      "text/html": [
       "<div>\n",
       "<style scoped>\n",
       "    .dataframe tbody tr th:only-of-type {\n",
       "        vertical-align: middle;\n",
       "    }\n",
       "\n",
       "    .dataframe tbody tr th {\n",
       "        vertical-align: top;\n",
       "    }\n",
       "\n",
       "    .dataframe thead th {\n",
       "        text-align: right;\n",
       "    }\n",
       "</style>\n",
       "<table border=\"1\" class=\"dataframe\">\n",
       "  <thead>\n",
       "    <tr style=\"text-align: right;\">\n",
       "      <th></th>\n",
       "      <th>features</th>\n",
       "      <th>dropped</th>\n",
       "      <th>drop_reason</th>\n",
       "      <th>modified</th>\n",
       "    </tr>\n",
       "  </thead>\n",
       "  <tbody>\n",
       "    <tr>\n",
       "      <th>0</th>\n",
       "      <td>backers_count</td>\n",
       "      <td>False</td>\n",
       "      <td>None</td>\n",
       "      <td>False</td>\n",
       "    </tr>\n",
       "    <tr>\n",
       "      <th>1</th>\n",
       "      <td>blurb</td>\n",
       "      <td>True</td>\n",
       "      <td>missing_values</td>\n",
       "      <td>False</td>\n",
       "    </tr>\n",
       "    <tr>\n",
       "      <th>2</th>\n",
       "      <td>category</td>\n",
       "      <td>False</td>\n",
       "      <td>None</td>\n",
       "      <td>True</td>\n",
       "    </tr>\n",
       "    <tr>\n",
       "      <th>3</th>\n",
       "      <td>converted_pledged_amount</td>\n",
       "      <td>False</td>\n",
       "      <td>None</td>\n",
       "      <td>False</td>\n",
       "    </tr>\n",
       "    <tr>\n",
       "      <th>4</th>\n",
       "      <td>country</td>\n",
       "      <td>False</td>\n",
       "      <td>None</td>\n",
       "      <td>False</td>\n",
       "    </tr>\n",
       "    <tr>\n",
       "      <th>5</th>\n",
       "      <td>created_at</td>\n",
       "      <td>False</td>\n",
       "      <td>None</td>\n",
       "      <td>True</td>\n",
       "    </tr>\n",
       "    <tr>\n",
       "      <th>6</th>\n",
       "      <td>creator</td>\n",
       "      <td>True</td>\n",
       "      <td>useless</td>\n",
       "      <td>False</td>\n",
       "    </tr>\n",
       "    <tr>\n",
       "      <th>7</th>\n",
       "      <td>currency</td>\n",
       "      <td>False</td>\n",
       "      <td>None</td>\n",
       "      <td>False</td>\n",
       "    </tr>\n",
       "    <tr>\n",
       "      <th>8</th>\n",
       "      <td>currency_symbol</td>\n",
       "      <td>True</td>\n",
       "      <td>useless</td>\n",
       "      <td>False</td>\n",
       "    </tr>\n",
       "    <tr>\n",
       "      <th>9</th>\n",
       "      <td>currency_trailing_code</td>\n",
       "      <td>False</td>\n",
       "      <td>None</td>\n",
       "      <td>False</td>\n",
       "    </tr>\n",
       "    <tr>\n",
       "      <th>10</th>\n",
       "      <td>current_currency</td>\n",
       "      <td>False</td>\n",
       "      <td>None</td>\n",
       "      <td>False</td>\n",
       "    </tr>\n",
       "    <tr>\n",
       "      <th>11</th>\n",
       "      <td>deadline</td>\n",
       "      <td>False</td>\n",
       "      <td>None</td>\n",
       "      <td>True</td>\n",
       "    </tr>\n",
       "    <tr>\n",
       "      <th>12</th>\n",
       "      <td>disable_communication</td>\n",
       "      <td>False</td>\n",
       "      <td>None</td>\n",
       "      <td>False</td>\n",
       "    </tr>\n",
       "    <tr>\n",
       "      <th>13</th>\n",
       "      <td>file</td>\n",
       "      <td>True</td>\n",
       "      <td>useless</td>\n",
       "      <td>False</td>\n",
       "    </tr>\n",
       "    <tr>\n",
       "      <th>14</th>\n",
       "      <td>friends</td>\n",
       "      <td>True</td>\n",
       "      <td>missing_values</td>\n",
       "      <td>False</td>\n",
       "    </tr>\n",
       "    <tr>\n",
       "      <th>15</th>\n",
       "      <td>fx_rate</td>\n",
       "      <td>False</td>\n",
       "      <td>None</td>\n",
       "      <td>False</td>\n",
       "    </tr>\n",
       "    <tr>\n",
       "      <th>16</th>\n",
       "      <td>goal</td>\n",
       "      <td>False</td>\n",
       "      <td>None</td>\n",
       "      <td>False</td>\n",
       "    </tr>\n",
       "    <tr>\n",
       "      <th>17</th>\n",
       "      <td>id</td>\n",
       "      <td>False</td>\n",
       "      <td>None</td>\n",
       "      <td>False</td>\n",
       "    </tr>\n",
       "    <tr>\n",
       "      <th>18</th>\n",
       "      <td>is_backing</td>\n",
       "      <td>True</td>\n",
       "      <td>missing_values</td>\n",
       "      <td>False</td>\n",
       "    </tr>\n",
       "    <tr>\n",
       "      <th>19</th>\n",
       "      <td>is_starrable</td>\n",
       "      <td>False</td>\n",
       "      <td>None</td>\n",
       "      <td>False</td>\n",
       "    </tr>\n",
       "    <tr>\n",
       "      <th>20</th>\n",
       "      <td>is_starred</td>\n",
       "      <td>True</td>\n",
       "      <td>missing_values</td>\n",
       "      <td>False</td>\n",
       "    </tr>\n",
       "    <tr>\n",
       "      <th>21</th>\n",
       "      <td>launched_at</td>\n",
       "      <td>False</td>\n",
       "      <td>None</td>\n",
       "      <td>True</td>\n",
       "    </tr>\n",
       "    <tr>\n",
       "      <th>22</th>\n",
       "      <td>location</td>\n",
       "      <td>True</td>\n",
       "      <td>missing_values</td>\n",
       "      <td>False</td>\n",
       "    </tr>\n",
       "    <tr>\n",
       "      <th>23</th>\n",
       "      <td>name</td>\n",
       "      <td>True</td>\n",
       "      <td>useless</td>\n",
       "      <td>False</td>\n",
       "    </tr>\n",
       "    <tr>\n",
       "      <th>24</th>\n",
       "      <td>permissions</td>\n",
       "      <td>True</td>\n",
       "      <td>missing_values</td>\n",
       "      <td>False</td>\n",
       "    </tr>\n",
       "    <tr>\n",
       "      <th>25</th>\n",
       "      <td>photo</td>\n",
       "      <td>True</td>\n",
       "      <td>useless</td>\n",
       "      <td>False</td>\n",
       "    </tr>\n",
       "    <tr>\n",
       "      <th>26</th>\n",
       "      <td>pledged</td>\n",
       "      <td>True</td>\n",
       "      <td>redundant</td>\n",
       "      <td>False</td>\n",
       "    </tr>\n",
       "    <tr>\n",
       "      <th>27</th>\n",
       "      <td>profile</td>\n",
       "      <td>True</td>\n",
       "      <td>useless</td>\n",
       "      <td>False</td>\n",
       "    </tr>\n",
       "    <tr>\n",
       "      <th>28</th>\n",
       "      <td>slug</td>\n",
       "      <td>True</td>\n",
       "      <td>useless</td>\n",
       "      <td>False</td>\n",
       "    </tr>\n",
       "    <tr>\n",
       "      <th>29</th>\n",
       "      <td>source_url</td>\n",
       "      <td>False</td>\n",
       "      <td>None</td>\n",
       "      <td>False</td>\n",
       "    </tr>\n",
       "    <tr>\n",
       "      <th>30</th>\n",
       "      <td>spotlight</td>\n",
       "      <td>False</td>\n",
       "      <td>None</td>\n",
       "      <td>False</td>\n",
       "    </tr>\n",
       "    <tr>\n",
       "      <th>31</th>\n",
       "      <td>staff_pick</td>\n",
       "      <td>False</td>\n",
       "      <td>None</td>\n",
       "      <td>False</td>\n",
       "    </tr>\n",
       "    <tr>\n",
       "      <th>32</th>\n",
       "      <td>state</td>\n",
       "      <td>False</td>\n",
       "      <td>None</td>\n",
       "      <td>True</td>\n",
       "    </tr>\n",
       "    <tr>\n",
       "      <th>33</th>\n",
       "      <td>state_changed_at</td>\n",
       "      <td>False</td>\n",
       "      <td>None</td>\n",
       "      <td>True</td>\n",
       "    </tr>\n",
       "    <tr>\n",
       "      <th>34</th>\n",
       "      <td>static_usd_rate</td>\n",
       "      <td>False</td>\n",
       "      <td>None</td>\n",
       "      <td>False</td>\n",
       "    </tr>\n",
       "    <tr>\n",
       "      <th>35</th>\n",
       "      <td>urls</td>\n",
       "      <td>True</td>\n",
       "      <td>useless</td>\n",
       "      <td>False</td>\n",
       "    </tr>\n",
       "    <tr>\n",
       "      <th>36</th>\n",
       "      <td>usd_pledged</td>\n",
       "      <td>True</td>\n",
       "      <td>redundant</td>\n",
       "      <td>False</td>\n",
       "    </tr>\n",
       "    <tr>\n",
       "      <th>37</th>\n",
       "      <td>usd_type</td>\n",
       "      <td>True</td>\n",
       "      <td>missing_values</td>\n",
       "      <td>False</td>\n",
       "    </tr>\n",
       "  </tbody>\n",
       "</table>\n",
       "</div>"
      ],
      "text/plain": [
       "                    features  dropped     drop_reason  modified\n",
       "0              backers_count    False            None     False\n",
       "1                      blurb     True  missing_values     False\n",
       "2                   category    False            None      True\n",
       "3   converted_pledged_amount    False            None     False\n",
       "4                    country    False            None     False\n",
       "5                 created_at    False            None      True\n",
       "6                    creator     True         useless     False\n",
       "7                   currency    False            None     False\n",
       "8            currency_symbol     True         useless     False\n",
       "9     currency_trailing_code    False            None     False\n",
       "10          current_currency    False            None     False\n",
       "11                  deadline    False            None      True\n",
       "12     disable_communication    False            None     False\n",
       "13                      file     True         useless     False\n",
       "14                   friends     True  missing_values     False\n",
       "15                   fx_rate    False            None     False\n",
       "16                      goal    False            None     False\n",
       "17                        id    False            None     False\n",
       "18                is_backing     True  missing_values     False\n",
       "19              is_starrable    False            None     False\n",
       "20                is_starred     True  missing_values     False\n",
       "21               launched_at    False            None      True\n",
       "22                  location     True  missing_values     False\n",
       "23                      name     True         useless     False\n",
       "24               permissions     True  missing_values     False\n",
       "25                     photo     True         useless     False\n",
       "26                   pledged     True       redundant     False\n",
       "27                   profile     True         useless     False\n",
       "28                      slug     True         useless     False\n",
       "29                source_url    False            None     False\n",
       "30                 spotlight    False            None     False\n",
       "31                staff_pick    False            None     False\n",
       "32                     state    False            None      True\n",
       "33          state_changed_at    False            None      True\n",
       "34           static_usd_rate    False            None     False\n",
       "35                      urls     True         useless     False\n",
       "36               usd_pledged     True       redundant     False\n",
       "37                  usd_type     True  missing_values     False"
      ]
     },
     "execution_count": 26,
     "metadata": {},
     "output_type": "execute_result"
    }
   ],
   "source": [
    "df_features"
   ]
  },
  {
   "cell_type": "markdown",
   "id": "ea8c3f66-dbf5-4f08-8f74-90c4e1bfa92e",
   "metadata": {
    "jp-MarkdownHeadingCollapsed": true,
    "tags": []
   },
   "source": [
    "# Data Exploration\n",
    "Purpose: we gotta form a hypotheses / story about our defined problem by visually analyzing the data"
   ]
  },
  {
   "cell_type": "code",
   "execution_count": 27,
   "id": "9d6eb912-c89d-4c24-ba2d-58bb082f544a",
   "metadata": {},
   "outputs": [],
   "source": [
    "#new dataset for exploration\n",
    "data_exp = final.copy()"
   ]
  },
  {
   "cell_type": "code",
   "execution_count": 28,
   "id": "2748971a-a298-40e3-b869-ad1564fa97c1",
   "metadata": {},
   "outputs": [],
   "source": [
    "# Seperate continious vs. categorical variables\n",
    "data_cat_col = ['category','country','sub_category','country','currency','current_currency','is_starrable','disable_communication','state']\n",
    "data_cont_col = [x for x in final if x not in data_cat_col]\n",
    "data_cat = final[data_cat_col]\n",
    "data_cont = final[data_cont_col]"
   ]
  },
  {
   "cell_type": "code",
   "execution_count": 29,
   "id": "343ff47a-d5fe-483e-b43e-4f337303f9c6",
   "metadata": {},
   "outputs": [
    {
     "data": {
      "text/plain": [
       "backers_count               41.997986\n",
       "converted_pledged_amount    34.422017\n",
       "currency_trailing_code      -1.671302\n",
       "disable_communication        0.000000\n",
       "fx_rate                     -2.244813\n",
       "goal                        73.476994\n",
       "id                          -0.002373\n",
       "is_starrable                 0.000000\n",
       "spotlight                   -0.449712\n",
       "staff_pick                   2.137329\n",
       "state                       -0.449712\n",
       "static_usd_rate             -1.144525\n",
       "launched_at_yr              -0.506230\n",
       "launched_at_mth             -0.028777\n",
       "dtype: float64"
      ]
     },
     "execution_count": 29,
     "metadata": {},
     "output_type": "execute_result"
    }
   ],
   "source": [
    "# Check if scaling is needed ( we can do this by looking at the .skew()\n",
    "final.skew()"
   ]
  },
  {
   "cell_type": "code",
   "execution_count": 30,
   "id": "54fc9b48-517d-4bbe-89ad-6a5a9fc75ac5",
   "metadata": {},
   "outputs": [
    {
     "data": {
      "image/png": "[encoded data removed]",
      "text/plain": [
       "<Figure size 792x648 with 2 Axes>"
      ]
     },
     "metadata": {},
     "output_type": "display_data"
    }
   ],
   "source": [
    "#Plot correlation heatmap for continious values\n",
    "mask = np.triu(np.ones_like(data_cont.corr(), dtype=np.bool))\n",
    "f, ax = plt.subplots(figsize=(11, 9))\n",
    "\n",
    "cmap = sns.diverging_palette(220, 10, as_cmap=True)\n",
    "\n",
    "sns.heatmap(data_cont.corr(), mask=mask, cmap=cmap, vmax=.3, center=0,\n",
    "            square=True, linewidths=.5, cbar_kws={\"shrink\": .5}, annot=True, fmt=\".1g\");\n"
   ]
  },
  {
   "cell_type": "code",
   "execution_count": 31,
   "id": "380bb54e-6fad-4bd3-b2e8-5ffd9907bc75",
   "metadata": {},
   "outputs": [
    {
     "data": {
      "image/png": "[encoded data removed]",
      "text/plain": [
       "<Figure size 432x288 with 1 Axes>"
      ]
     },
     "metadata": {},
     "output_type": "display_data"
    }
   ],
   "source": [
    "#Plot a histogram of our Target 'state' and see if it needs scaling for future work\n",
    "data_exp['state'].value_counts(ascending=True).plot(kind='bar');"
   ]
  },
  {
   "cell_type": "code",
   "execution_count": 32,
   "id": "79d7f66e-2ce6-4989-a90a-d554d4fd15e7",
   "metadata": {},
   "outputs": [
    {
     "data": {
      "image/png": "[encoded data removed]",
      "text/plain": [
       "<Figure size 1008x576 with 1 Axes>"
      ]
     },
     "metadata": {},
     "output_type": "display_data"
    }
   ],
   "source": [
    "plt.figure(figsize=(14,8))\n",
    "total = float(len(data_exp))\n",
    "\n",
    "ax = sns.countplot(x='category', hue='state',palette=\"ch:s=.25,rot=-.25\", data=data_exp)\n",
    "ax.set_xlabel(\"Category\")\n",
    "ax.set_ylabel(r\"Projects\")\n",
    "\n",
    "for p in ax.patches:\n",
    "    percentage = '{:.1f}%'.format(100 * p.get_height()/total)\n",
    "    x = p.get_x() + p.get_width()\n",
    "    y = p.get_height()\n",
    "    ax.annotate(percentage, (x, y),ha='right')\n",
    "plt.show()"
   ]
  },
  {
   "cell_type": "markdown",
   "id": "63573463-8799-44d0-95b4-09927821ee49",
   "metadata": {},
   "source": [
    "plt.figure(figsize=(14,10))\n",
    "\n",
    "sns.countplot(x='category', hue='state', data=data_exp);"
   ]
  },
  {
   "cell_type": "code",
   "execution_count": 33,
   "id": "9a95e897-3a9a-4657-9985-befcad00eb2e",
   "metadata": {},
   "outputs": [
    {
     "data": {
      "image/png": "[encoded data removed]",
      "text/plain": [
       "<Figure size 1008x576 with 2 Axes>"
      ]
     },
     "metadata": {},
     "output_type": "display_data"
    }
   ],
   "source": [
    "fig=plt.figure(figsize=(14,8))\n",
    "ax1 = fig.add_subplot(111)\n",
    "ax2 = ax1.twinx()\n",
    "#width = [4,2,3,1,5,3,5,7,8,7]\n",
    "# changes here\n",
    "ax1 = sns.histplot(x=data_exp.launched_at_yr, data=data_exp,color=\"black\",ax=ax1)\n",
    "sns.lineplot(x=data_exp.launched_at_yr, y=data_exp.converted_pledged_amount,data=data_exp,color=\"red\", ax=ax2)\n",
    "\n",
    "ax1.set_xlabel(\"Year\")\n",
    "ax1.set_ylabel(r\"Projects\")\n",
    "ax2.set_ylabel(r\"Pledged Amount\")\n",
    "\n",
    "\n",
    "# and here\n",
    "#plt.xticks(data_exp.index, rotation=60)\n",
    "plt.show()"
   ]
  },
  {
   "cell_type": "markdown",
   "id": "0957d76a-8ab1-4250-8231-3589e03372a0",
   "metadata": {},
   "source": [
    "# Feature Engineering"
   ]
  },
  {
   "cell_type": "code",
   "execution_count": 34,
   "id": "3f8ebdb7-ebea-4601-963c-ea4e24d20f22",
   "metadata": {},
   "outputs": [],
   "source": [
    "new_features_list = ['pledged_over', 'campaign_days', 'pre_launched_days', 'launched_at_yr','launched_at_mth', 'goal_converted','goal_converted_log','backers_count_log']"
   ]
  },
  {
   "cell_type": "code",
   "execution_count": 35,
   "id": "26d2ffe0-f887-4897-a140-5aa0f2e7910a",
   "metadata": {},
   "outputs": [],
   "source": [
    "#create new features\n",
    "final['pledged_over'] = final.converted_pledged_amount - final.goal \n",
    "final['campaign_days'] = ((final.deadline - final.launched_at)/ np.timedelta64(1, 'h')).astype(int)\n",
    "final['pre_launched_days'] = ((final.launched_at - final.created_at)/ np.timedelta64(1, 'h')).astype(int)\n",
    "final['goal_converted'] = final[\"goal\"] * final[\"static_usd_rate\"]\n",
    "\n",
    "\n"
   ]
  },
  {
   "cell_type": "code",
   "execution_count": 36,
   "id": "9c81d5ba-83a0-4c92-b3bc-2194896c9e18",
   "metadata": {},
   "outputs": [],
   "source": [
    "#use log on stuff\n",
    "final['converted_pledged_amount_log'] = np.log(final['converted_pledged_amount']+1)\n",
    "final['backers_count_log'] = np.log(final['backers_count']+1)\n",
    "final['goal_converted_log'] = np.log(final['goal_converted']+1)"
   ]
  },
  {
   "cell_type": "code",
   "execution_count": 37,
   "id": "d9fcc2ba-62cf-4804-919d-199d11a56be6",
   "metadata": {},
   "outputs": [],
   "source": [
    "#second drop of features :\n",
    "drop_missing_values2 = ['backers_count', 'created_at', 'currency', 'currency_trailing_code', 'current_currency',\n",
    "                        'deadline','disable_communication','fx_rate','id','launched_at','source_url','state_changed_at',\n",
    "                        'static_usd_rate','sub_category','launched_at_yr','pledged_over','goal',\n",
    "                        'backers_count_log','goal_converted','is_starrable','converted_pledged_amount','converted_pledged_amount_log','pre_launched_days','spotlight']\n",
    "final_pre = final.drop(drop_missing_values2, axis=1)\n"
   ]
  },
  {
   "cell_type": "code",
   "execution_count": 38,
   "id": "da442399-de5d-4f44-8e38-e3e964073eae",
   "metadata": {},
   "outputs": [
    {
     "data": {
      "text/html": [
       "<div>\n",
       "<style scoped>\n",
       "    .dataframe tbody tr th:only-of-type {\n",
       "        vertical-align: middle;\n",
       "    }\n",
       "\n",
       "    .dataframe tbody tr th {\n",
       "        vertical-align: top;\n",
       "    }\n",
       "\n",
       "    .dataframe thead th {\n",
       "        text-align: right;\n",
       "    }\n",
       "</style>\n",
       "<table border=\"1\" class=\"dataframe\">\n",
       "  <thead>\n",
       "    <tr style=\"text-align: right;\">\n",
       "      <th></th>\n",
       "      <th>category</th>\n",
       "      <th>country</th>\n",
       "      <th>staff_pick</th>\n",
       "      <th>state</th>\n",
       "      <th>launched_at_mth</th>\n",
       "      <th>campaign_days</th>\n",
       "      <th>goal_converted_log</th>\n",
       "    </tr>\n",
       "  </thead>\n",
       "  <tbody>\n",
       "    <tr>\n",
       "      <th>1</th>\n",
       "      <td>games</td>\n",
       "      <td>US</td>\n",
       "      <td>0</td>\n",
       "      <td>1</td>\n",
       "      <td>8</td>\n",
       "      <td>720</td>\n",
       "      <td>6.908755</td>\n",
       "    </tr>\n",
       "    <tr>\n",
       "      <th>2</th>\n",
       "      <td>music</td>\n",
       "      <td>US</td>\n",
       "      <td>0</td>\n",
       "      <td>1</td>\n",
       "      <td>5</td>\n",
       "      <td>720</td>\n",
       "      <td>9.615872</td>\n",
       "    </tr>\n",
       "    <tr>\n",
       "      <th>3</th>\n",
       "      <td>games</td>\n",
       "      <td>GB</td>\n",
       "      <td>0</td>\n",
       "      <td>0</td>\n",
       "      <td>1</td>\n",
       "      <td>1439</td>\n",
       "      <td>9.406043</td>\n",
       "    </tr>\n",
       "    <tr>\n",
       "      <th>4</th>\n",
       "      <td>publishing</td>\n",
       "      <td>US</td>\n",
       "      <td>0</td>\n",
       "      <td>1</td>\n",
       "      <td>12</td>\n",
       "      <td>720</td>\n",
       "      <td>7.937732</td>\n",
       "    </tr>\n",
       "    <tr>\n",
       "      <th>5</th>\n",
       "      <td>music</td>\n",
       "      <td>US</td>\n",
       "      <td>0</td>\n",
       "      <td>1</td>\n",
       "      <td>4</td>\n",
       "      <td>720</td>\n",
       "      <td>8.160804</td>\n",
       "    </tr>\n",
       "  </tbody>\n",
       "</table>\n",
       "</div>"
      ],
      "text/plain": [
       "     category country  staff_pick  state  launched_at_mth  campaign_days  \\\n",
       "1       games      US           0      1                8            720   \n",
       "2       music      US           0      1                5            720   \n",
       "3       games      GB           0      0                1           1439   \n",
       "4  publishing      US           0      1               12            720   \n",
       "5       music      US           0      1                4            720   \n",
       "\n",
       "   goal_converted_log  \n",
       "1            6.908755  \n",
       "2            9.615872  \n",
       "3            9.406043  \n",
       "4            7.937732  \n",
       "5            8.160804  "
      ]
     },
     "execution_count": 38,
     "metadata": {},
     "output_type": "execute_result"
    }
   ],
   "source": [
    "final_pre.head()"
   ]
  },
  {
   "cell_type": "code",
   "execution_count": 39,
   "id": "e86391d2-4814-4937-99cb-62ee40fafd62",
   "metadata": {},
   "outputs": [],
   "source": [
    "dummy_df = final_pre.copy()"
   ]
  },
  {
   "cell_type": "code",
   "execution_count": 40,
   "id": "3ab2a145-d255-4475-ad1f-c08b82c18a29",
   "metadata": {},
   "outputs": [],
   "source": [
    "category_dummies = pd.get_dummies(dummy_df['category'], prefix='cat', drop_first=True) \n",
    "country_dummies = pd.get_dummies(dummy_df['country'], prefix='country', drop_first=True)\n",
    "dummy_df = dummy_df.drop(['category','country'], axis=1) \n",
    "dummy_df = pd.concat([dummy_df, category_dummies, country_dummies], axis=1) "
   ]
  },
  {
   "cell_type": "code",
   "execution_count": 41,
   "id": "66b52b96-c53b-4aa4-8961-966e2753beba",
   "metadata": {},
   "outputs": [
    {
     "name": "stdout",
     "output_type": "stream",
     "text": [
      "<class 'pandas.core.frame.DataFrame'>\n",
      "Int64Index: 192664 entries, 1 to 209221\n",
      "Data columns (total 40 columns):\n",
      " #   Column              Non-Null Count   Dtype  \n",
      "---  ------              --------------   -----  \n",
      " 0   staff_pick          192664 non-null  int64  \n",
      " 1   state               192664 non-null  int64  \n",
      " 2   launched_at_mth     192664 non-null  int64  \n",
      " 3   campaign_days       192664 non-null  int64  \n",
      " 4   goal_converted_log  192664 non-null  float64\n",
      " 5   cat_comics          192664 non-null  uint8  \n",
      " 6   cat_crafts          192664 non-null  uint8  \n",
      " 7   cat_dance           192664 non-null  uint8  \n",
      " 8   cat_design          192664 non-null  uint8  \n",
      " 9   cat_fashion         192664 non-null  uint8  \n",
      " 10  cat_film_&_video    192664 non-null  uint8  \n",
      " 11  cat_food            192664 non-null  uint8  \n",
      " 12  cat_games           192664 non-null  uint8  \n",
      " 13  cat_journalism      192664 non-null  uint8  \n",
      " 14  cat_music           192664 non-null  uint8  \n",
      " 15  cat_photography     192664 non-null  uint8  \n",
      " 16  cat_publishing      192664 non-null  uint8  \n",
      " 17  cat_technology      192664 non-null  uint8  \n",
      " 18  cat_theater         192664 non-null  uint8  \n",
      " 19  country_AU          192664 non-null  uint8  \n",
      " 20  country_BE          192664 non-null  uint8  \n",
      " 21  country_CA          192664 non-null  uint8  \n",
      " 22  country_CH          192664 non-null  uint8  \n",
      " 23  country_DE          192664 non-null  uint8  \n",
      " 24  country_DK          192664 non-null  uint8  \n",
      " 25  country_ES          192664 non-null  uint8  \n",
      " 26  country_FR          192664 non-null  uint8  \n",
      " 27  country_GB          192664 non-null  uint8  \n",
      " 28  country_HK          192664 non-null  uint8  \n",
      " 29  country_IE          192664 non-null  uint8  \n",
      " 30  country_IT          192664 non-null  uint8  \n",
      " 31  country_JP          192664 non-null  uint8  \n",
      " 32  country_LU          192664 non-null  uint8  \n",
      " 33  country_MX          192664 non-null  uint8  \n",
      " 34  country_NL          192664 non-null  uint8  \n",
      " 35  country_NO          192664 non-null  uint8  \n",
      " 36  country_NZ          192664 non-null  uint8  \n",
      " 37  country_SE          192664 non-null  uint8  \n",
      " 38  country_SG          192664 non-null  uint8  \n",
      " 39  country_US          192664 non-null  uint8  \n",
      "dtypes: float64(1), int64(4), uint8(35)\n",
      "memory usage: 19.3 MB\n"
     ]
    }
   ],
   "source": [
    "dummy_df.info()"
   ]
  },
  {
   "cell_type": "markdown",
   "id": "48312e2e-2111-406b-8186-4bff05ad1b54",
   "metadata": {},
   "source": [
    "# Preprocessing (Train/Test Split and Basemodel) with Dummy Variables\n",
    "In order to apply modelling on different dataset types, we should consider a nice way to do the splits.\n",
    "\n",
    "\n"
   ]
  },
  {
   "cell_type": "code",
   "execution_count": 42,
   "id": "f986a02f-8eca-4459-8894-f762814eb628",
   "metadata": {},
   "outputs": [],
   "source": [
    "X = dummy_df.drop([\"state\"], axis=1)\n",
    "y = dummy_df[\"state\"]"
   ]
  },
  {
   "cell_type": "code",
   "execution_count": 43,
   "id": "59bbd248-bd74-43c1-98b4-9156c986384a",
   "metadata": {},
   "outputs": [],
   "source": [
    "X_train, X_test, y_train, y_test= train_test_split(X,y,test_size=test_size,\n",
    "                                                        random_state=random_state,\n",
    "                                                        shuffle=True,\n",
    "                                                   stratify=y)"
   ]
  },
  {
   "cell_type": "code",
   "execution_count": 44,
   "id": "88311972-4188-475e-aa5c-4c8c9ea207f8",
   "metadata": {},
   "outputs": [
    {
     "name": "stdout",
     "output_type": "stream",
     "text": [
      "[[    0 22560]\n",
      " [    0 35240]]\n",
      "              precision    recall  f1-score   support\n",
      "\n",
      "           0       0.00      0.00      0.00     22560\n",
      "           1       0.61      1.00      0.76     35240\n",
      "\n",
      "    accuracy                           0.61     57800\n",
      "   macro avg       0.30      0.50      0.38     57800\n",
      "weighted avg       0.37      0.61      0.46     57800\n",
      "\n"
     ]
    }
   ],
   "source": [
    "dum_clf = DummyClassifier(strategy='constant',constant=1).fit(X_train,y_train)\n",
    "y_pred_dum_clf = dum_clf.predict(X_test)\n",
    "\n",
    "print(confusion_matrix(y_test,y_pred_dum_clf))\n",
    "print(classification_report(y_test,y_pred_dum_clf))\n",
    "\n"
   ]
  },
  {
   "cell_type": "code",
   "execution_count": null,
   "id": "1b010040-ca6b-4eca-82e3-d788ecec5af7",
   "metadata": {},
   "outputs": [],
   "source": []
  },
  {
   "cell_type": "code",
   "execution_count": 45,
   "id": "fca1cb6d-fc25-476b-b00c-1f35cb0d6a84",
   "metadata": {},
   "outputs": [],
   "source": [
    "#Random Forest Classifier\n",
    "rfc = RandomForestClassifier(n_estimators=100, \n",
    "                               random_state=random_state,\n",
    "                               max_depth=5,\n",
    "                               max_features = 'sqrt',\n",
    "                               n_jobs=-1, verbose = 1)\n",
    "\n",
    "\n",
    "def random_forest(X_train, y_train, X_test, Y_test, rfc):\n",
    "    rfc.fit(X_train, y_train)\n",
    "    pred_train = rfc.predict(X_train)\n",
    "    pred_test = rfc.predict(X_test)\n",
    "    print(f1_score(y_test, pred_test))\n",
    "    print(classification_report(y_test, pred_test)) \n",
    "    print(confusion_matrix(y_test, pred_test))\n",
    "    sns.heatmap(confusion_matrix(y_test, pred_test), annot=True, cmap='YlGn', fmt='d');\n",
    "    return pred_train, pred_test\n"
   ]
  },
  {
   "cell_type": "code",
   "execution_count": 46,
   "id": "5c4e6254-43f3-4523-87b2-ec1dc8c954b6",
   "metadata": {},
   "outputs": [
    {
     "name": "stderr",
     "output_type": "stream",
     "text": [
      "[Parallel(n_jobs=-1)]: Using backend ThreadingBackend with 8 concurrent workers.\n",
      "[Parallel(n_jobs=-1)]: Done  34 tasks      | elapsed:    0.2s\n",
      "[Parallel(n_jobs=-1)]: Done 100 out of 100 | elapsed:    0.6s finished\n",
      "[Parallel(n_jobs=8)]: Using backend ThreadingBackend with 8 concurrent workers.\n",
      "[Parallel(n_jobs=8)]: Done  34 tasks      | elapsed:    0.0s\n",
      "[Parallel(n_jobs=8)]: Done 100 out of 100 | elapsed:    0.1s finished\n",
      "[Parallel(n_jobs=8)]: Using backend ThreadingBackend with 8 concurrent workers.\n",
      "[Parallel(n_jobs=8)]: Done  34 tasks      | elapsed:    0.0s\n",
      "[Parallel(n_jobs=8)]: Done 100 out of 100 | elapsed:    0.0s finished\n"
     ]
    },
    {
     "name": "stdout",
     "output_type": "stream",
     "text": [
      "0.7886648943145648\n",
      "              precision    recall  f1-score   support\n",
      "\n",
      "           0       0.76      0.31      0.44     22560\n",
      "           1       0.68      0.94      0.79     35240\n",
      "\n",
      "    accuracy                           0.69     57800\n",
      "   macro avg       0.72      0.62      0.61     57800\n",
      "weighted avg       0.71      0.69      0.65     57800\n",
      "\n",
      "[[ 6996 15564]\n",
      " [ 2163 33077]]\n"
     ]
    },
    {
     "data": {
      "image/png": "[encoded data removed]",
      "text/plain": [
       "<Figure size 432x288 with 2 Axes>"
      ]
     },
     "metadata": {},
     "output_type": "display_data"
    }
   ],
   "source": [
    "rfcmodel = random_forest(X_train, y_train, X_test, y_test, rfc)"
   ]
  },
  {
   "cell_type": "markdown",
   "id": "c7a2591a-f804-40ce-aebe-70724d325379",
   "metadata": {},
   "source": [
    "# Preprocessing (Train/Test Split and Basemodel) with Pipeline and Columntransformer\n",
    "In order to apply modelling on different dataset types, we should consider a nice way to do the splits.\n",
    "\n"
   ]
  },
  {
   "cell_type": "code",
   "execution_count": 47,
   "id": "aff6a60e-4abd-45f6-90f0-72eea81ffbe9",
   "metadata": {},
   "outputs": [],
   "source": [
    "#define predictors and target variable X,y\n",
    "X = final_pre.drop([\"state\"], axis=1)\n",
    "y = final_pre[\"state\"]"
   ]
  },
  {
   "cell_type": "code",
   "execution_count": 48,
   "id": "6bfc77c5-2b5f-47e5-856f-2bda601ac920",
   "metadata": {},
   "outputs": [],
   "source": [
    "#Split data into training and testing sets\n",
    "X_train, X_test, y_train, y_test= train_test_split(X,y,test_size=test_size,\n",
    "                                                        random_state=random_state,\n",
    "                                                        shuffle=True,\n",
    "                                                   stratify=None)\n",
    "# X_train = np.array(X_train)\n",
    "# X_test = np.array(X_test)\n",
    "# y_train = np.array(y_train)\n",
    "# y_test = np.array(y_test)"
   ]
  },
  {
   "cell_type": "code",
   "execution_count": 49,
   "id": "58ca3113-cd31-4b22-a359-77fdb1f469aa",
   "metadata": {},
   "outputs": [
    {
     "name": "stdout",
     "output_type": "stream",
     "text": [
      "[[    0 22691]\n",
      " [    0 35109]]\n",
      "              precision    recall  f1-score   support\n",
      "\n",
      "           0       0.00      0.00      0.00     22691\n",
      "           1       0.61      1.00      0.76     35109\n",
      "\n",
      "    accuracy                           0.61     57800\n",
      "   macro avg       0.30      0.50      0.38     57800\n",
      "weighted avg       0.37      0.61      0.46     57800\n",
      "\n"
     ]
    }
   ],
   "source": [
    "# create a dummy classifier model as Basemodel\n",
    "dum_clf = DummyClassifier(strategy='constant',constant=1).fit(X_train,y_train)\n",
    "y_pred_dum_clf = dum_clf.predict(X_test)\n",
    "\n",
    "print(confusion_matrix(y_test,y_pred_dum_clf))\n",
    "print(classification_report(y_test,y_pred_dum_clf))\n"
   ]
  },
  {
   "cell_type": "code",
   "execution_count": 50,
   "id": "4c10bd42-2558-4e4c-a585-ea4020deeb22",
   "metadata": {},
   "outputs": [
    {
     "data": {
      "text/html": [
       "<div>\n",
       "<style scoped>\n",
       "    .dataframe tbody tr th:only-of-type {\n",
       "        vertical-align: middle;\n",
       "    }\n",
       "\n",
       "    .dataframe tbody tr th {\n",
       "        vertical-align: top;\n",
       "    }\n",
       "\n",
       "    .dataframe thead th {\n",
       "        text-align: right;\n",
       "    }\n",
       "</style>\n",
       "<table border=\"1\" class=\"dataframe\">\n",
       "  <thead>\n",
       "    <tr style=\"text-align: right;\">\n",
       "      <th></th>\n",
       "      <th>category</th>\n",
       "      <th>country</th>\n",
       "      <th>staff_pick</th>\n",
       "      <th>launched_at_mth</th>\n",
       "      <th>campaign_days</th>\n",
       "      <th>goal_converted_log</th>\n",
       "    </tr>\n",
       "  </thead>\n",
       "  <tbody>\n",
       "    <tr>\n",
       "      <th>96786</th>\n",
       "      <td>art</td>\n",
       "      <td>US</td>\n",
       "      <td>0</td>\n",
       "      <td>9</td>\n",
       "      <td>720</td>\n",
       "      <td>6.111467</td>\n",
       "    </tr>\n",
       "    <tr>\n",
       "      <th>85840</th>\n",
       "      <td>art</td>\n",
       "      <td>US</td>\n",
       "      <td>0</td>\n",
       "      <td>3</td>\n",
       "      <td>852</td>\n",
       "      <td>8.006701</td>\n",
       "    </tr>\n",
       "    <tr>\n",
       "      <th>35560</th>\n",
       "      <td>technology</td>\n",
       "      <td>US</td>\n",
       "      <td>0</td>\n",
       "      <td>11</td>\n",
       "      <td>720</td>\n",
       "      <td>9.903538</td>\n",
       "    </tr>\n",
       "    <tr>\n",
       "      <th>71170</th>\n",
       "      <td>art</td>\n",
       "      <td>US</td>\n",
       "      <td>0</td>\n",
       "      <td>12</td>\n",
       "      <td>1080</td>\n",
       "      <td>5.860786</td>\n",
       "    </tr>\n",
       "    <tr>\n",
       "      <th>49633</th>\n",
       "      <td>dance</td>\n",
       "      <td>GB</td>\n",
       "      <td>0</td>\n",
       "      <td>6</td>\n",
       "      <td>701</td>\n",
       "      <td>8.945829</td>\n",
       "    </tr>\n",
       "  </tbody>\n",
       "</table>\n",
       "</div>"
      ],
      "text/plain": [
       "         category country  staff_pick  launched_at_mth  campaign_days  \\\n",
       "96786         art      US           0                9            720   \n",
       "85840         art      US           0                3            852   \n",
       "35560  technology      US           0               11            720   \n",
       "71170         art      US           0               12           1080   \n",
       "49633       dance      GB           0                6            701   \n",
       "\n",
       "       goal_converted_log  \n",
       "96786            6.111467  \n",
       "85840            8.006701  \n",
       "35560            9.903538  \n",
       "71170            5.860786  \n",
       "49633            8.945829  "
      ]
     },
     "execution_count": 50,
     "metadata": {},
     "output_type": "execute_result"
    }
   ],
   "source": [
    "X_train.head()"
   ]
  },
  {
   "cell_type": "markdown",
   "id": "006f4921-0c89-40c5-b0e3-e2d85affa07f",
   "metadata": {},
   "source": [
    "ct = ColumnTransformer([('Category', OneHotEncoder(), [0])], remainder = 'passthrough')\n",
    "\n",
    "X = ct.fit_transform(X)\n"
   ]
  },
  {
   "cell_type": "markdown",
   "id": "f826ae30-0191-41bb-b0dc-9a627e66aca9",
   "metadata": {},
   "source": [
    "___Pipeline for preprocessing and feature scaling___"
   ]
  },
  {
   "cell_type": "code",
   "execution_count": 51,
   "id": "a4dd5a6a-8bb1-46d3-881b-88554e42c959",
   "metadata": {},
   "outputs": [
    {
     "data": {
      "text/plain": [
       "['category', 'country']"
      ]
     },
     "execution_count": 51,
     "metadata": {},
     "output_type": "execute_result"
    }
   ],
   "source": [
    "# Creating a list for categorical predictors/features (used in scaling with preprocessing pipeline)\n",
    "cat_features = list(final_pre.columns[final_pre.dtypes==object])\n",
    "cat_features"
   ]
  },
  {
   "cell_type": "code",
   "execution_count": 52,
   "id": "52bb3501-2988-44b0-959c-3cc8e4bf150a",
   "metadata": {},
   "outputs": [
    {
     "data": {
      "text/plain": [
       "['staff_pick', 'launched_at_mth', 'campaign_days', 'goal_converted_log']"
      ]
     },
     "execution_count": 52,
     "metadata": {},
     "output_type": "execute_result"
    }
   ],
   "source": [
    "# Creating a list for numerical predictors/features (used in scaling with preprocessing pipeline)\n",
    "num_features = list(final_pre.columns[final_pre.dtypes!=object])\n",
    "num_features.remove('state')\n",
    "num_features"
   ]
  },
  {
   "cell_type": "code",
   "execution_count": 53,
   "id": "1b413333-5082-4acf-bed4-d84fd2555347",
   "metadata": {},
   "outputs": [],
   "source": [
    "#Pipeline for preprocessing\n",
    "from sklearn.pipeline import Pipeline\n",
    "from sklearn.preprocessing import StandardScaler\n",
    "\n",
    "num_pipeline = Pipeline([\n",
    "            ('imputer_num', SimpleImputer(strategy=\"median\")),\n",
    "            ('std_scaler', StandardScaler()),\n",
    "])\n",
    "\n",
    "cat_pipeline = Pipeline([\n",
    "            ('onehot', OneHotEncoder(handle_unknown=\"ignore\"))\n",
    "])\n",
    "\n",
    "#Finish Pipeline\n",
    "\n",
    "preprocessor = ColumnTransformer([\n",
    "    ('num', num_pipeline, num_features),\n",
    "    ('cat', cat_pipeline, cat_features)\n",
    "])\n",
    "\n",
    "\n"
   ]
  },
  {
   "cell_type": "code",
   "execution_count": 54,
   "id": "f6ef60d9-5cf1-4e89-bc70-a4c644542038",
   "metadata": {},
   "outputs": [],
   "source": [
    "#As with all the transformations, it is important to fit the scalers to the training data only, not to the full dataset (including the test set). \n",
    "#Only then can you use them to transform the training set and the test set (and new data).\n",
    "#X_train = preprocessor.fit_transform(X_train)\n",
    "#X_test = preprocessor.transform(X_test)\n"
   ]
  },
  {
   "cell_type": "markdown",
   "id": "edb564e6-6bd0-4e07-a454-b71659742c12",
   "metadata": {},
   "source": [
    "# Predictive Modelling\n",
    "Purpose: Train machine learning models (supervised), evaluate their performance and use them to make predictions"
   ]
  },
  {
   "cell_type": "markdown",
   "id": "c88b0880-0d2b-4ace-b9cd-a0f4fc86a86e",
   "metadata": {},
   "source": [
    "___Pipelines for Models___"
   ]
  },
  {
   "cell_type": "markdown",
   "id": "a26fea26-6a68-40a2-99b7-92c7a27fa8c0",
   "metadata": {},
   "source": [
    "___Logistic Regression___"
   ]
  },
  {
   "cell_type": "code",
   "execution_count": 58,
   "id": "9f4ce1a1-cc20-4b70-be40-a9e7def5e6f0",
   "metadata": {},
   "outputs": [],
   "source": [
    "pipeline_logreg = Pipeline([\n",
    "    ('preprocessor', preprocessor),\n",
    "    ('logreg', LogisticRegression(max_iter=1000))\n",
    "])"
   ]
  },
  {
   "cell_type": "code",
   "execution_count": 78,
   "id": "d86e7636-1041-4013-92c4-7644bd9169a7",
   "metadata": {},
   "outputs": [
    {
     "data": {
      "text/plain": [
       "Pipeline(steps=[('preprocessor',\n",
       "                 ColumnTransformer(transformers=[('num',\n",
       "                                                  Pipeline(steps=[('imputer_num',\n",
       "                                                                   SimpleImputer(strategy='median')),\n",
       "                                                                  ('std_scaler',\n",
       "                                                                   StandardScaler())]),\n",
       "                                                  ['staff_pick',\n",
       "                                                   'launched_at_mth',\n",
       "                                                   'campaign_days',\n",
       "                                                   'goal_converted_log']),\n",
       "                                                 ('cat',\n",
       "                                                  Pipeline(steps=[('onehot',\n",
       "                                                                   OneHotEncoder(handle_unknown='ignore'))]),\n",
       "                                                  ['category', 'country'])])),\n",
       "                ('logreg', LogisticRegression(max_iter=1000))])"
      ]
     },
     "execution_count": 78,
     "metadata": {},
     "output_type": "execute_result"
    }
   ],
   "source": [
    "# Logistic regression (using pipeline, making predictions using cross validation and probabilities)\n",
    "pipeline_logreg.fit(X_train,y_train)"
   ]
  },
  {
   "cell_type": "code",
   "execution_count": 79,
   "id": "299e3503-0463-46e9-8a6a-5dac4f40716b",
   "metadata": {},
   "outputs": [],
   "source": [
    "y_pred_logreg = pipeline_logreg.predict(X_test)"
   ]
  },
  {
   "cell_type": "code",
   "execution_count": 87,
   "id": "0788c7d1-67ad-4554-8ffa-7f26a959cd83",
   "metadata": {},
   "outputs": [
    {
     "name": "stdout",
     "output_type": "stream",
     "text": [
      "Scores for logistic regression:\n",
      "              precision    recall  f1-score   support\n",
      "\n",
      "           0       0.68      0.52      0.59     22691\n",
      "           1       0.73      0.84      0.78     35109\n",
      "\n",
      "    accuracy                           0.71     57800\n",
      "   macro avg       0.70      0.68      0.69     57800\n",
      "weighted avg       0.71      0.71      0.71     57800\n",
      "\n",
      "Confusion Matrix: \n",
      "[[11898 10793]\n",
      " [ 5686 29423]]\n"
     ]
    },
    {
     "data": {
      "image/png": "[encoded data removed]",
      "text/plain": [
       "<Figure size 432x288 with 2 Axes>"
      ]
     },
     "metadata": {},
     "output_type": "display_data"
    }
   ],
   "source": [
    "print('Scores for logistic regression:')\n",
    "print(classification_report(y_test, y_pred_logreg)) \n",
    "print(\"Confusion Matrix: \\n\" + str(confusion_matrix(y_test, y_pred_logreg)))\n",
    "sns.heatmap(confusion_matrix(y_test, y_pred_logreg), annot=True, cmap='YlGn', fmt='d');"
   ]
  },
  {
   "cell_type": "markdown",
   "id": "e5a9207d-eae1-4a2d-9b98-8dcdaba36fd8",
   "metadata": {},
   "source": [
    "-------------------------------------------------------------------"
   ]
  },
  {
   "cell_type": "markdown",
   "id": "13e4d45a-955d-4f88-be11-ecaf2247a969",
   "metadata": {},
   "source": [
    "___Support Vector Machine___"
   ]
  },
  {
   "cell_type": "code",
   "execution_count": 101,
   "id": "2151c8be-af87-4756-b498-6308e93a983b",
   "metadata": {},
   "outputs": [],
   "source": [
    "pipeline_svc = Pipeline([\n",
    "    ('preprocessor', preprocessor),\n",
    "    ('svc', SVC(kernel='rbf'))\n",
    "])"
   ]
  },
  {
   "cell_type": "code",
   "execution_count": 102,
   "id": "1cfde2b6-2404-47b8-820b-28969dda8bee",
   "metadata": {},
   "outputs": [
    {
     "data": {
      "text/plain": [
       "Pipeline(steps=[('preprocessor',\n",
       "                 ColumnTransformer(transformers=[('num',\n",
       "                                                  Pipeline(steps=[('imputer_num',\n",
       "                                                                   SimpleImputer(strategy='median')),\n",
       "                                                                  ('std_scaler',\n",
       "                                                                   StandardScaler())]),\n",
       "                                                  ['staff_pick',\n",
       "                                                   'launched_at_mth',\n",
       "                                                   'campaign_days',\n",
       "                                                   'goal_converted_log']),\n",
       "                                                 ('cat',\n",
       "                                                  Pipeline(steps=[('onehot',\n",
       "                                                                   OneHotEncoder(handle_unknown='ignore'))]),\n",
       "                                                  ['category', 'country'])])),\n",
       "                ('svc', SVC())])"
      ]
     },
     "execution_count": 102,
     "metadata": {},
     "output_type": "execute_result"
    }
   ],
   "source": [
    "\n",
    "pipeline_svc.fit(X_train,y_train)"
   ]
  },
  {
   "cell_type": "code",
   "execution_count": 103,
   "id": "f0f86144-0bcf-49bc-b45d-70cecf39c82a",
   "metadata": {},
   "outputs": [],
   "source": [
    "y_pred_svc = pipeline_svc.predict(X_test)"
   ]
  },
  {
   "cell_type": "code",
   "execution_count": 104,
   "id": "362dec17-5bfc-48e1-9f31-a69cbc9f7ecb",
   "metadata": {},
   "outputs": [
    {
     "name": "stdout",
     "output_type": "stream",
     "text": [
      "Scores for Support Vector Machine:\n",
      "              precision    recall  f1-score   support\n",
      "\n",
      "           0       0.70      0.51      0.59     22691\n",
      "           1       0.73      0.86      0.79     35109\n",
      "\n",
      "    accuracy                           0.72     57800\n",
      "   macro avg       0.71      0.68      0.69     57800\n",
      "weighted avg       0.72      0.72      0.71     57800\n",
      "\n",
      "Confusion Matrix: \n",
      "[[11591 11100]\n",
      " [ 5013 30096]]\n"
     ]
    }
   ],
   "source": [
    "print('Scores for Support Vector Machine:')\n",
    "print(classification_report(y_test, y_pred_svc)) \n",
    "print(\"Confusion Matrix: \\n\" + str(confusion_matrix(y_test, y_pred_svc)))"
   ]
  },
  {
   "cell_type": "markdown",
   "id": "2f42c241-8403-45b3-8889-26a629d25019",
   "metadata": {},
   "source": [
    "___Grid Search for SVM___"
   ]
  },
  {
   "cell_type": "markdown",
   "id": "cc1cde68-c5d4-4766-a3f0-e65c21eca7ce",
   "metadata": {
    "tags": []
   },
   "source": [
    "# Tune model with GridSearchCV (find optimal C)\n",
    "param_grid = {'svc__C': [500, 1000, 2000],\n",
    "              'svc__gamma': [0.1, 0.5, 1],\n",
    "             'svc__kernel': [\"rbf\"]} # [\"linear\", \"rbf\", \"poly\"] Others: kernel, degree (only for poly)\n",
    "grid_svc = GridSearchCV(pipeline_svc, param_grid, cv=5, scoring=scoring, \n",
    "                           verbose=4, n_jobs=-1)"
   ]
  },
  {
   "cell_type": "code",
   "execution_count": 64,
   "id": "42b4fd3a-cd5a-4a7a-b898-9e944ad05595",
   "metadata": {},
   "outputs": [],
   "source": [
    "#%time grid_svc.fit(X_train, y_train)"
   ]
  },
  {
   "cell_type": "markdown",
   "id": "eeef88de-c593-4206-b30f-a65a3a6a71e3",
   "metadata": {},
   "source": [
    "_____________________________"
   ]
  },
  {
   "cell_type": "markdown",
   "id": "38692dff-06b2-40a7-b65a-80e854a92403",
   "metadata": {},
   "source": [
    "___Random Forest___"
   ]
  },
  {
   "cell_type": "code",
   "execution_count": 105,
   "id": "fff1d0c3-cd9a-4237-91b6-c6e5b6267447",
   "metadata": {},
   "outputs": [],
   "source": [
    "pipeline_rf = Pipeline([\n",
    "    ('preprocessor', preprocessor),\n",
    "    ('rf', RandomForestClassifier(n_estimators=100,\n",
    "                              random_state=random_state,\n",
    "                              max_depth=5,\n",
    "                              max_features=\"sqrt\",\n",
    "                              n_jobs=-1))\n",
    "])"
   ]
  },
  {
   "cell_type": "code",
   "execution_count": 106,
   "id": "a984172e-e7bd-4059-9fc8-e7224fbb67cd",
   "metadata": {
    "tags": []
   },
   "outputs": [
    {
     "data": {
      "text/plain": [
       "Pipeline(steps=[('preprocessor',\n",
       "                 ColumnTransformer(transformers=[('num',\n",
       "                                                  Pipeline(steps=[('imputer_num',\n",
       "                                                                   SimpleImputer(strategy='median')),\n",
       "                                                                  ('std_scaler',\n",
       "                                                                   StandardScaler())]),\n",
       "                                                  ['staff_pick',\n",
       "                                                   'launched_at_mth',\n",
       "                                                   'campaign_days',\n",
       "                                                   'goal_converted_log']),\n",
       "                                                 ('cat',\n",
       "                                                  Pipeline(steps=[('onehot',\n",
       "                                                                   OneHotEncoder(handle_unknown='ignore'))]),\n",
       "                                                  ['category', 'country'])])),\n",
       "                ('rf',\n",
       "                 RandomForestClassifier(max_depth=5, max_features='sqrt',\n",
       "                                        n_jobs=-1, random_state=100))])"
      ]
     },
     "execution_count": 106,
     "metadata": {},
     "output_type": "execute_result"
    }
   ],
   "source": [
    "pipeline_rf.fit(X_train,y_train)"
   ]
  },
  {
   "cell_type": "code",
   "execution_count": 110,
   "id": "9872d3bf-6918-4c4d-8dbd-f231375b83fb",
   "metadata": {},
   "outputs": [],
   "source": [
    "pred_test_rf = pipeline_rf.predict(X_test)"
   ]
  },
  {
   "cell_type": "code",
   "execution_count": 111,
   "id": "ddb4fc45-73d1-4a9e-8396-4d8497a6cc9f",
   "metadata": {},
   "outputs": [
    {
     "name": "stdout",
     "output_type": "stream",
     "text": [
      "Scores for Random Forest:\n",
      "              precision    recall  f1-score   support\n",
      "\n",
      "           0       0.78      0.29      0.42     22691\n",
      "           1       0.67      0.95      0.79     35109\n",
      "\n",
      "    accuracy                           0.69     57800\n",
      "   macro avg       0.73      0.62      0.61     57800\n",
      "weighted avg       0.71      0.69      0.64     57800\n",
      "\n",
      "Confusion Matrix: \n",
      "[[ 6605 16086]\n",
      " [ 1898 33211]]\n"
     ]
    }
   ],
   "source": [
    "print('Scores for Random Forest:')\n",
    "print(classification_report(y_test, pred_test_rf)) \n",
    "print(\"Confusion Matrix: \\n\" + str(confusion_matrix(y_test, pred_test_rf)))"
   ]
  },
  {
   "cell_type": "code",
   "execution_count": 123,
   "id": "acee5a25-50d7-4b71-a5b6-a91fbf34e829",
   "metadata": {},
   "outputs": [],
   "source": [
    "# Defining hyperparameter space for grid-search\n",
    "param_grid = {'rf___bootstrap': [True, False],\n",
    "              'rf__max_depth': [3, 6, 10, None],\n",
    "              'rf__max_features': ['auto', 'sqrt'],\n",
    "              'rf__min_samples_leaf': [1, 3],\n",
    "              'rf__min_samples_split': [2, 5],\n",
    "              'rf__n_estimators': [10, 50, 200]} # Others: kernel, degree (only for poly)\n",
    "grid_rf = GridSearchCV(pipeline_rf, param_grid, cv=5, scoring=scoring, \n",
    "                           verbose=4, n_jobs=-1)"
   ]
  },
  {
   "cell_type": "code",
   "execution_count": null,
   "id": "522bfb90-b5a8-42f2-aebc-0c19fa4c07bc",
   "metadata": {},
   "outputs": [
    {
     "name": "stdout",
     "output_type": "stream",
     "text": [
      "Fitting 5 folds for each of 192 candidates, totalling 960 fits\n"
     ]
    }
   ],
   "source": [
    "grid_rf.fit(X_train, y_train)"
   ]
  },
  {
   "cell_type": "markdown",
   "id": "d461335b-16b7-4a4d-b3a7-75b1e4b64bed",
   "metadata": {},
   "source": [
    "----------"
   ]
  },
  {
   "cell_type": "markdown",
   "id": "d4a0476b-7b6c-4410-9399-348379c40192",
   "metadata": {},
   "source": [
    "__AdaBoost__\n"
   ]
  },
  {
   "cell_type": "code",
   "execution_count": 113,
   "id": "bafc3380-0d1d-450c-ab22-9c1c36de5fce",
   "metadata": {},
   "outputs": [
    {
     "data": {
      "text/plain": [
       "Pipeline(steps=[('preprocessor',\n",
       "                 ColumnTransformer(transformers=[('num',\n",
       "                                                  Pipeline(steps=[('imputer_num',\n",
       "                                                                   SimpleImputer(strategy='median')),\n",
       "                                                                  ('std_scaler',\n",
       "                                                                   StandardScaler())]),\n",
       "                                                  ['staff_pick',\n",
       "                                                   'launched_at_mth',\n",
       "                                                   'campaign_days',\n",
       "                                                   'goal_converted_log']),\n",
       "                                                 ('cat',\n",
       "                                                  Pipeline(steps=[('onehot',\n",
       "                                                                   OneHotEncoder(handle_unknown='ignore'))]),\n",
       "                                                  ['category', 'country'])])),\n",
       "                ('ada', AdaBoostClassifier())])"
      ]
     },
     "execution_count": 113,
     "metadata": {},
     "output_type": "execute_result"
    }
   ],
   "source": [
    "pipeline_ada= Pipeline([\n",
    "    ('preprocessor', preprocessor),\n",
    "    ('ada', AdaBoostClassifier())\n",
    "])\n",
    "    \n",
    "pipeline_ada.fit(X_train,y_train)\n",
    "\n"
   ]
  },
  {
   "cell_type": "code",
   "execution_count": 114,
   "id": "dbccd2d5-7a1b-4e2b-b5aa-2ac05a364416",
   "metadata": {},
   "outputs": [],
   "source": [
    "y_pred_ada = pipeline_ada.predict(X_test)\n"
   ]
  },
  {
   "cell_type": "code",
   "execution_count": 115,
   "id": "42d91f66-913d-4d2f-a7c9-18f891a691b1",
   "metadata": {},
   "outputs": [
    {
     "name": "stdout",
     "output_type": "stream",
     "text": [
      "Scores for Ada Boost:\n",
      "              precision    recall  f1-score   support\n",
      "\n",
      "           0       0.70      0.52      0.59     22691\n",
      "           1       0.73      0.86      0.79     35109\n",
      "\n",
      "    accuracy                           0.72     57800\n",
      "   macro avg       0.72      0.69      0.69     57800\n",
      "weighted avg       0.72      0.72      0.71     57800\n",
      "\n",
      "Confusion Matrix: \n",
      "[[11691 11000]\n",
      " [ 5039 30070]]\n"
     ]
    }
   ],
   "source": [
    "print('Scores for Ada Boost:')\n",
    "print(classification_report(y_test, y_pred_ada)) \n",
    "print(\"Confusion Matrix: \\n\" + str(confusion_matrix(y_test, y_pred_ada)))"
   ]
  },
  {
   "cell_type": "markdown",
   "id": "f0edff44-7771-4ab9-97cc-992cdc450b38",
   "metadata": {},
   "source": [
    "------\n"
   ]
  },
  {
   "cell_type": "markdown",
   "id": "b95f5cae-13c9-4071-8fea-4a1a97421045",
   "metadata": {},
   "source": [
    "___KNN Neighbours___"
   ]
  },
  {
   "cell_type": "code",
   "execution_count": 117,
   "id": "69e84a48-9cb0-4e33-9d27-0dd8c936b821",
   "metadata": {},
   "outputs": [
    {
     "data": {
      "text/plain": [
       "Pipeline(steps=[('preprocessor',\n",
       "                 ColumnTransformer(transformers=[('num',\n",
       "                                                  Pipeline(steps=[('imputer_num',\n",
       "                                                                   SimpleImputer(strategy='median')),\n",
       "                                                                  ('std_scaler',\n",
       "                                                                   StandardScaler())]),\n",
       "                                                  ['staff_pick',\n",
       "                                                   'launched_at_mth',\n",
       "                                                   'campaign_days',\n",
       "                                                   'goal_converted_log']),\n",
       "                                                 ('cat',\n",
       "                                                  Pipeline(steps=[('onehot',\n",
       "                                                                   OneHotEncoder(handle_unknown='ignore'))]),\n",
       "                                                  ['category', 'country'])])),\n",
       "                ('knn', KNeighborsClassifier())])"
      ]
     },
     "execution_count": 117,
     "metadata": {},
     "output_type": "execute_result"
    }
   ],
   "source": [
    "pipeline_knn= Pipeline([\n",
    "    ('preprocessor', preprocessor),\n",
    "    ('knn', KNeighborsClassifier())\n",
    "])\n",
    "    \n",
    "pipeline_knn.fit(X_train,y_train)\n",
    "\n"
   ]
  },
  {
   "cell_type": "code",
   "execution_count": 120,
   "id": "2c552806-7e5a-4770-90dd-59068515a797",
   "metadata": {},
   "outputs": [],
   "source": [
    "y_pred_knn = pipeline_knn.predict(X_test)"
   ]
  },
  {
   "cell_type": "code",
   "execution_count": 121,
   "id": "d64f557e-3d63-49c4-afb8-6ad7dbdfc5cf",
   "metadata": {},
   "outputs": [
    {
     "name": "stdout",
     "output_type": "stream",
     "text": [
      "Scores for KNN:\n",
      "              precision    recall  f1-score   support\n",
      "\n",
      "           0       0.63      0.57      0.60     22691\n",
      "           1       0.74      0.78      0.76     35109\n",
      "\n",
      "    accuracy                           0.70     57800\n",
      "   macro avg       0.68      0.68      0.68     57800\n",
      "weighted avg       0.70      0.70      0.70     57800\n",
      "\n",
      "Confusion Matrix: \n",
      "[[12964  9727]\n",
      " [ 7625 27484]]\n"
     ]
    }
   ],
   "source": [
    "print('Scores for KNN:')\n",
    "print(classification_report(y_test, y_pred_knn)) \n",
    "print(\"Confusion Matrix: \\n\" + str(confusion_matrix(y_test, y_pred_knn)))"
   ]
  },
  {
   "cell_type": "markdown",
   "id": "5d8a8c07-8602-4bf1-8288-71bd564be632",
   "metadata": {},
   "source": [
    "# Ensemble Methods"
   ]
  },
  {
   "cell_type": "code",
   "execution_count": 122,
   "id": "0280261d-08cd-4ef7-aee8-a1e5d6969628",
   "metadata": {},
   "outputs": [
    {
     "name": "stdout",
     "output_type": "stream",
     "text": [
      "KNeighborsClassifier()\n",
      "model score: 0.700\n",
      "F1 Score: 0.76\n",
      "Confusion Matrix: \n",
      "[[12964  9727]\n",
      " [ 7625 27484]]\n",
      "\n",
      "\n",
      "SVC(C=2, probability=True)\n",
      "model score: 0.722\n",
      "F1 Score: 0.79\n",
      "Confusion Matrix: \n",
      "[[11631 11060]\n",
      " [ 5035 30074]]\n",
      "\n",
      "\n",
      "DecisionTreeClassifier()\n",
      "model score: 0.696\n",
      "F1 Score: 0.75\n",
      "Confusion Matrix: \n",
      "[[13573  9118]\n",
      " [ 8467 26642]]\n",
      "\n",
      "\n",
      "RandomForestClassifier()\n",
      "model score: 0.727\n",
      "F1 Score: 0.78\n",
      "Confusion Matrix: \n",
      "[[13215  9476]\n",
      " [ 6308 28801]]\n",
      "\n",
      "\n",
      "AdaBoostClassifier()\n",
      "model score: 0.723\n",
      "F1 Score: 0.79\n",
      "Confusion Matrix: \n",
      "[[11691 11000]\n",
      " [ 5039 30070]]\n",
      "\n",
      "\n",
      "GradientBoostingClassifier()\n",
      "model score: 0.725\n",
      "F1 Score: 0.79\n",
      "Confusion Matrix: \n",
      "[[11350 11341]\n",
      " [ 4546 30563]]\n",
      "\n",
      "\n"
     ]
    }
   ],
   "source": [
    "#use KNN,SVC,DTC,Randomforestclassifier,XGB....\n",
    "\n",
    "# Define classifiers and run code\n",
    "classifiers = [\n",
    "    KNeighborsClassifier(),\n",
    "    SVC(kernel=\"rbf\", C=2, probability=True),\n",
    "    DecisionTreeClassifier(),\n",
    "    RandomForestClassifier(),\n",
    "    AdaBoostClassifier(),\n",
    "    GradientBoostingClassifier(),\n",
    "    ]\n",
    "for classifier in classifiers:\n",
    "    pipe = Pipeline(steps=[('preprocessor', preprocessor),\n",
    "                      ('classifier', classifier)])\n",
    "    pipe.fit(X_train, y_train)   \n",
    "    print(classifier)\n",
    "    print(\"model score: %.3f\" % pipe.score(X_test, y_test))\n",
    "    y_pred_pipe = pipe.predict(X_test)\n",
    "    print(\"F1 Score: {:.2f}\".format(f1_score(y_test, y_pred_pipe)))\n",
    "    print(\"Confusion Matrix: \\n\" + str(confusion_matrix(y_test, y_pred_pipe)))\n",
    "    print(\"\\n\")"
   ]
  },
  {
   "cell_type": "markdown",
   "id": "b55d86c1-51e5-4c77-b77c-c290914e6aaa",
   "metadata": {},
   "source": [
    "# Future Work"
   ]
  },
  {
   "cell_type": "code",
   "execution_count": null,
   "id": "47d5074f-75da-4fb4-a951-1a2b59961f18",
   "metadata": {},
   "outputs": [],
   "source": [
    "#use maybe RandomizedSearchCV on RandomForest or any given Algorithm"
   ]
  },
  {
   "cell_type": "markdown",
   "id": "dedde418-bc1b-453b-822c-403f2c3f4691",
   "metadata": {},
   "source": [
    "# Data Visualisation\n",
    "Purpose: Communicate the findings with stakeholders using plots and interactive visualisations"
   ]
  },
  {
   "cell_type": "markdown",
   "id": "2e34df71-ef11-45b9-84c7-c2c1314440c3",
   "metadata": {},
   "source": [
    "# Findings \n",
    "Purpose: Summarize the key results and findings"
   ]
  }
 ],
 "metadata": {
  "kernelspec": {
   "display_name": "Python 3 (ipykernel)",
   "language": "python",
   "name": "python3"
  },
  "language_info": {
   "codemirror_mode": {
    "name": "ipython",
    "version": 3
   },
   "file_extension": ".py",
   "mimetype": "text/x-python",
   "name": "python",
   "nbconvert_exporter": "python",
   "pygments_lexer": "ipython3",
   "version": "3.9.4"
  }
 },
 "nbformat": 4,
 "nbformat_minor": 5
}
