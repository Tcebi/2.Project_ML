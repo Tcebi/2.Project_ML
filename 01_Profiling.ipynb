{
 "cells": [
  {
   "cell_type": "markdown",
   "id": "c142a85d-2325-435c-9a1c-7effb84d00af",
   "metadata": {},
   "source": [
    "# Kickstarter Profiling"
   ]
  },
  {
   "cell_type": "code",
   "execution_count": null,
   "id": "842b4118-d8fe-4ca9-b778-ca88d5095680",
   "metadata": {},
   "outputs": [],
   "source": [
    "import pandas as pd\n",
    "from pandas_profiling import ProfileReport"
   ]
  },
  {
   "cell_type": "code",
   "execution_count": null,
   "id": "182d8383-d8b5-4f9e-a472-73a542a94fdd",
   "metadata": {},
   "outputs": [],
   "source": [
    "# Load your dataframe\n",
    "df = pd.read_csv('data/Kickstarter000.csv')"
   ]
  },
  {
   "cell_type": "code",
   "execution_count": null,
   "id": "3b8fda5d-7ce6-4f5d-ad54-2ab9d92e746c",
   "metadata": {},
   "outputs": [],
   "source": [
    "profile = ProfileReport(df, title=\"Pandas Profiling Report\", explorative=True)"
   ]
  },
  {
   "cell_type": "code",
   "execution_count": null,
   "id": "bd6301a0-b33c-401b-90c2-5be11f2944ae",
   "metadata": {},
   "outputs": [],
   "source": [
    "profile"
   ]
  },
  {
   "cell_type": "code",
   "execution_count": null,
   "id": "fdd184d4-0599-4989-978d-56dfbec16c6b",
   "metadata": {},
   "outputs": [],
   "source": [
    "df.head()"
   ]
  },
  {
   "cell_type": "code",
   "execution_count": null,
   "id": "1f145ad6-f625-4acd-8863-df48471903ab",
   "metadata": {},
   "outputs": [],
   "source": [
    "df2 = pd.read_csv('data/Kickstarter001.csv')"
   ]
  },
  {
   "cell_type": "code",
   "execution_count": null,
   "id": "54c02d39-1f73-425c-94af-742fe147da82",
   "metadata": {},
   "outputs": [],
   "source": [
    "profile2 = ProfileReport(df2, title=\"Pandas Profiling Report2\", explorative=True)\n",
    "profile2"
   ]
  },
  {
   "cell_type": "code",
   "execution_count": null,
   "id": "e9004b57-fbc0-42c6-97dd-964443f0c03f",
   "metadata": {},
   "outputs": [],
   "source": [
    "df2.info()"
   ]
  },
  {
   "cell_type": "code",
   "execution_count": null,
   "id": "2ab6ce2b-afcb-44f2-93e1-9bcd84966e74",
   "metadata": {},
   "outputs": [],
   "source": [
    "df.info()"
   ]
  },
  {
   "cell_type": "code",
   "execution_count": null,
   "id": "4d621534-60ab-451e-bdd4-4ae5db6a586b",
   "metadata": {},
   "outputs": [],
   "source": [
    "\n",
    "df2.state.head()"
   ]
  },
  {
   "cell_type": "markdown",
   "id": "fe6d51ae-850d-45c9-ae82-0b97af6689b9",
   "metadata": {},
   "source": [
    "# Our Target : State"
   ]
  },
  {
   "cell_type": "code",
   "execution_count": null,
   "id": "1fd9c20d-b256-4ae0-9ea8-56623168f80d",
   "metadata": {},
   "outputs": [],
   "source": [
    "df2.state.unique()"
   ]
  },
  {
   "cell_type": "code",
   "execution_count": null,
   "id": "d4a5703f-2ee8-4f88-9bc2-f6f5192204ee",
   "metadata": {},
   "outputs": [],
   "source": [
    "df2.groupby('state').count()"
   ]
  },
  {
   "cell_type": "code",
   "execution_count": null,
   "id": "51ae3bd2-ac64-4b7c-ba2e-e9fefa72af37",
   "metadata": {},
   "outputs": [],
   "source": [
    "df.lau"
   ]
  },
  {
   "cell_type": "code",
   "execution_count": null,
   "id": "a5aeb5f7-3801-448f-b67c-45b750b710e7",
   "metadata": {},
   "outputs": [],
   "source": [
    "\n",
    "pd.to_datetime(df.launched_at,unit='s',infer_datetime_format=True)"
   ]
  },
  {
   "cell_type": "code",
   "execution_count": null,
   "id": "7e7d79c7-b20d-4100-a000-22cbf581fc28",
   "metadata": {},
   "outputs": [],
   "source": []
  }
 ],
 "metadata": {
  "kernelspec": {
   "display_name": "Python 3 (ipykernel)",
   "language": "python",
   "name": "python3"
  },
  "language_info": {
   "codemirror_mode": {
    "name": "ipython",
    "version": 3
   },
   "file_extension": ".py",
   "mimetype": "text/x-python",
   "name": "python",
   "nbconvert_exporter": "python",
   "pygments_lexer": "ipython3",
   "version": "3.9.4"
  }
 },
 "nbformat": 4,
 "nbformat_minor": 5
}
