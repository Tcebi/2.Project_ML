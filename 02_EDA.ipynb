{
 "cells": [
  {
   "cell_type": "markdown",
   "id": "e7106b0b-cb26-4b88-9670-ccb097ab306a",
   "metadata": {
    "jp-MarkdownHeadingCollapsed": true,
    "tags": []
   },
   "source": [
    "## Business Understanding \n",
    "Purpose: Ask relevant questions and define objectives for the problem that needs to be tackled\n",
    "\n",
    "## Background\n",
    "In recent years, the range of funding options for projects created by individuals and small companies has expanded considerably. In addition to savings, bank loans, friends & family funding and other traditional options, crowdfunding has become a popular and readily available alternative.\n",
    "\n",
    "Kickstarter, founded in 2009, is one particularly well-known and popular crowdfunding platform. It has an all-or-nothing funding model, whereby a project is only funded if it meets its goal amount; otherwise no money is given by backers to a project. A huge variety of factors contribute to the success or failure of a project — in general, and also on Kickstarter. Some of these are able to be quantified or categorized, which allows for the construction of a model to attempt to predict whether a project will succeed or not. The aim of this project is to construct such a model and also to analyse Kickstarter project data more generally, in order to help potential project creators assess whether or not Kickstarter is a good funding option for them, and what their chances of success are.\n",
    "\n",
    "### Final Deliverables\n",
    "\n",
    "\n",
    "* Well designed presentation for non-technical stakeholders outlining findings and recommendations, as well as future work (10min presentation).\n",
    "* Jupyter notebook following Data Science Lifecycle\n",
    "\n",
    "### Things to think about\n",
    "\n",
    "* Try different (at least 3) machine learning algorithms to check which performs best on the problem at hand\n",
    "* What would be right performance metric: Precision, recall, accuracy, F1 score, or something else? (Check TPR?)\n",
    "* Check for data imbalance\n",
    "\n",
    "\n",
    "## Key Question \n",
    "\n",
    "We currently hold a task by Kickstarter to come up with a model to predict in a first step whether is project is likely to be successful, given certain project parameters. In a second step (out of scope), Kickstarter would like to be able to provide a good goal recommendation for creators( for example using staff picks etc.)\n",
    "\n",
    "* Given certain project parameters, __is a campaign likely to succeed or fail?__ --> classification\n",
    "* what would e a __reasonable goal reccomendation for creators__ --> regression\n",
    "\n",
    "\n",
    "\n",
    "## Feature Glossary\n",
    "\n",
    "Features included in model\n",
    "\n",
    "* Target : state\n",
    "*\n",
    "*\n",
    "*\n",
    "\n",
    "## Dataset Description\n",
    "\n",
    "- **backers_count**: Amount of people who backed this project\n",
    "- **category**: \n",
    "- **country**: Country the project owner lives in\n",
    "- **created_at**: Date when the prjoect was created\n",
    "- **currency**: Currency of the country where the owner lives in\n",
    "- **currency_trailing_code**: \n",
    "- **current_currency**: \n",
    "- **deadline**: Date until the project can be backed\n",
    "- **disable_communication**: If the communication with owner was disabled or not\n",
    "- **fx_rate**: Foreign exchange rate\n",
    "- **goal**: Project is only funded when the goal amount is reached\n",
    "- **launched_at**: Date when the project was launced\n",
    "- **spotlight**: Highlighted projects (available to all projects that are successfully funded)\n",
    "- **staff_pick**: Promissing project picked by Kickstarter employees\n",
    "- **state**: Project status\n",
    "- **state_changed_at**: Date when state changed the last time\n",
    "- **static_usd_rate**: static USD Convergen rate at time\n",
    "- **usd_pledged**: pledge amount converted to USD using Static_usd_rate\n",
    "\n",
    "\n",
    "## Dataset New/Added Feature Description\n",
    "\n",
    "- **campaign_days**: Days the Project was live\n",
    "- **pledged_over**: Amount Pledged surpassing the Goal(with converted pledge amount) \n",
    "- **pre_launched_days**: Days before the Project was launched\n",
    "\n",
    "\n",
    "## Target Metric\n",
    "* F1, Accuracy, recall, which one? \n",
    "\n",
    "## Outcome / Reccomendations\n",
    "*\n",
    "*\n",
    "*"
   ]
  },
  {
   "cell_type": "markdown",
   "id": "01c5ce27-de08-414b-a934-fc58320dcc1f",
   "metadata": {
    "tags": []
   },
   "source": [
    "## Import Libraries"
   ]
  },
  {
   "cell_type": "code",
   "execution_count": 2,
   "id": "b42169b9-15fd-49ac-94f6-6e0c95fb608d",
   "metadata": {
    "tags": []
   },
   "outputs": [],
   "source": [
    "import pandas as pd\n",
    "import numpy as np\n",
    "import matplotlib.pyplot as plt\n",
    "import matplotlib.ticker as ticker\n",
    "from matplotlib.gridspec import GridSpec\n",
    "import scipy as sc\n",
    "from scipy.stats import kstest\n",
    "import seaborn as sns\n",
    "import math\n",
    "\n",
    "#Data mining\n",
    "import os, glob\n"
   ]
  },
  {
   "cell_type": "markdown",
   "id": "a340d81d-bff7-4438-bfdf-ec46523b0ef2",
   "metadata": {
    "tags": []
   },
   "source": [
    "## Dashboard\n",
    "Purpose : Define global variables and visuals"
   ]
  },
  {
   "cell_type": "code",
   "execution_count": 3,
   "id": "ff5ca982-73ac-4eb3-8200-8a972a93bf70",
   "metadata": {},
   "outputs": [],
   "source": [
    "random_state = 100\n",
    "test_size = 0.3\n",
    "sns.set(style = \"white\")"
   ]
  },
  {
   "cell_type": "markdown",
   "id": "bfbd055f-0174-427b-b7fc-61ee975585d8",
   "metadata": {
    "tags": []
   },
   "source": [
    "## Data Mining"
   ]
  },
  {
   "cell_type": "code",
   "execution_count": null,
   "id": "dc1aa018-b655-4c84-bc82-b08c6eb40cb2",
   "metadata": {},
   "outputs": [],
   "source": [
    "# Import multiple Kickstarter csv files and merge into one dataframe\n",
    "\n",
    "path = \"data-2\"\n",
    "all_files = glob.glob(os.path.join(path, \"*.csv\"))\n",
    "\n",
    "all_df = []\n",
    "for f in all_files:\n",
    "    df = pd.read_csv(f, sep=',')\n",
    "    df['file'] = f.split('/')[-1]\n",
    "    all_df.append(df)\n",
    "    \n",
    "merged_df = pd.concat(all_df, ignore_index=True, sort=True)"
   ]
  },
  {
   "cell_type": "code",
   "execution_count": 5,
   "id": "4dd02ab6-5792-49af-8186-aff4ddb867e3",
   "metadata": {},
   "outputs": [],
   "source": [
    "merged_df = pd.read_csv('data-2/Kickstarter_all.csv') ### brauche ich wenn ich den Anderen Kram nicht laufen lassen will"
   ]
  },
  {
   "cell_type": "markdown",
   "id": "49a1e3ca-e891-4ff8-8c35-9cd8fe274c97",
   "metadata": {
    "tags": []
   },
   "source": [
    "## Inspection and Data Cleaning"
   ]
  },
  {
   "cell_type": "code",
   "execution_count": null,
   "id": "7ccf0aaa-d6de-4498-b494-8babd33a1b40",
   "metadata": {},
   "outputs": [],
   "source": [
    "merged_df.info()"
   ]
  },
  {
   "cell_type": "code",
   "execution_count": null,
   "id": "ec4c9ada-df77-4f48-898c-91f884bffe88",
   "metadata": {},
   "outputs": [],
   "source": [
    "#save the merged data as .zip\n",
    "compression_opts = dict(method='zip', archive_name='out.csv')  \n",
    "merged_df.to_csv('out.zip', index=False, compression=compression_opts)"
   ]
  },
  {
   "cell_type": "code",
   "execution_count": null,
   "id": "194f27ef-a743-4f6e-928b-6e830a951a0d",
   "metadata": {},
   "outputs": [],
   "source": [
    "# Display shape of \"data\"\n",
    "merged_df.shape"
   ]
  },
  {
   "cell_type": "code",
   "execution_count": null,
   "id": "a778074d-dc5f-4c77-9489-612373bd9a80",
   "metadata": {},
   "outputs": [],
   "source": [
    "merged_df.head()"
   ]
  },
  {
   "cell_type": "code",
   "execution_count": null,
   "id": "e6c4703b-ca6e-4c18-b70f-ff1c77f4801e",
   "metadata": {},
   "outputs": [],
   "source": [
    "merged_df.columns"
   ]
  },
  {
   "cell_type": "code",
   "execution_count": null,
   "id": "186a52be-8974-41e1-8d1a-8d590499e010",
   "metadata": {},
   "outputs": [],
   "source": [
    "merged_df.groupby('state').count()"
   ]
  },
  {
   "cell_type": "code",
   "execution_count": null,
   "id": "9c8b8ce3-96ac-469a-a054-d1a6a3fe325b",
   "metadata": {},
   "outputs": [],
   "source": [
    "pd.isnull(merged_df).sum()"
   ]
  },
  {
   "cell_type": "markdown",
   "id": "473ffe53-a58e-4dae-9b3a-8a060b00cb55",
   "metadata": {
    "tags": []
   },
   "source": [
    "## Data Handling"
   ]
  },
  {
   "cell_type": "code",
   "execution_count": 81,
   "id": "a4b50b30-8cfa-40ce-b227-b4b223b535a3",
   "metadata": {},
   "outputs": [],
   "source": [
    "# create a dataset for Inspection\n",
    "final = merged_df.copy()"
   ]
  },
  {
   "cell_type": "markdown",
   "id": "e099540c-5073-4b52-82bb-e7ccca4ccb61",
   "metadata": {
    "tags": []
   },
   "source": [
    "### Dropping Data"
   ]
  },
  {
   "cell_type": "code",
   "execution_count": 29,
   "id": "3205e7cf-afda-49df-98ad-52ad9403e6dd",
   "metadata": {},
   "outputs": [],
   "source": [
    "drop_list = []"
   ]
  },
  {
   "cell_type": "markdown",
   "id": "0e8f4a92-5efa-48cd-8ce5-618c97afd112",
   "metadata": {},
   "source": [
    "#### Dropping features with missing values"
   ]
  },
  {
   "cell_type": "code",
   "execution_count": 30,
   "id": "bd514c88-1309-4978-a5db-56c9c5b60b36",
   "metadata": {},
   "outputs": [],
   "source": [
    "drop_missing_values = ['blurb', 'friends', 'is_backing', 'is_starred', 'permissions', 'usd_type', 'location']\n",
    "drop_list.extend(drop_missing_values)\n",
    "final = final.drop(drop_missing_values, axis = 1)\n"
   ]
  },
  {
   "cell_type": "markdown",
   "id": "420d37f3-3648-46eb-bbc7-16c98f7e6d65",
   "metadata": {},
   "source": [
    "#### Dropping useless features "
   ]
  },
  {
   "cell_type": "code",
   "execution_count": 31,
   "id": "fabbc6e2-50d2-4305-8068-83d7fd4ca055",
   "metadata": {},
   "outputs": [],
   "source": [
    "drop_useless_features = ['creator', 'currency_symbol', 'name', 'photo', 'profile', 'slug', 'source_url', 'urls', 'file']\n",
    "drop_list.extend(drop_useless_features)\n",
    "final = final.drop(drop_useless_features, axis = 1)"
   ]
  },
  {
   "cell_type": "markdown",
   "id": "ec63ae91-5a5a-4952-a5ae-1bfac974d8bb",
   "metadata": {},
   "source": [
    "#### Dropping redundant features"
   ]
  },
  {
   "cell_type": "code",
   "execution_count": 32,
   "id": "6e71f858-d38c-473e-afac-f5e8523a77b7",
   "metadata": {},
   "outputs": [],
   "source": [
    "drop_redundant_features = ['pledged', 'usd_pledged']\n",
    "drop_list.extend(drop_redundant_features)\n",
    "final = final.drop(drop_redundant_features, axis = 1)"
   ]
  },
  {
   "cell_type": "code",
   "execution_count": 63,
   "id": "d280fc33-c356-4199-93f7-51b1050414fe",
   "metadata": {},
   "outputs": [
    {
     "data": {
      "text/plain": [
       "['blurb',\n",
       " 'friends',\n",
       " 'is_backing',\n",
       " 'is_starred',\n",
       " 'permissions',\n",
       " 'usd_type',\n",
       " 'location',\n",
       " 'creator',\n",
       " 'currency_symbol',\n",
       " 'name',\n",
       " 'photo',\n",
       " 'profile',\n",
       " 'slug',\n",
       " 'source_url',\n",
       " 'urls',\n",
       " 'file',\n",
       " 'pledged',\n",
       " 'usd_pledged']"
      ]
     },
     "execution_count": 63,
     "metadata": {},
     "output_type": "execute_result"
    }
   ],
   "source": [
    "drop_list"
   ]
  },
  {
   "cell_type": "markdown",
   "id": "670a58ba-4346-4b66-89a9-55b629723941",
   "metadata": {},
   "source": [
    "#### Replacing features"
   ]
  },
  {
   "cell_type": "code",
   "execution_count": 82,
   "id": "c7a906c0-048f-4c37-ace6-c5289b5bbee4",
   "metadata": {},
   "outputs": [],
   "source": [
    "def clean_category(DataFrame): \n",
    "    cat_list = []\n",
    "    subcat_list = []\n",
    "    for e in DataFrame.category:\n",
    "        string_list = e.split(',')\n",
    "        if '/' in string_list[2]:\n",
    "            cat_list.append(string_list[2].split('/')[0][8:])\n",
    "            subcat_list.append(string_list[2].split('/')[1][:-1])\n",
    "        else:\n",
    "            cat_list.append(string_list[2][8:-1])\n",
    "            subcat_list.append('None')\n",
    "    DataFrame['category'] = cat_list\n",
    "    DataFrame['sub_category'] = subcat_list\n",
    "    return DataFrame"
   ]
  },
  {
   "cell_type": "code",
   "execution_count": 85,
   "id": "7e372844-574c-4e4f-9943-7a66f2255bde",
   "metadata": {},
   "outputs": [],
   "source": [
    "modified_list = ['category']"
   ]
  },
  {
   "cell_type": "code",
   "execution_count": 83,
   "id": "c2e2dac0-d795-42ec-a765-22759ed97dce",
   "metadata": {},
   "outputs": [],
   "source": [
    "final = clean_category(final)"
   ]
  },
  {
   "cell_type": "code",
   "execution_count": 84,
   "id": "7f5ef8e3-ba82-40f7-b7fe-9898ee2a4fac",
   "metadata": {},
   "outputs": [
    {
     "data": {
      "text/plain": [
       "array(['fashion', 'games', 'music', 'publishing', 'theater', 'food',\n",
       "       'art', 'photography', 'technology', 'dance', 'design',\n",
       "       'film & video', 'crafts', 'comics', 'journalism'], dtype=object)"
      ]
     },
     "execution_count": 84,
     "metadata": {},
     "output_type": "execute_result"
    }
   ],
   "source": [
    "final.category.unique()"
   ]
  },
  {
   "cell_type": "markdown",
   "id": "861a501e-271a-4a93-994e-293eeb613cea",
   "metadata": {
    "tags": []
   },
   "source": [
    "### Time conversions\n",
    "\n"
   ]
  },
  {
   "cell_type": "code",
   "execution_count": 87,
   "id": "cafc4062-8a68-40fc-8c0a-c43d091f5419",
   "metadata": {},
   "outputs": [
    {
     "data": {
      "text/plain": [
       "['category', 'launched_at', 'deadline', 'created_at', 'state_changed_at']"
      ]
     },
     "execution_count": 87,
     "metadata": {},
     "output_type": "execute_result"
    }
   ],
   "source": [
    "modified_list.extend(['launched_at', 'deadline', 'created_at', 'state_changed_at'])         "
   ]
  },
  {
   "cell_type": "code",
   "execution_count": null,
   "id": "e83bdb1a-cdf7-4192-a29f-40894e618ac6",
   "metadata": {},
   "outputs": [],
   "source": [
    "#converting unix time \n",
    "final.launched_at = pd.to_datetime(final.launched_at,unit='s',infer_datetime_format=True)\n",
    "final.deadline = pd.to_datetime(final.deadline,unit='s',infer_datetime_format=True)\n",
    "final.created_at = pd.to_datetime(final.created_at,unit='s',infer_datetime_format=True)\n",
    "final.state_changed_at = pd.to_datetime(final.state_changed_at,unit='s',infer_datetime_format=True)"
   ]
  },
  {
   "cell_type": "markdown",
   "id": "a68eb0f5-d2aa-4511-81c2-ad3d430972ea",
   "metadata": {},
   "source": [
    "### Writing df changes"
   ]
  },
  {
   "cell_type": "code",
   "execution_count": 92,
   "id": "5378090a-6bad-48eb-b55d-a2e21844c3ad",
   "metadata": {},
   "outputs": [],
   "source": [
    "feature_list = list(merged_df.columns)\n",
    "\n",
    "df_features = pd.DataFrame(feature_list,columns =['features'])\n",
    "df_features['dropped'] = df_features.features.isin(drop_list)\n",
    "df_features['drop_reason'] = ['missing_values' if x in drop_missing_values \\\n",
    "                              else 'useless' if x in drop_useless_features \\\n",
    "                              else 'redundant' if x in drop_redundant_features \\\n",
    "                              else 'None' for x in df_features['features']]\n",
    "df_features['modified'] = df_features.features.isin(modified_list)"
   ]
  },
  {
   "cell_type": "code",
   "execution_count": 93,
   "id": "df86b518-d47e-42e0-9a8c-e7248db1549f",
   "metadata": {},
   "outputs": [
    {
     "data": {
      "text/html": [
       "<div>\n",
       "<style scoped>\n",
       "    .dataframe tbody tr th:only-of-type {\n",
       "        vertical-align: middle;\n",
       "    }\n",
       "\n",
       "    .dataframe tbody tr th {\n",
       "        vertical-align: top;\n",
       "    }\n",
       "\n",
       "    .dataframe thead th {\n",
       "        text-align: right;\n",
       "    }\n",
       "</style>\n",
       "<table border=\"1\" class=\"dataframe\">\n",
       "  <thead>\n",
       "    <tr style=\"text-align: right;\">\n",
       "      <th></th>\n",
       "      <th>features</th>\n",
       "      <th>dropped</th>\n",
       "      <th>drop_reason</th>\n",
       "      <th>modified</th>\n",
       "    </tr>\n",
       "  </thead>\n",
       "  <tbody>\n",
       "    <tr>\n",
       "      <th>0</th>\n",
       "      <td>backers_count</td>\n",
       "      <td>False</td>\n",
       "      <td>None</td>\n",
       "      <td>False</td>\n",
       "    </tr>\n",
       "    <tr>\n",
       "      <th>1</th>\n",
       "      <td>blurb</td>\n",
       "      <td>True</td>\n",
       "      <td>missing_values</td>\n",
       "      <td>False</td>\n",
       "    </tr>\n",
       "    <tr>\n",
       "      <th>2</th>\n",
       "      <td>category</td>\n",
       "      <td>False</td>\n",
       "      <td>None</td>\n",
       "      <td>True</td>\n",
       "    </tr>\n",
       "    <tr>\n",
       "      <th>3</th>\n",
       "      <td>converted_pledged_amount</td>\n",
       "      <td>False</td>\n",
       "      <td>None</td>\n",
       "      <td>False</td>\n",
       "    </tr>\n",
       "    <tr>\n",
       "      <th>4</th>\n",
       "      <td>country</td>\n",
       "      <td>False</td>\n",
       "      <td>None</td>\n",
       "      <td>False</td>\n",
       "    </tr>\n",
       "    <tr>\n",
       "      <th>5</th>\n",
       "      <td>created_at</td>\n",
       "      <td>False</td>\n",
       "      <td>None</td>\n",
       "      <td>True</td>\n",
       "    </tr>\n",
       "    <tr>\n",
       "      <th>6</th>\n",
       "      <td>creator</td>\n",
       "      <td>True</td>\n",
       "      <td>useless</td>\n",
       "      <td>False</td>\n",
       "    </tr>\n",
       "    <tr>\n",
       "      <th>7</th>\n",
       "      <td>currency</td>\n",
       "      <td>False</td>\n",
       "      <td>None</td>\n",
       "      <td>False</td>\n",
       "    </tr>\n",
       "    <tr>\n",
       "      <th>8</th>\n",
       "      <td>currency_symbol</td>\n",
       "      <td>True</td>\n",
       "      <td>useless</td>\n",
       "      <td>False</td>\n",
       "    </tr>\n",
       "    <tr>\n",
       "      <th>9</th>\n",
       "      <td>currency_trailing_code</td>\n",
       "      <td>False</td>\n",
       "      <td>None</td>\n",
       "      <td>False</td>\n",
       "    </tr>\n",
       "    <tr>\n",
       "      <th>10</th>\n",
       "      <td>current_currency</td>\n",
       "      <td>False</td>\n",
       "      <td>None</td>\n",
       "      <td>False</td>\n",
       "    </tr>\n",
       "    <tr>\n",
       "      <th>11</th>\n",
       "      <td>deadline</td>\n",
       "      <td>False</td>\n",
       "      <td>None</td>\n",
       "      <td>True</td>\n",
       "    </tr>\n",
       "    <tr>\n",
       "      <th>12</th>\n",
       "      <td>disable_communication</td>\n",
       "      <td>False</td>\n",
       "      <td>None</td>\n",
       "      <td>False</td>\n",
       "    </tr>\n",
       "    <tr>\n",
       "      <th>13</th>\n",
       "      <td>file</td>\n",
       "      <td>True</td>\n",
       "      <td>useless</td>\n",
       "      <td>False</td>\n",
       "    </tr>\n",
       "    <tr>\n",
       "      <th>14</th>\n",
       "      <td>friends</td>\n",
       "      <td>True</td>\n",
       "      <td>missing_values</td>\n",
       "      <td>False</td>\n",
       "    </tr>\n",
       "    <tr>\n",
       "      <th>15</th>\n",
       "      <td>fx_rate</td>\n",
       "      <td>False</td>\n",
       "      <td>None</td>\n",
       "      <td>False</td>\n",
       "    </tr>\n",
       "    <tr>\n",
       "      <th>16</th>\n",
       "      <td>goal</td>\n",
       "      <td>False</td>\n",
       "      <td>None</td>\n",
       "      <td>False</td>\n",
       "    </tr>\n",
       "    <tr>\n",
       "      <th>17</th>\n",
       "      <td>id</td>\n",
       "      <td>False</td>\n",
       "      <td>None</td>\n",
       "      <td>False</td>\n",
       "    </tr>\n",
       "    <tr>\n",
       "      <th>18</th>\n",
       "      <td>is_backing</td>\n",
       "      <td>True</td>\n",
       "      <td>missing_values</td>\n",
       "      <td>False</td>\n",
       "    </tr>\n",
       "    <tr>\n",
       "      <th>19</th>\n",
       "      <td>is_starrable</td>\n",
       "      <td>False</td>\n",
       "      <td>None</td>\n",
       "      <td>False</td>\n",
       "    </tr>\n",
       "    <tr>\n",
       "      <th>20</th>\n",
       "      <td>is_starred</td>\n",
       "      <td>True</td>\n",
       "      <td>missing_values</td>\n",
       "      <td>False</td>\n",
       "    </tr>\n",
       "    <tr>\n",
       "      <th>21</th>\n",
       "      <td>launched_at</td>\n",
       "      <td>False</td>\n",
       "      <td>None</td>\n",
       "      <td>True</td>\n",
       "    </tr>\n",
       "    <tr>\n",
       "      <th>22</th>\n",
       "      <td>location</td>\n",
       "      <td>True</td>\n",
       "      <td>missing_values</td>\n",
       "      <td>False</td>\n",
       "    </tr>\n",
       "    <tr>\n",
       "      <th>23</th>\n",
       "      <td>name</td>\n",
       "      <td>True</td>\n",
       "      <td>useless</td>\n",
       "      <td>False</td>\n",
       "    </tr>\n",
       "    <tr>\n",
       "      <th>24</th>\n",
       "      <td>permissions</td>\n",
       "      <td>True</td>\n",
       "      <td>missing_values</td>\n",
       "      <td>False</td>\n",
       "    </tr>\n",
       "    <tr>\n",
       "      <th>25</th>\n",
       "      <td>photo</td>\n",
       "      <td>True</td>\n",
       "      <td>useless</td>\n",
       "      <td>False</td>\n",
       "    </tr>\n",
       "    <tr>\n",
       "      <th>26</th>\n",
       "      <td>pledged</td>\n",
       "      <td>True</td>\n",
       "      <td>redundant</td>\n",
       "      <td>False</td>\n",
       "    </tr>\n",
       "    <tr>\n",
       "      <th>27</th>\n",
       "      <td>profile</td>\n",
       "      <td>True</td>\n",
       "      <td>useless</td>\n",
       "      <td>False</td>\n",
       "    </tr>\n",
       "    <tr>\n",
       "      <th>28</th>\n",
       "      <td>slug</td>\n",
       "      <td>True</td>\n",
       "      <td>useless</td>\n",
       "      <td>False</td>\n",
       "    </tr>\n",
       "    <tr>\n",
       "      <th>29</th>\n",
       "      <td>source_url</td>\n",
       "      <td>True</td>\n",
       "      <td>useless</td>\n",
       "      <td>False</td>\n",
       "    </tr>\n",
       "    <tr>\n",
       "      <th>30</th>\n",
       "      <td>spotlight</td>\n",
       "      <td>False</td>\n",
       "      <td>None</td>\n",
       "      <td>False</td>\n",
       "    </tr>\n",
       "    <tr>\n",
       "      <th>31</th>\n",
       "      <td>staff_pick</td>\n",
       "      <td>False</td>\n",
       "      <td>None</td>\n",
       "      <td>False</td>\n",
       "    </tr>\n",
       "    <tr>\n",
       "      <th>32</th>\n",
       "      <td>state</td>\n",
       "      <td>False</td>\n",
       "      <td>None</td>\n",
       "      <td>False</td>\n",
       "    </tr>\n",
       "    <tr>\n",
       "      <th>33</th>\n",
       "      <td>state_changed_at</td>\n",
       "      <td>False</td>\n",
       "      <td>None</td>\n",
       "      <td>True</td>\n",
       "    </tr>\n",
       "    <tr>\n",
       "      <th>34</th>\n",
       "      <td>static_usd_rate</td>\n",
       "      <td>False</td>\n",
       "      <td>None</td>\n",
       "      <td>False</td>\n",
       "    </tr>\n",
       "    <tr>\n",
       "      <th>35</th>\n",
       "      <td>urls</td>\n",
       "      <td>True</td>\n",
       "      <td>useless</td>\n",
       "      <td>False</td>\n",
       "    </tr>\n",
       "    <tr>\n",
       "      <th>36</th>\n",
       "      <td>usd_pledged</td>\n",
       "      <td>True</td>\n",
       "      <td>redundant</td>\n",
       "      <td>False</td>\n",
       "    </tr>\n",
       "    <tr>\n",
       "      <th>37</th>\n",
       "      <td>usd_type</td>\n",
       "      <td>True</td>\n",
       "      <td>missing_values</td>\n",
       "      <td>False</td>\n",
       "    </tr>\n",
       "  </tbody>\n",
       "</table>\n",
       "</div>"
      ],
      "text/plain": [
       "                    features  dropped     drop_reason  modified\n",
       "0              backers_count    False            None     False\n",
       "1                      blurb     True  missing_values     False\n",
       "2                   category    False            None      True\n",
       "3   converted_pledged_amount    False            None     False\n",
       "4                    country    False            None     False\n",
       "5                 created_at    False            None      True\n",
       "6                    creator     True         useless     False\n",
       "7                   currency    False            None     False\n",
       "8            currency_symbol     True         useless     False\n",
       "9     currency_trailing_code    False            None     False\n",
       "10          current_currency    False            None     False\n",
       "11                  deadline    False            None      True\n",
       "12     disable_communication    False            None     False\n",
       "13                      file     True         useless     False\n",
       "14                   friends     True  missing_values     False\n",
       "15                   fx_rate    False            None     False\n",
       "16                      goal    False            None     False\n",
       "17                        id    False            None     False\n",
       "18                is_backing     True  missing_values     False\n",
       "19              is_starrable    False            None     False\n",
       "20                is_starred     True  missing_values     False\n",
       "21               launched_at    False            None      True\n",
       "22                  location     True  missing_values     False\n",
       "23                      name     True         useless     False\n",
       "24               permissions     True  missing_values     False\n",
       "25                     photo     True         useless     False\n",
       "26                   pledged     True       redundant     False\n",
       "27                   profile     True         useless     False\n",
       "28                      slug     True         useless     False\n",
       "29                source_url     True         useless     False\n",
       "30                 spotlight    False            None     False\n",
       "31                staff_pick    False            None     False\n",
       "32                     state    False            None     False\n",
       "33          state_changed_at    False            None      True\n",
       "34           static_usd_rate    False            None     False\n",
       "35                      urls     True         useless     False\n",
       "36               usd_pledged     True       redundant     False\n",
       "37                  usd_type     True  missing_values     False"
      ]
     },
     "execution_count": 93,
     "metadata": {},
     "output_type": "execute_result"
    }
   ],
   "source": [
    "df_features"
   ]
  },
  {
   "cell_type": "markdown",
   "id": "ea8c3f66-dbf5-4f08-8f74-90c4e1bfa92e",
   "metadata": {
    "tags": []
   },
   "source": [
    "# Data Exploration\n",
    "Purpose: we gotta form a hypotheses / story about our defined problem by visually analyzing the data"
   ]
  },
  {
   "cell_type": "code",
   "execution_count": null,
   "id": "9d6eb912-c89d-4c24-ba2d-58bb082f544a",
   "metadata": {},
   "outputs": [],
   "source": []
  },
  {
   "cell_type": "code",
   "execution_count": null,
   "id": "2748971a-a298-40e3-b869-ad1564fa97c1",
   "metadata": {},
   "outputs": [],
   "source": [
    "# Seperate continious vs. categorical variables\n",
    "#data_cat_col = ['category','country','...']\n",
    "#data_cant_col = [x for x in final if x not in data_cat_col]\n",
    "#data_cat = final[data_cat_col]\n",
    "#data_cotnt = final[data_cont_col]"
   ]
  },
  {
   "cell_type": "code",
   "execution_count": null,
   "id": "343ff47a-d5fe-483e-b43e-4f337303f9c6",
   "metadata": {},
   "outputs": [],
   "source": [
    "# Check if scaling is needed ( we can do this by looking at the .skew()\n",
    "#final.skew()"
   ]
  },
  {
   "cell_type": "code",
   "execution_count": null,
   "id": "54fc9b48-517d-4bbe-89ad-6a5a9fc75ac5",
   "metadata": {},
   "outputs": [],
   "source": [
    "#Plot correlation heatmap for continious values\n",
    "\n"
   ]
  },
  {
   "cell_type": "code",
   "execution_count": null,
   "id": "380bb54e-6fad-4bd3-b2e8-5ffd9907bc75",
   "metadata": {},
   "outputs": [],
   "source": [
    "#Plot a histogram of our Target 'state' and see if it needs scaling for future work"
   ]
  },
  {
   "cell_type": "code",
   "execution_count": null,
   "id": "79d7f66e-2ce6-4989-a90a-d554d4fd15e7",
   "metadata": {},
   "outputs": [],
   "source": [
    "# Plot other things... :)"
   ]
  },
  {
   "cell_type": "markdown",
   "id": "0957d76a-8ab1-4250-8231-3589e03372a0",
   "metadata": {},
   "source": [
    "# Feature Engineering"
   ]
  },
  {
   "cell_type": "code",
   "execution_count": null,
   "id": "26d2ffe0-f887-4897-a140-5aa0f2e7910a",
   "metadata": {},
   "outputs": [],
   "source": [
    "#create new features\n",
    "final['pledged_over'] = final.converted_pledged_amount - final.goal \n",
    "final['campaign_days'] = final.deadline - final.launched_at \n",
    "final['pre_launched_days'] = final.launched_at - final.created_at"
   ]
  },
  {
   "cell_type": "markdown",
   "id": "c7a2591a-f804-40ce-aebe-70724d325379",
   "metadata": {},
   "source": [
    "# Preprocessing (Train/Test Split and Basemodel)\n",
    "In order to apply modelling on different dataset types, we should consider a nice way to do the splits.\n",
    "\n"
   ]
  },
  {
   "cell_type": "code",
   "execution_count": null,
   "id": "20e4a3f6-4fb7-44b0-847a-b8749dd977d1",
   "metadata": {},
   "outputs": [],
   "source": [
    "#define predictors and target variable X,y"
   ]
  },
  {
   "cell_type": "code",
   "execution_count": null,
   "id": "6bfc77c5-2b5f-47e5-856f-2bda601ac920",
   "metadata": {},
   "outputs": [],
   "source": [
    "#Split data into training and testing sets"
   ]
  },
  {
   "cell_type": "code",
   "execution_count": null,
   "id": "58ca3113-cd31-4b22-a359-77fdb1f469aa",
   "metadata": {},
   "outputs": [],
   "source": [
    "# create a dummy classifier model as Basemodel\n",
    "#dum_clf = DummyClassifier(strategy='most_frequent').fit(X_train,y_train)\n",
    "#y_pred_dum_clf = dum_clf.predict(X_test)"
   ]
  },
  {
   "cell_type": "code",
   "execution_count": null,
   "id": "cce91dc4-c231-4df6-bb7a-004a76affb0b",
   "metadata": {},
   "outputs": [],
   "source": [
    "#use standard scaler on X_train and y_train"
   ]
  },
  {
   "cell_type": "markdown",
   "id": "edb564e6-6bd0-4e07-a454-b71659742c12",
   "metadata": {},
   "source": [
    "# Predictive Modelling\n",
    "Purpose: Train machine learning models (supervised), evaluate their performance and use them to make predictions"
   ]
  },
  {
   "cell_type": "code",
   "execution_count": null,
   "id": "a035284f-4d42-4431-a6da-a2f0e775aeac",
   "metadata": {},
   "outputs": [],
   "source": [
    "#logistic regression"
   ]
  },
  {
   "cell_type": "code",
   "execution_count": null,
   "id": "979b9203-2860-47e2-b859-8d59ac82bbdb",
   "metadata": {},
   "outputs": [],
   "source": [
    "#Random Forest Classifier"
   ]
  },
  {
   "cell_type": "code",
   "execution_count": null,
   "id": "7c81e28e-f6f0-489a-b774-fdf6e053e9f8",
   "metadata": {},
   "outputs": [],
   "source": [
    "#Support Vector Machines (use classifier)"
   ]
  },
  {
   "cell_type": "code",
   "execution_count": null,
   "id": "b614480f-2822-4e5a-a299-b0a107f41cbc",
   "metadata": {},
   "outputs": [],
   "source": [
    "#maybe AdaBoost"
   ]
  },
  {
   "cell_type": "markdown",
   "id": "5d8a8c07-8602-4bf1-8288-71bd564be632",
   "metadata": {},
   "source": [
    "# Ensemble Methods"
   ]
  },
  {
   "cell_type": "code",
   "execution_count": null,
   "id": "088f2a32-78f7-400e-be2c-2fb16ee654ce",
   "metadata": {},
   "outputs": [],
   "source": [
    "#use KNN,SVC,DTC,Randomforestclassifier,XGB...."
   ]
  },
  {
   "cell_type": "markdown",
   "id": "b55d86c1-51e5-4c77-b77c-c290914e6aaa",
   "metadata": {},
   "source": [
    "# Future Work"
   ]
  },
  {
   "cell_type": "code",
   "execution_count": null,
   "id": "47d5074f-75da-4fb4-a951-1a2b59961f18",
   "metadata": {},
   "outputs": [],
   "source": [
    "#use maybe RandomizedSearchCV on RandomForest or any given Algorithm"
   ]
  },
  {
   "cell_type": "markdown",
   "id": "dedde418-bc1b-453b-822c-403f2c3f4691",
   "metadata": {},
   "source": [
    "# Data Visualisation\n",
    "Purpose: Communicate the findings with stakeholders using plots and interactive visualisations"
   ]
  },
  {
   "cell_type": "markdown",
   "id": "2e34df71-ef11-45b9-84c7-c2c1314440c3",
   "metadata": {},
   "source": [
    "# Findings \n",
    "Purpose: Summarize the key results and findings"
   ]
  },
  {
   "cell_type": "markdown",
   "id": "d0ecd254-3ba4-4b31-870e-acd98901ae30",
   "metadata": {},
   "source": [
    "# Future Work"
   ]
  },
  {
   "cell_type": "code",
   "execution_count": null,
   "id": "451b9e44-50ee-4af0-acac-b032f032b7d8",
   "metadata": {},
   "outputs": [],
   "source": [
    "# To do: save final df as csv\n",
    "#compression_opts = dict(method='zip', archive_name='Kickstarter_all_clean.csv')  \n",
    "#final.to_csv('Kickstarter_all_clean.zip', index=False, compression=compression_opts)"
   ]
  }
 ],
 "metadata": {
  "kernelspec": {
   "display_name": "Python 3 (ipykernel)",
   "language": "python",
   "name": "python3"
  },
  "language_info": {
   "codemirror_mode": {
    "name": "ipython",
    "version": 3
   },
   "file_extension": ".py",
   "mimetype": "text/x-python",
   "name": "python",
   "nbconvert_exporter": "python",
   "pygments_lexer": "ipython3",
   "version": "3.9.4"
  }
 },
 "nbformat": 4,
 "nbformat_minor": 5
}
