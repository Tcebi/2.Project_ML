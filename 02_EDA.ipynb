{
 "cells": [
  {
   "cell_type": "markdown",
   "id": "e7106b0b-cb26-4b88-9670-ccb097ab306a",
   "metadata": {},
   "source": [
    "# EDA"
   ]
  },
  {
   "cell_type": "markdown",
   "id": "01c5ce27-de08-414b-a934-fc58320dcc1f",
   "metadata": {
    "tags": []
   },
   "source": [
    "## Import Packages"
   ]
  },
  {
   "cell_type": "code",
   "execution_count": 24,
   "id": "b42169b9-15fd-49ac-94f6-6e0c95fb608d",
   "metadata": {
    "tags": []
   },
   "outputs": [],
   "source": [
    "import pandas as pd\n",
    "import seaborn as sns"
   ]
  },
  {
   "cell_type": "markdown",
   "id": "bfbd055f-0174-427b-b7fc-61ee975585d8",
   "metadata": {
    "tags": []
   },
   "source": [
    "## Import Data and merge csv files"
   ]
  },
  {
   "cell_type": "code",
   "execution_count": 2,
   "id": "dc1aa018-b655-4c84-bc82-b08c6eb40cb2",
   "metadata": {},
   "outputs": [],
   "source": [
    "import os, glob\n",
    "import pandas as pd\n",
    "\n",
    "path = \"data-2\"\n",
    "\n",
    "all_files = glob.glob(os.path.join(path, \"*.csv\"))\n",
    "\n",
    "all_df = []\n",
    "for f in all_files:\n",
    "    df = pd.read_csv(f, sep=',')\n",
    "    df['file'] = f.split('/')[-1]\n",
    "    all_df.append(df)\n",
    "    \n",
    "merged_df = pd.concat(all_df, ignore_index=True, sort=True)"
   ]
  },
  {
   "cell_type": "markdown",
   "id": "49a1e3ca-e891-4ff8-8c35-9cd8fe274c97",
   "metadata": {
    "tags": []
   },
   "source": [
    "## First look at the data"
   ]
  },
  {
   "cell_type": "code",
   "execution_count": 3,
   "id": "7ccf0aaa-d6de-4498-b494-8babd33a1b40",
   "metadata": {},
   "outputs": [
    {
     "name": "stdout",
     "output_type": "stream",
     "text": [
      "<class 'pandas.core.frame.DataFrame'>\n",
      "RangeIndex: 209222 entries, 0 to 209221\n",
      "Data columns (total 38 columns):\n",
      " #   Column                    Non-Null Count   Dtype  \n",
      "---  ------                    --------------   -----  \n",
      " 0   backers_count             209222 non-null  int64  \n",
      " 1   blurb                     209214 non-null  object \n",
      " 2   category                  209222 non-null  object \n",
      " 3   converted_pledged_amount  209222 non-null  int64  \n",
      " 4   country                   209222 non-null  object \n",
      " 5   created_at                209222 non-null  int64  \n",
      " 6   creator                   209222 non-null  object \n",
      " 7   currency                  209222 non-null  object \n",
      " 8   currency_symbol           209222 non-null  object \n",
      " 9   currency_trailing_code    209222 non-null  bool   \n",
      " 10  current_currency          209222 non-null  object \n",
      " 11  deadline                  209222 non-null  int64  \n",
      " 12  disable_communication     209222 non-null  bool   \n",
      " 13  file                      209222 non-null  object \n",
      " 14  friends                   300 non-null     object \n",
      " 15  fx_rate                   209222 non-null  float64\n",
      " 16  goal                      209222 non-null  float64\n",
      " 17  id                        209222 non-null  int64  \n",
      " 18  is_backing                300 non-null     object \n",
      " 19  is_starrable              209222 non-null  bool   \n",
      " 20  is_starred                300 non-null     object \n",
      " 21  launched_at               209222 non-null  int64  \n",
      " 22  location                  208996 non-null  object \n",
      " 23  name                      209222 non-null  object \n",
      " 24  permissions               300 non-null     object \n",
      " 25  photo                     209222 non-null  object \n",
      " 26  pledged                   209222 non-null  float64\n",
      " 27  profile                   209222 non-null  object \n",
      " 28  slug                      209222 non-null  object \n",
      " 29  source_url                209222 non-null  object \n",
      " 30  spotlight                 209222 non-null  bool   \n",
      " 31  staff_pick                209222 non-null  bool   \n",
      " 32  state                     209222 non-null  object \n",
      " 33  state_changed_at          209222 non-null  int64  \n",
      " 34  static_usd_rate           209222 non-null  float64\n",
      " 35  urls                      209222 non-null  object \n",
      " 36  usd_pledged               209222 non-null  float64\n",
      " 37  usd_type                  208742 non-null  object \n",
      "dtypes: bool(5), float64(5), int64(7), object(21)\n",
      "memory usage: 53.7+ MB\n"
     ]
    }
   ],
   "source": [
    "merged_df.info()"
   ]
  },
  {
   "cell_type": "code",
   "execution_count": 5,
   "id": "ec4c9ada-df77-4f48-898c-91f884bffe88",
   "metadata": {},
   "outputs": [],
   "source": [
    "compression_opts = dict(method='zip', archive_name='out.csv')  \n",
    "merged_df.to_csv('out.zip', index=False, compression=compression_opts)"
   ]
  },
  {
   "cell_type": "code",
   "execution_count": 7,
   "id": "194f27ef-a743-4f6e-928b-6e830a951a0d",
   "metadata": {},
   "outputs": [
    {
     "data": {
      "text/plain": [
       "(209222, 38)"
      ]
     },
     "execution_count": 7,
     "metadata": {},
     "output_type": "execute_result"
    }
   ],
   "source": [
    "merged_df.shape"
   ]
  },
  {
   "cell_type": "code",
   "execution_count": 8,
   "id": "a778074d-dc5f-4c77-9489-612373bd9a80",
   "metadata": {},
   "outputs": [
    {
     "data": {
      "text/html": [
       "<div>\n",
       "<style scoped>\n",
       "    .dataframe tbody tr th:only-of-type {\n",
       "        vertical-align: middle;\n",
       "    }\n",
       "\n",
       "    .dataframe tbody tr th {\n",
       "        vertical-align: top;\n",
       "    }\n",
       "\n",
       "    .dataframe thead th {\n",
       "        text-align: right;\n",
       "    }\n",
       "</style>\n",
       "<table border=\"1\" class=\"dataframe\">\n",
       "  <thead>\n",
       "    <tr style=\"text-align: right;\">\n",
       "      <th></th>\n",
       "      <th>backers_count</th>\n",
       "      <th>blurb</th>\n",
       "      <th>category</th>\n",
       "      <th>converted_pledged_amount</th>\n",
       "      <th>country</th>\n",
       "      <th>created_at</th>\n",
       "      <th>creator</th>\n",
       "      <th>currency</th>\n",
       "      <th>currency_symbol</th>\n",
       "      <th>currency_trailing_code</th>\n",
       "      <th>...</th>\n",
       "      <th>slug</th>\n",
       "      <th>source_url</th>\n",
       "      <th>spotlight</th>\n",
       "      <th>staff_pick</th>\n",
       "      <th>state</th>\n",
       "      <th>state_changed_at</th>\n",
       "      <th>static_usd_rate</th>\n",
       "      <th>urls</th>\n",
       "      <th>usd_pledged</th>\n",
       "      <th>usd_type</th>\n",
       "    </tr>\n",
       "  </thead>\n",
       "  <tbody>\n",
       "    <tr>\n",
       "      <th>0</th>\n",
       "      <td>315</td>\n",
       "      <td>Babalus Shoes</td>\n",
       "      <td>{\"id\":266,\"name\":\"Footwear\",\"slug\":\"fashion/fo...</td>\n",
       "      <td>28645</td>\n",
       "      <td>US</td>\n",
       "      <td>1541459205</td>\n",
       "      <td>{\"id\":2094277840,\"name\":\"Lucy Conroy\",\"slug\":\"...</td>\n",
       "      <td>USD</td>\n",
       "      <td>$</td>\n",
       "      <td>True</td>\n",
       "      <td>...</td>\n",
       "      <td>babalus-childrens-shoes</td>\n",
       "      <td>https://www.kickstarter.com/discover/categorie...</td>\n",
       "      <td>False</td>\n",
       "      <td>False</td>\n",
       "      <td>live</td>\n",
       "      <td>1548223375</td>\n",
       "      <td>1.000000</td>\n",
       "      <td>{\"web\":{\"project\":\"https://www.kickstarter.com...</td>\n",
       "      <td>28645.000000</td>\n",
       "      <td>international</td>\n",
       "    </tr>\n",
       "    <tr>\n",
       "      <th>1</th>\n",
       "      <td>47</td>\n",
       "      <td>A colorful Dia de los Muertos themed oracle de...</td>\n",
       "      <td>{\"id\":273,\"name\":\"Playing Cards\",\"slug\":\"games...</td>\n",
       "      <td>1950</td>\n",
       "      <td>US</td>\n",
       "      <td>1501684093</td>\n",
       "      <td>{\"id\":723886115,\"name\":\"Lisa Vollrath\",\"slug\":...</td>\n",
       "      <td>USD</td>\n",
       "      <td>$</td>\n",
       "      <td>True</td>\n",
       "      <td>...</td>\n",
       "      <td>the-ofrenda-oracle-deck</td>\n",
       "      <td>https://www.kickstarter.com/discover/categorie...</td>\n",
       "      <td>True</td>\n",
       "      <td>False</td>\n",
       "      <td>successful</td>\n",
       "      <td>1504976459</td>\n",
       "      <td>1.000000</td>\n",
       "      <td>{\"web\":{\"project\":\"https://www.kickstarter.com...</td>\n",
       "      <td>1950.000000</td>\n",
       "      <td>domestic</td>\n",
       "    </tr>\n",
       "    <tr>\n",
       "      <th>2</th>\n",
       "      <td>271</td>\n",
       "      <td>Electra's long awaited, eclectic Debut Pop/Roc...</td>\n",
       "      <td>{\"id\":43,\"name\":\"Rock\",\"slug\":\"music/rock\",\"po...</td>\n",
       "      <td>22404</td>\n",
       "      <td>US</td>\n",
       "      <td>1348987533</td>\n",
       "      <td>{\"id\":323849677,\"name\":\"Electra\",\"is_registere...</td>\n",
       "      <td>USD</td>\n",
       "      <td>$</td>\n",
       "      <td>True</td>\n",
       "      <td>...</td>\n",
       "      <td>record-electras-debut-album-pop-rock-classical</td>\n",
       "      <td>https://www.kickstarter.com/discover/categorie...</td>\n",
       "      <td>True</td>\n",
       "      <td>False</td>\n",
       "      <td>successful</td>\n",
       "      <td>1371013395</td>\n",
       "      <td>1.000000</td>\n",
       "      <td>{\"web\":{\"project\":\"https://www.kickstarter.com...</td>\n",
       "      <td>22404.000000</td>\n",
       "      <td>international</td>\n",
       "    </tr>\n",
       "    <tr>\n",
       "      <th>3</th>\n",
       "      <td>3</td>\n",
       "      <td>The Mist of Tribunal is a turn-based card game...</td>\n",
       "      <td>{\"id\":273,\"name\":\"Playing Cards\",\"slug\":\"games...</td>\n",
       "      <td>165</td>\n",
       "      <td>GB</td>\n",
       "      <td>1483780271</td>\n",
       "      <td>{\"id\":196281496,\"name\":\"Artur Ordijanc (delete...</td>\n",
       "      <td>GBP</td>\n",
       "      <td>£</td>\n",
       "      <td>False</td>\n",
       "      <td>...</td>\n",
       "      <td>the-mist-of-tribunal-a-card-game</td>\n",
       "      <td>https://www.kickstarter.com/discover/categorie...</td>\n",
       "      <td>False</td>\n",
       "      <td>False</td>\n",
       "      <td>failed</td>\n",
       "      <td>1489425776</td>\n",
       "      <td>1.216066</td>\n",
       "      <td>{\"web\":{\"project\":\"https://www.kickstarter.com...</td>\n",
       "      <td>165.384934</td>\n",
       "      <td>domestic</td>\n",
       "    </tr>\n",
       "    <tr>\n",
       "      <th>4</th>\n",
       "      <td>3</td>\n",
       "      <td>Livng with a brain impairment, what its like t...</td>\n",
       "      <td>{\"id\":48,\"name\":\"Nonfiction\",\"slug\":\"publishin...</td>\n",
       "      <td>2820</td>\n",
       "      <td>US</td>\n",
       "      <td>1354817071</td>\n",
       "      <td>{\"id\":1178460181,\"name\":\"Dawn Johnston\",\"is_re...</td>\n",
       "      <td>USD</td>\n",
       "      <td>$</td>\n",
       "      <td>True</td>\n",
       "      <td>...</td>\n",
       "      <td>help-change-the-face-of-brain-impairment</td>\n",
       "      <td>https://www.kickstarter.com/discover/categorie...</td>\n",
       "      <td>True</td>\n",
       "      <td>False</td>\n",
       "      <td>successful</td>\n",
       "      <td>1357763527</td>\n",
       "      <td>1.000000</td>\n",
       "      <td>{\"web\":{\"project\":\"https://www.kickstarter.com...</td>\n",
       "      <td>2820.000000</td>\n",
       "      <td>domestic</td>\n",
       "    </tr>\n",
       "  </tbody>\n",
       "</table>\n",
       "<p>5 rows × 38 columns</p>\n",
       "</div>"
      ],
      "text/plain": [
       "   backers_count                                              blurb  \\\n",
       "0            315                                      Babalus Shoes   \n",
       "1             47  A colorful Dia de los Muertos themed oracle de...   \n",
       "2            271  Electra's long awaited, eclectic Debut Pop/Roc...   \n",
       "3              3  The Mist of Tribunal is a turn-based card game...   \n",
       "4              3  Livng with a brain impairment, what its like t...   \n",
       "\n",
       "                                            category  \\\n",
       "0  {\"id\":266,\"name\":\"Footwear\",\"slug\":\"fashion/fo...   \n",
       "1  {\"id\":273,\"name\":\"Playing Cards\",\"slug\":\"games...   \n",
       "2  {\"id\":43,\"name\":\"Rock\",\"slug\":\"music/rock\",\"po...   \n",
       "3  {\"id\":273,\"name\":\"Playing Cards\",\"slug\":\"games...   \n",
       "4  {\"id\":48,\"name\":\"Nonfiction\",\"slug\":\"publishin...   \n",
       "\n",
       "   converted_pledged_amount country  created_at  \\\n",
       "0                     28645      US  1541459205   \n",
       "1                      1950      US  1501684093   \n",
       "2                     22404      US  1348987533   \n",
       "3                       165      GB  1483780271   \n",
       "4                      2820      US  1354817071   \n",
       "\n",
       "                                             creator currency currency_symbol  \\\n",
       "0  {\"id\":2094277840,\"name\":\"Lucy Conroy\",\"slug\":\"...      USD               $   \n",
       "1  {\"id\":723886115,\"name\":\"Lisa Vollrath\",\"slug\":...      USD               $   \n",
       "2  {\"id\":323849677,\"name\":\"Electra\",\"is_registere...      USD               $   \n",
       "3  {\"id\":196281496,\"name\":\"Artur Ordijanc (delete...      GBP               £   \n",
       "4  {\"id\":1178460181,\"name\":\"Dawn Johnston\",\"is_re...      USD               $   \n",
       "\n",
       "   currency_trailing_code  ...  \\\n",
       "0                    True  ...   \n",
       "1                    True  ...   \n",
       "2                    True  ...   \n",
       "3                   False  ...   \n",
       "4                    True  ...   \n",
       "\n",
       "                                             slug  \\\n",
       "0                         babalus-childrens-shoes   \n",
       "1                         the-ofrenda-oracle-deck   \n",
       "2  record-electras-debut-album-pop-rock-classical   \n",
       "3                the-mist-of-tribunal-a-card-game   \n",
       "4        help-change-the-face-of-brain-impairment   \n",
       "\n",
       "                                          source_url  spotlight staff_pick  \\\n",
       "0  https://www.kickstarter.com/discover/categorie...      False      False   \n",
       "1  https://www.kickstarter.com/discover/categorie...       True      False   \n",
       "2  https://www.kickstarter.com/discover/categorie...       True      False   \n",
       "3  https://www.kickstarter.com/discover/categorie...      False      False   \n",
       "4  https://www.kickstarter.com/discover/categorie...       True      False   \n",
       "\n",
       "        state  state_changed_at  static_usd_rate  \\\n",
       "0        live        1548223375         1.000000   \n",
       "1  successful        1504976459         1.000000   \n",
       "2  successful        1371013395         1.000000   \n",
       "3      failed        1489425776         1.216066   \n",
       "4  successful        1357763527         1.000000   \n",
       "\n",
       "                                                urls   usd_pledged  \\\n",
       "0  {\"web\":{\"project\":\"https://www.kickstarter.com...  28645.000000   \n",
       "1  {\"web\":{\"project\":\"https://www.kickstarter.com...   1950.000000   \n",
       "2  {\"web\":{\"project\":\"https://www.kickstarter.com...  22404.000000   \n",
       "3  {\"web\":{\"project\":\"https://www.kickstarter.com...    165.384934   \n",
       "4  {\"web\":{\"project\":\"https://www.kickstarter.com...   2820.000000   \n",
       "\n",
       "        usd_type  \n",
       "0  international  \n",
       "1       domestic  \n",
       "2  international  \n",
       "3       domestic  \n",
       "4       domestic  \n",
       "\n",
       "[5 rows x 38 columns]"
      ]
     },
     "execution_count": 8,
     "metadata": {},
     "output_type": "execute_result"
    }
   ],
   "source": [
    "merged_df.head()"
   ]
  },
  {
   "cell_type": "code",
   "execution_count": 9,
   "id": "e6c4703b-ca6e-4c18-b70f-ff1c77f4801e",
   "metadata": {},
   "outputs": [
    {
     "data": {
      "text/plain": [
       "Index(['backers_count', 'blurb', 'category', 'converted_pledged_amount',\n",
       "       'country', 'created_at', 'creator', 'currency', 'currency_symbol',\n",
       "       'currency_trailing_code', 'current_currency', 'deadline',\n",
       "       'disable_communication', 'file', 'friends', 'fx_rate', 'goal', 'id',\n",
       "       'is_backing', 'is_starrable', 'is_starred', 'launched_at', 'location',\n",
       "       'name', 'permissions', 'photo', 'pledged', 'profile', 'slug',\n",
       "       'source_url', 'spotlight', 'staff_pick', 'state', 'state_changed_at',\n",
       "       'static_usd_rate', 'urls', 'usd_pledged', 'usd_type'],\n",
       "      dtype='object')"
      ]
     },
     "execution_count": 9,
     "metadata": {},
     "output_type": "execute_result"
    }
   ],
   "source": [
    "merged_df.columns"
   ]
  },
  {
   "cell_type": "code",
   "execution_count": 10,
   "id": "186a52be-8974-41e1-8d1a-8d590499e010",
   "metadata": {},
   "outputs": [
    {
     "data": {
      "text/html": [
       "<div>\n",
       "<style scoped>\n",
       "    .dataframe tbody tr th:only-of-type {\n",
       "        vertical-align: middle;\n",
       "    }\n",
       "\n",
       "    .dataframe tbody tr th {\n",
       "        vertical-align: top;\n",
       "    }\n",
       "\n",
       "    .dataframe thead th {\n",
       "        text-align: right;\n",
       "    }\n",
       "</style>\n",
       "<table border=\"1\" class=\"dataframe\">\n",
       "  <thead>\n",
       "    <tr style=\"text-align: right;\">\n",
       "      <th></th>\n",
       "      <th>backers_count</th>\n",
       "      <th>blurb</th>\n",
       "      <th>category</th>\n",
       "      <th>converted_pledged_amount</th>\n",
       "      <th>country</th>\n",
       "      <th>created_at</th>\n",
       "      <th>creator</th>\n",
       "      <th>currency</th>\n",
       "      <th>currency_symbol</th>\n",
       "      <th>currency_trailing_code</th>\n",
       "      <th>...</th>\n",
       "      <th>profile</th>\n",
       "      <th>slug</th>\n",
       "      <th>source_url</th>\n",
       "      <th>spotlight</th>\n",
       "      <th>staff_pick</th>\n",
       "      <th>state_changed_at</th>\n",
       "      <th>static_usd_rate</th>\n",
       "      <th>urls</th>\n",
       "      <th>usd_pledged</th>\n",
       "      <th>usd_type</th>\n",
       "    </tr>\n",
       "    <tr>\n",
       "      <th>state</th>\n",
       "      <th></th>\n",
       "      <th></th>\n",
       "      <th></th>\n",
       "      <th></th>\n",
       "      <th></th>\n",
       "      <th></th>\n",
       "      <th></th>\n",
       "      <th></th>\n",
       "      <th></th>\n",
       "      <th></th>\n",
       "      <th></th>\n",
       "      <th></th>\n",
       "      <th></th>\n",
       "      <th></th>\n",
       "      <th></th>\n",
       "      <th></th>\n",
       "      <th></th>\n",
       "      <th></th>\n",
       "      <th></th>\n",
       "      <th></th>\n",
       "      <th></th>\n",
       "    </tr>\n",
       "  </thead>\n",
       "  <tbody>\n",
       "    <tr>\n",
       "      <th>canceled</th>\n",
       "      <td>8624</td>\n",
       "      <td>8618</td>\n",
       "      <td>8624</td>\n",
       "      <td>8624</td>\n",
       "      <td>8624</td>\n",
       "      <td>8624</td>\n",
       "      <td>8624</td>\n",
       "      <td>8624</td>\n",
       "      <td>8624</td>\n",
       "      <td>8624</td>\n",
       "      <td>...</td>\n",
       "      <td>8624</td>\n",
       "      <td>8624</td>\n",
       "      <td>8624</td>\n",
       "      <td>8624</td>\n",
       "      <td>8624</td>\n",
       "      <td>8624</td>\n",
       "      <td>8624</td>\n",
       "      <td>8624</td>\n",
       "      <td>8624</td>\n",
       "      <td>8624</td>\n",
       "    </tr>\n",
       "    <tr>\n",
       "      <th>failed</th>\n",
       "      <td>75199</td>\n",
       "      <td>75197</td>\n",
       "      <td>75199</td>\n",
       "      <td>75199</td>\n",
       "      <td>75199</td>\n",
       "      <td>75199</td>\n",
       "      <td>75199</td>\n",
       "      <td>75199</td>\n",
       "      <td>75199</td>\n",
       "      <td>75199</td>\n",
       "      <td>...</td>\n",
       "      <td>75199</td>\n",
       "      <td>75199</td>\n",
       "      <td>75199</td>\n",
       "      <td>75199</td>\n",
       "      <td>75199</td>\n",
       "      <td>75199</td>\n",
       "      <td>75199</td>\n",
       "      <td>75199</td>\n",
       "      <td>75199</td>\n",
       "      <td>75199</td>\n",
       "    </tr>\n",
       "    <tr>\n",
       "      <th>live</th>\n",
       "      <td>7311</td>\n",
       "      <td>7311</td>\n",
       "      <td>7311</td>\n",
       "      <td>7311</td>\n",
       "      <td>7311</td>\n",
       "      <td>7311</td>\n",
       "      <td>7311</td>\n",
       "      <td>7311</td>\n",
       "      <td>7311</td>\n",
       "      <td>7311</td>\n",
       "      <td>...</td>\n",
       "      <td>7311</td>\n",
       "      <td>7311</td>\n",
       "      <td>7311</td>\n",
       "      <td>7311</td>\n",
       "      <td>7311</td>\n",
       "      <td>7311</td>\n",
       "      <td>7311</td>\n",
       "      <td>7311</td>\n",
       "      <td>7311</td>\n",
       "      <td>6869</td>\n",
       "    </tr>\n",
       "    <tr>\n",
       "      <th>successful</th>\n",
       "      <td>117465</td>\n",
       "      <td>117465</td>\n",
       "      <td>117465</td>\n",
       "      <td>117465</td>\n",
       "      <td>117465</td>\n",
       "      <td>117465</td>\n",
       "      <td>117465</td>\n",
       "      <td>117465</td>\n",
       "      <td>117465</td>\n",
       "      <td>117465</td>\n",
       "      <td>...</td>\n",
       "      <td>117465</td>\n",
       "      <td>117465</td>\n",
       "      <td>117465</td>\n",
       "      <td>117465</td>\n",
       "      <td>117465</td>\n",
       "      <td>117465</td>\n",
       "      <td>117465</td>\n",
       "      <td>117465</td>\n",
       "      <td>117465</td>\n",
       "      <td>117427</td>\n",
       "    </tr>\n",
       "    <tr>\n",
       "      <th>suspended</th>\n",
       "      <td>623</td>\n",
       "      <td>623</td>\n",
       "      <td>623</td>\n",
       "      <td>623</td>\n",
       "      <td>623</td>\n",
       "      <td>623</td>\n",
       "      <td>623</td>\n",
       "      <td>623</td>\n",
       "      <td>623</td>\n",
       "      <td>623</td>\n",
       "      <td>...</td>\n",
       "      <td>623</td>\n",
       "      <td>623</td>\n",
       "      <td>623</td>\n",
       "      <td>623</td>\n",
       "      <td>623</td>\n",
       "      <td>623</td>\n",
       "      <td>623</td>\n",
       "      <td>623</td>\n",
       "      <td>623</td>\n",
       "      <td>623</td>\n",
       "    </tr>\n",
       "  </tbody>\n",
       "</table>\n",
       "<p>5 rows × 37 columns</p>\n",
       "</div>"
      ],
      "text/plain": [
       "            backers_count   blurb  category  converted_pledged_amount  \\\n",
       "state                                                                   \n",
       "canceled             8624    8618      8624                      8624   \n",
       "failed              75199   75197     75199                     75199   \n",
       "live                 7311    7311      7311                      7311   \n",
       "successful         117465  117465    117465                    117465   \n",
       "suspended             623     623       623                       623   \n",
       "\n",
       "            country  created_at  creator  currency  currency_symbol  \\\n",
       "state                                                                 \n",
       "canceled       8624        8624     8624      8624             8624   \n",
       "failed        75199       75199    75199     75199            75199   \n",
       "live           7311        7311     7311      7311             7311   \n",
       "successful   117465      117465   117465    117465           117465   \n",
       "suspended       623         623      623       623              623   \n",
       "\n",
       "            currency_trailing_code  ...  profile    slug  source_url  \\\n",
       "state                               ...                                \n",
       "canceled                      8624  ...     8624    8624        8624   \n",
       "failed                       75199  ...    75199   75199       75199   \n",
       "live                          7311  ...     7311    7311        7311   \n",
       "successful                  117465  ...   117465  117465      117465   \n",
       "suspended                      623  ...      623     623         623   \n",
       "\n",
       "            spotlight  staff_pick  state_changed_at  static_usd_rate    urls  \\\n",
       "state                                                                          \n",
       "canceled         8624        8624              8624             8624    8624   \n",
       "failed          75199       75199             75199            75199   75199   \n",
       "live             7311        7311              7311             7311    7311   \n",
       "successful     117465      117465            117465           117465  117465   \n",
       "suspended         623         623               623              623     623   \n",
       "\n",
       "            usd_pledged  usd_type  \n",
       "state                              \n",
       "canceled           8624      8624  \n",
       "failed            75199     75199  \n",
       "live               7311      6869  \n",
       "successful       117465    117427  \n",
       "suspended           623       623  \n",
       "\n",
       "[5 rows x 37 columns]"
      ]
     },
     "execution_count": 10,
     "metadata": {},
     "output_type": "execute_result"
    }
   ],
   "source": [
    "merged_df.groupby('state').count()"
   ]
  },
  {
   "cell_type": "code",
   "execution_count": 14,
   "id": "9c8b8ce3-96ac-469a-a054-d1a6a3fe325b",
   "metadata": {},
   "outputs": [
    {
     "data": {
      "text/plain": [
       "backers_count                    0\n",
       "blurb                            8\n",
       "category                         0\n",
       "converted_pledged_amount         0\n",
       "country                          0\n",
       "created_at                       0\n",
       "creator                          0\n",
       "currency                         0\n",
       "currency_symbol                  0\n",
       "currency_trailing_code           0\n",
       "current_currency                 0\n",
       "deadline                         0\n",
       "disable_communication            0\n",
       "file                             0\n",
       "friends                     208922\n",
       "fx_rate                          0\n",
       "goal                             0\n",
       "id                               0\n",
       "is_backing                  208922\n",
       "is_starrable                     0\n",
       "is_starred                  208922\n",
       "launched_at                      0\n",
       "location                       226\n",
       "name                             0\n",
       "permissions                 208922\n",
       "photo                            0\n",
       "pledged                          0\n",
       "profile                          0\n",
       "slug                             0\n",
       "source_url                       0\n",
       "spotlight                        0\n",
       "staff_pick                       0\n",
       "state                            0\n",
       "state_changed_at                 0\n",
       "static_usd_rate                  0\n",
       "urls                             0\n",
       "usd_pledged                      0\n",
       "usd_type                       480\n",
       "dtype: int64"
      ]
     },
     "execution_count": 14,
     "metadata": {},
     "output_type": "execute_result"
    }
   ],
   "source": [
    "pd.isnull(merged_df).sum()"
   ]
  },
  {
   "cell_type": "markdown",
   "id": "473ffe53-a58e-4dae-9b3a-8a060b00cb55",
   "metadata": {
    "tags": []
   },
   "source": [
    "## Data Cleaning"
   ]
  },
  {
   "cell_type": "code",
   "execution_count": 108,
   "id": "a4b50b30-8cfa-40ce-b227-b4b223b535a3",
   "metadata": {},
   "outputs": [],
   "source": [
    "final = merged_df.copy()"
   ]
  },
  {
   "cell_type": "markdown",
   "id": "e099540c-5073-4b52-82bb-e7ccca4ccb61",
   "metadata": {},
   "source": [
    "### Dropping Data"
   ]
  },
  {
   "cell_type": "markdown",
   "id": "0e8f4a92-5efa-48cd-8ce5-618c97afd112",
   "metadata": {},
   "source": [
    "#### dropping variables with missing values"
   ]
  },
  {
   "cell_type": "code",
   "execution_count": 109,
   "id": "bd514c88-1309-4978-a5db-56c9c5b60b36",
   "metadata": {},
   "outputs": [],
   "source": [
    "final = final.drop(['blurb', 'friends', 'is_backing', 'is_starred', 'permissions', 'usd_type', 'location'], axis = 1)"
   ]
  },
  {
   "cell_type": "markdown",
   "id": "420d37f3-3648-46eb-bbc7-16c98f7e6d65",
   "metadata": {},
   "source": [
    "#### dropping useless variables"
   ]
  },
  {
   "cell_type": "code",
   "execution_count": 110,
   "id": "fabbc6e2-50d2-4305-8068-83d7fd4ca055",
   "metadata": {},
   "outputs": [],
   "source": [
    "final = final.drop(['creator', 'currency_symbol', 'name', 'photo', 'profile', 'slug', 'source_url', 'urls', 'pledged', 'usd_pledged'], axis = 1)"
   ]
  },
  {
   "cell_type": "markdown",
   "id": "5984aa0a-2364-4778-a8e6-ae13b3d5c85c",
   "metadata": {
    "tags": []
   },
   "source": [
    "#### dropping file column "
   ]
  },
  {
   "cell_type": "code",
   "execution_count": 111,
   "id": "b030f98b-2915-4910-aac6-34b0770bdf48",
   "metadata": {},
   "outputs": [],
   "source": [
    "final = final.drop(['file'], axis = 1)"
   ]
  },
  {
   "cell_type": "code",
   "execution_count": 112,
   "id": "42bd8cf2-391b-4157-936a-6364aac02242",
   "metadata": {},
   "outputs": [
    {
     "data": {
      "text/plain": [
       "backers_count               0\n",
       "category                    0\n",
       "converted_pledged_amount    0\n",
       "country                     0\n",
       "created_at                  0\n",
       "currency                    0\n",
       "currency_trailing_code      0\n",
       "current_currency            0\n",
       "deadline                    0\n",
       "disable_communication       0\n",
       "fx_rate                     0\n",
       "goal                        0\n",
       "id                          0\n",
       "is_starrable                0\n",
       "launched_at                 0\n",
       "spotlight                   0\n",
       "staff_pick                  0\n",
       "state                       0\n",
       "state_changed_at            0\n",
       "static_usd_rate             0\n",
       "usd_pledged                 0\n",
       "dtype: int64"
      ]
     },
     "execution_count": 112,
     "metadata": {},
     "output_type": "execute_result"
    }
   ],
   "source": [
    "pd.isnull(final).sum()"
   ]
  },
  {
   "cell_type": "markdown",
   "id": "861a501e-271a-4a93-994e-293eeb613cea",
   "metadata": {
    "tags": []
   },
   "source": [
    "### Time conversions"
   ]
  },
  {
   "cell_type": "code",
   "execution_count": 94,
   "id": "e83bdb1a-cdf7-4192-a29f-40894e618ac6",
   "metadata": {},
   "outputs": [],
   "source": [
    "final.launched_at = pd.to_datetime(final.launched_at,unit='s',infer_datetime_format=True)\n",
    "final.deadline = pd.to_datetime(final.deadline,unit='s',infer_datetime_format=True)\n",
    "final.created_at = pd.to_datetime(final.created_at,unit='s',infer_datetime_format=True)\n",
    "final.state_changed_at = pd.to_datetime(final.state_changed_at,unit='s',infer_datetime_format=True)"
   ]
  },
  {
   "cell_type": "markdown",
   "id": "8a7b2d1c-370c-4682-aefc-8d383643d259",
   "metadata": {},
   "source": [
    "### creating new variables"
   ]
  },
  {
   "cell_type": "code",
   "execution_count": 122,
   "id": "8a8fca88-be18-4284-95b3-4138f721e1a6",
   "metadata": {},
   "outputs": [],
   "source": [
    "final['pledged_over'] = final.converted_pledged_amount - final.goal\n",
    "final['campaign_days'] = final.deadline - final.launched_at \n",
    "final['pre_launched_days'] = final.launched_at - final.created_at"
   ]
  },
  {
   "cell_type": "code",
   "execution_count": 123,
   "id": "e73b2e57-3133-48b3-87a7-9e939f82689a",
   "metadata": {},
   "outputs": [
    {
     "data": {
      "text/plain": [
       "-36283.13077611341"
      ]
     },
     "execution_count": 123,
     "metadata": {},
     "output_type": "execute_result"
    }
   ],
   "source": [
    "final.pledged_over.mean()"
   ]
  },
  {
   "cell_type": "code",
   "execution_count": 42,
   "id": "13787e12-9a7f-4bbe-89f4-4c62f48f2122",
   "metadata": {},
   "outputs": [
    {
     "data": {
      "text/plain": [
       "Timedelta('32 days 17:22:26.681759088')"
      ]
     },
     "execution_count": 42,
     "metadata": {},
     "output_type": "execute_result"
    }
   ],
   "source": [
    "final.campaign_days.mean()"
   ]
  },
  {
   "cell_type": "code",
   "execution_count": 61,
   "id": "410f4430-be3e-4f05-a8b6-782b7d914021",
   "metadata": {},
   "outputs": [
    {
     "data": {
      "text/plain": [
       "Timedelta('47 days 15:36:24.747727294')"
      ]
     },
     "execution_count": 61,
     "metadata": {},
     "output_type": "execute_result"
    }
   ],
   "source": [
    "final.pre_launched_days.mean()"
   ]
  },
  {
   "cell_type": "markdown",
   "id": "ea8c3f66-dbf5-4f08-8f74-90c4e1bfa92e",
   "metadata": {
    "tags": []
   },
   "source": [
    "# category exploration"
   ]
  },
  {
   "cell_type": "code",
   "execution_count": 131,
   "id": "451b9e44-50ee-4af0-acac-b032f032b7d8",
   "metadata": {},
   "outputs": [],
   "source": [
    "# To do: save final df as csv\n",
    "#compression_opts = dict(method='zip', archive_name='Kickstarter_all_clean.csv')  \n",
    "#final.to_csv('Kickstarter_all_clean.zip', index=False, compression=compression_opts)"
   ]
  }
 ],
 "metadata": {
  "kernelspec": {
   "display_name": "Python 3 (ipykernel)",
   "language": "python",
   "name": "python3"
  },
  "language_info": {
   "codemirror_mode": {
    "name": "ipython",
    "version": 3
   },
   "file_extension": ".py",
   "mimetype": "text/x-python",
   "name": "python",
   "nbconvert_exporter": "python",
   "pygments_lexer": "ipython3",
   "version": "3.9.4"
  }
 },
 "nbformat": 4,
 "nbformat_minor": 5
}
