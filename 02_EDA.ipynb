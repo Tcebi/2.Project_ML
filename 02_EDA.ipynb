{
 "cells": [
  {
   "cell_type": "markdown",
   "id": "e7106b0b-cb26-4b88-9670-ccb097ab306a",
   "metadata": {
    "jp-MarkdownHeadingCollapsed": true,
    "tags": []
   },
   "source": [
    "## Business Understanding \n",
    "Purpose: Ask relevant questions and define objectives for the problem that needs to be tackled\n",
    "\n",
    "## Background\n",
    "In recent years, the range of funding options for projects created by individuals and small companies has expanded considerably. In addition to savings, bank loans, friends & family funding and other traditional options, crowdfunding has become a popular and readily available alternative.\n",
    "\n",
    "Kickstarter, founded in 2009, is one particularly well-known and popular crowdfunding platform. It has an all-or-nothing funding model, whereby a project is only funded if it meets its goal amount; otherwise no money is given by backers to a project. A huge variety of factors contribute to the success or failure of a project — in general, and also on Kickstarter. Some of these are able to be quantified or categorized, which allows for the construction of a model to attempt to predict whether a project will succeed or not. The aim of this project is to construct such a model and also to analyse Kickstarter project data more generally, in order to help potential project creators assess whether or not Kickstarter is a good funding option for them, and what their chances of success are.\n",
    "\n",
    "### Final Deliverables\n",
    "\n",
    "\n",
    "* Well designed presentation for non-technical stakeholders outlining findings and recommendations, as well as future work (10min presentation).\n",
    "* Jupyter notebook following Data Science Lifecycle\n",
    "\n",
    "### Things to think about\n",
    "\n",
    "* Try different (at least 3) machine learning algorithms to check which performs best on the problem at hand\n",
    "* What would be right performance metric: Precision, recall, accuracy, F1 score, or something else? (Check TPR?)\n",
    "* Check for data imbalance\n",
    "\n",
    "\n",
    "## Key Question \n",
    "\n",
    "We currently hold a task by Kickstarter to come up with a model to predict in a first step whether is project is likely to be successful, given certain project parameters. In a second step (out of scope), Kickstarter would like to be able to provide a good goal recommendation for creators( for example using staff picks etc.)\n",
    "\n",
    "* Given certain project parameters, __is a campaign likely to succeed or fail?__ --> classification\n",
    "* what would e a __reasonable goal reccomendation for creators__ --> regression\n",
    "\n",
    "\n",
    "\n",
    "## Feature Glossary\n",
    "\n",
    "Features included in model\n",
    "\n",
    "* Target : state\n",
    "*\n",
    "*\n",
    "*\n",
    "\n",
    "## Dataset Description\n",
    "\n",
    "- **backers_count**: Amount of people who backed this project\n",
    "- **category**: \n",
    "- **country**: Country the project owner lives in\n",
    "- **created_at**: Date when the prjoect was created\n",
    "- **currency**: Currency of the country where the owner lives in\n",
    "- **currency_trailing_code**: \n",
    "- **current_currency**: \n",
    "- **deadline**: Date until the project can be backed\n",
    "- **disable_communication**: If the communication with owner was disabled or not\n",
    "- **fx_rate**: Foreign exchange rate\n",
    "- **goal**: Project is only funded when the goal amount is reached\n",
    "- **launched_at**: Date when the project was launced\n",
    "- **spotlight**: Highlighted projects (available to all projects that are successfully funded)\n",
    "- **staff_pick**: Promissing project picked by Kickstarter employees\n",
    "- **state**: Project status\n",
    "- **state_changed_at**: Date when state changed the last time\n",
    "- **static_usd_rate**: static USD Convergen rate at time\n",
    "- **usd_pledged**: pledge amount converted to USD using Static_usd_rate\n",
    "\n",
    "\n",
    "## Dataset New/Added Feature Description\n",
    "\n",
    "- **campaign_days**: Days the Project was live\n",
    "- **pledged_over**: Amount Pledged surpassing the Goal(with converted pledge amount) \n",
    "- **pre_launched_days**: Days before the Project was launched\n",
    "\n",
    "\n",
    "## Target Metric\n",
    "\n",
    "* F1 score — Since creators wouldn’t want the model to predict too many success that will turn out to be a failure (minimize False Positives) and backers would want to make sure the model capture as many success as possible (minimize False Negatives), I want a balance between precision and recall\n",
    "\n",
    "## Outcome / Reccomendations\n",
    "*\n",
    "*\n",
    "*"
   ]
  },
  {
   "cell_type": "markdown",
   "id": "01c5ce27-de08-414b-a934-fc58320dcc1f",
   "metadata": {
    "tags": []
   },
   "source": [
    "## Import Libraries"
   ]
  },
  {
   "cell_type": "code",
   "execution_count": null,
   "id": "b42169b9-15fd-49ac-94f6-6e0c95fb608d",
   "metadata": {
    "tags": []
   },
   "outputs": [],
   "source": [
    "import pandas as pd\n",
    "import numpy as np\n",
    "import matplotlib.pyplot as plt\n",
    "import matplotlib.ticker as ticker\n",
    "from matplotlib.gridspec import GridSpec\n",
    "import scipy as sc\n",
    "from scipy.stats import kstest\n",
    "import seaborn as sns\n",
    "import math\n",
    "import warnings\n",
    "warnings.filterwarnings(\"ignore\")\n",
    "\n",
    "#Data mining\n",
    "import os, glob\n",
    "\n",
    "#Preprocessing\n",
    "from sklearn.model_selection import train_test_split, RandomizedSearchCV\n",
    "from sklearn.dummy import DummyClassifier\n",
    "from sklearn.preprocessing import OneHotEncoder, MinMaxScaler, StandardScaler, PolynomialFeatures, LabelEncoder\n",
    "from sklearn.linear_model import LinearRegression, LogisticRegression\n",
    "from sklearn.model_selection import cross_val_score\n",
    "from sklearn.metrics import classification_report, confusion_matrix, f1_score, accuracy_score\n",
    "import imblearn\n",
    "from imblearn.over_sampling import RandomOverSampler\n",
    "\n",
    "\n",
    "\n"
   ]
  },
  {
   "cell_type": "markdown",
   "id": "a340d81d-bff7-4438-bfdf-ec46523b0ef2",
   "metadata": {
    "tags": []
   },
   "source": [
    "## Dashboard\n",
    "Purpose : Define global variables and visuals"
   ]
  },
  {
   "cell_type": "code",
   "execution_count": null,
   "id": "ff5ca982-73ac-4eb3-8200-8a972a93bf70",
   "metadata": {},
   "outputs": [],
   "source": [
    "random_state = 100\n",
    "test_size = 0.3\n",
    "sns.set(style = \"white\")"
   ]
  },
  {
   "cell_type": "markdown",
   "id": "bfbd055f-0174-427b-b7fc-61ee975585d8",
   "metadata": {
    "tags": []
   },
   "source": [
    "## Data Mining"
   ]
  },
  {
   "cell_type": "code",
   "execution_count": null,
   "id": "dc1aa018-b655-4c84-bc82-b08c6eb40cb2",
   "metadata": {},
   "outputs": [],
   "source": [
    "# Import multiple Kickstarter csv files and merge into one dataframe\n",
    "\n",
    "path = \"data-2\"\n",
    "all_files = glob.glob(os.path.join(path, \"*.csv\"))\n",
    "\n",
    "all_df = []\n",
    "for f in all_files:\n",
    "    df = pd.read_csv(f, sep=',')\n",
    "    df['file'] = f.split('/')[-1]\n",
    "    all_df.append(df)\n",
    "    \n",
    "merged_df = pd.concat(all_df, ignore_index=True, sort=True)"
   ]
  },
  {
   "cell_type": "code",
   "execution_count": null,
   "id": "4dd02ab6-5792-49af-8186-aff4ddb867e3",
   "metadata": {},
   "outputs": [],
   "source": [
    "#\n",
    "#merged_df = pd.read_csv('data-2/Kickstarter_all.csv') ### brauche ich wenn ich den Anderen Kram nicht laufen lassen will"
   ]
  },
  {
   "cell_type": "markdown",
   "id": "49a1e3ca-e891-4ff8-8c35-9cd8fe274c97",
   "metadata": {
    "tags": []
   },
   "source": [
    "## Inspection and Data Cleaning"
   ]
  },
  {
   "cell_type": "code",
   "execution_count": null,
   "id": "7ccf0aaa-d6de-4498-b494-8babd33a1b40",
   "metadata": {},
   "outputs": [],
   "source": [
    "merged_df.info()"
   ]
  },
  {
   "cell_type": "code",
   "execution_count": null,
   "id": "ec4c9ada-df77-4f48-898c-91f884bffe88",
   "metadata": {},
   "outputs": [],
   "source": [
    "#save the merged data as .zip\n",
    "#compression_opts = dict(method='zip', archive_name='out.csv')  \n",
    "#merged_df.to_csv('out.zip', index=False, compression=compression_opts)"
   ]
  },
  {
   "cell_type": "code",
   "execution_count": null,
   "id": "194f27ef-a743-4f6e-928b-6e830a951a0d",
   "metadata": {},
   "outputs": [],
   "source": [
    "# Display shape of \"data\"\n",
    "merged_df.shape"
   ]
  },
  {
   "cell_type": "code",
   "execution_count": null,
   "id": "a778074d-dc5f-4c77-9489-612373bd9a80",
   "metadata": {},
   "outputs": [],
   "source": [
    "merged_df.head()"
   ]
  },
  {
   "cell_type": "code",
   "execution_count": null,
   "id": "e6c4703b-ca6e-4c18-b70f-ff1c77f4801e",
   "metadata": {},
   "outputs": [],
   "source": [
    "merged_df.columns"
   ]
  },
  {
   "cell_type": "code",
   "execution_count": null,
   "id": "186a52be-8974-41e1-8d1a-8d590499e010",
   "metadata": {},
   "outputs": [],
   "source": [
    "merged_df.groupby('state').count()"
   ]
  },
  {
   "cell_type": "code",
   "execution_count": null,
   "id": "9c8b8ce3-96ac-469a-a054-d1a6a3fe325b",
   "metadata": {},
   "outputs": [],
   "source": [
    "pd.isnull(merged_df).sum()"
   ]
  },
  {
   "cell_type": "markdown",
   "id": "473ffe53-a58e-4dae-9b3a-8a060b00cb55",
   "metadata": {
    "tags": []
   },
   "source": [
    "## Data Handling"
   ]
  },
  {
   "cell_type": "code",
   "execution_count": null,
   "id": "a4b50b30-8cfa-40ce-b227-b4b223b535a3",
   "metadata": {},
   "outputs": [],
   "source": [
    "# create a dataset for Inspection\n",
    "final = merged_df.copy()"
   ]
  },
  {
   "cell_type": "markdown",
   "id": "e099540c-5073-4b52-82bb-e7ccca4ccb61",
   "metadata": {
    "tags": []
   },
   "source": [
    "### Dropping Data"
   ]
  },
  {
   "cell_type": "code",
   "execution_count": null,
   "id": "3205e7cf-afda-49df-98ad-52ad9403e6dd",
   "metadata": {},
   "outputs": [],
   "source": [
    "drop_list = []"
   ]
  },
  {
   "cell_type": "markdown",
   "id": "0e8f4a92-5efa-48cd-8ce5-618c97afd112",
   "metadata": {},
   "source": [
    "#### Dropping features with missing values"
   ]
  },
  {
   "cell_type": "code",
   "execution_count": null,
   "id": "bd514c88-1309-4978-a5db-56c9c5b60b36",
   "metadata": {},
   "outputs": [],
   "source": [
    "drop_missing_values = ['blurb', 'friends', 'is_backing', 'is_starred', 'permissions', 'usd_type', 'location']\n",
    "drop_list.extend(drop_missing_values)\n",
    "final = final.drop(drop_missing_values, axis = 1)\n"
   ]
  },
  {
   "cell_type": "markdown",
   "id": "420d37f3-3648-46eb-bbc7-16c98f7e6d65",
   "metadata": {},
   "source": [
    "#### Dropping useless features "
   ]
  },
  {
   "cell_type": "code",
   "execution_count": null,
   "id": "fabbc6e2-50d2-4305-8068-83d7fd4ca055",
   "metadata": {},
   "outputs": [],
   "source": [
    "drop_useless_features = ['creator', 'currency_symbol', 'name', 'photo', 'profile', 'slug', 'source_url', 'urls', 'file']\n",
    "drop_list.extend(drop_useless_features)\n",
    "final = final.drop(drop_useless_features, axis = 1)"
   ]
  },
  {
   "cell_type": "markdown",
   "id": "ec63ae91-5a5a-4952-a5ae-1bfac974d8bb",
   "metadata": {},
   "source": [
    "#### Dropping redundant features"
   ]
  },
  {
   "cell_type": "code",
   "execution_count": null,
   "id": "6e71f858-d38c-473e-afac-f5e8523a77b7",
   "metadata": {},
   "outputs": [],
   "source": [
    "drop_redundant_features = ['pledged', 'usd_pledged']\n",
    "drop_list.extend(drop_redundant_features)\n",
    "final = final.drop(drop_redundant_features, axis = 1)"
   ]
  },
  {
   "cell_type": "code",
   "execution_count": null,
   "id": "d280fc33-c356-4199-93f7-51b1050414fe",
   "metadata": {},
   "outputs": [],
   "source": [
    "drop_list"
   ]
  },
  {
   "cell_type": "markdown",
   "id": "670a58ba-4346-4b66-89a9-55b629723941",
   "metadata": {},
   "source": [
    "#### Replacing features"
   ]
  },
  {
   "cell_type": "code",
   "execution_count": null,
   "id": "c7a906c0-048f-4c37-ace6-c5289b5bbee4",
   "metadata": {},
   "outputs": [],
   "source": [
    "def clean_category(DataFrame): \n",
    "    cat_list = []\n",
    "    subcat_list = []\n",
    "    for e in DataFrame.category:\n",
    "        string_list = e.split(',')\n",
    "        if '/' in string_list[2]:\n",
    "            cat_list.append(string_list[2].split('/')[0][8:])\n",
    "            subcat_list.append(string_list[2].split('/')[1][:-1])\n",
    "        else:\n",
    "            cat_list.append(string_list[2][8:-1])\n",
    "            subcat_list.append('None')\n",
    "    DataFrame['category'] = cat_list\n",
    "    DataFrame['sub_category'] = subcat_list\n",
    "    return DataFrame"
   ]
  },
  {
   "cell_type": "code",
   "execution_count": null,
   "id": "7e372844-574c-4e4f-9943-7a66f2255bde",
   "metadata": {},
   "outputs": [],
   "source": [
    "modified_list = ['category','state']"
   ]
  },
  {
   "cell_type": "code",
   "execution_count": null,
   "id": "c2e2dac0-d795-42ec-a765-22759ed97dce",
   "metadata": {},
   "outputs": [],
   "source": [
    "final = clean_category(final)"
   ]
  },
  {
   "cell_type": "code",
   "execution_count": null,
   "id": "7f5ef8e3-ba82-40f7-b7fe-9898ee2a4fac",
   "metadata": {},
   "outputs": [],
   "source": [
    "final.category.unique()"
   ]
  },
  {
   "cell_type": "code",
   "execution_count": null,
   "id": "d6eed94d-fd95-414b-bdac-0a9740f19218",
   "metadata": {},
   "outputs": [],
   "source": [
    "#replace successful and failed with 1 and 0\n",
    "final.state.replace(['successful','failed'], [1,0],inplace=True)\n",
    "#\n",
    "\n",
    "final.is_starrable = final.is_starrable.astype(int)\n",
    "final.disable_communication = final.disable_communication.astype(int)\n",
    "final.currency_trailing_code = final.currency_trailing_code.astype(int)\n",
    "final.staff_pick = final.staff_pick.astype(int)\n",
    "final.spotlight = final.spotlight.astype(int)\n",
    "#drop live,susspended,cancelled\n",
    "#final = final[final['state'] == [1,0]]\n",
    "final = final.query('state == [1,0]')"
   ]
  },
  {
   "cell_type": "markdown",
   "id": "861a501e-271a-4a93-994e-293eeb613cea",
   "metadata": {
    "tags": []
   },
   "source": [
    "### Time conversions\n",
    "\n"
   ]
  },
  {
   "cell_type": "code",
   "execution_count": null,
   "id": "cafc4062-8a68-40fc-8c0a-c43d091f5419",
   "metadata": {},
   "outputs": [],
   "source": [
    "modified_list.extend(['launched_at', 'deadline', 'created_at', 'state_changed_at'])         "
   ]
  },
  {
   "cell_type": "code",
   "execution_count": null,
   "id": "e83bdb1a-cdf7-4192-a29f-40894e618ac6",
   "metadata": {},
   "outputs": [],
   "source": [
    "#converting unix time \n",
    "final.launched_at = pd.to_datetime(final.launched_at,unit='s',infer_datetime_format=True)\n",
    "final.deadline = pd.to_datetime(final.deadline,unit='s',infer_datetime_format=True)\n",
    "final.created_at = pd.to_datetime(final.created_at,unit='s',infer_datetime_format=True)\n",
    "final.state_changed_at = pd.to_datetime(final.state_changed_at,unit='s',infer_datetime_format=True)"
   ]
  },
  {
   "cell_type": "markdown",
   "id": "a68eb0f5-d2aa-4511-81c2-ad3d430972ea",
   "metadata": {},
   "source": [
    "### Writing df changes"
   ]
  },
  {
   "cell_type": "code",
   "execution_count": null,
   "id": "5378090a-6bad-48eb-b55d-a2e21844c3ad",
   "metadata": {},
   "outputs": [],
   "source": [
    "feature_list = list(merged_df.columns)\n",
    "\n",
    "df_features = pd.DataFrame(feature_list,columns =['features'])\n",
    "df_features['dropped'] = df_features.features.isin(drop_list)\n",
    "df_features['drop_reason'] = ['missing_values' if x in drop_missing_values \\\n",
    "                              else 'useless' if x in drop_useless_features \\\n",
    "                              else 'redundant' if x in drop_redundant_features \\\n",
    "                              else 'None' for x in df_features['features']]\n",
    "df_features['modified'] = df_features.features.isin(modified_list)"
   ]
  },
  {
   "cell_type": "code",
   "execution_count": null,
   "id": "df86b518-d47e-42e0-9a8c-e7248db1549f",
   "metadata": {},
   "outputs": [],
   "source": [
    "df_features"
   ]
  },
  {
   "cell_type": "markdown",
   "id": "ea8c3f66-dbf5-4f08-8f74-90c4e1bfa92e",
   "metadata": {
    "tags": []
   },
   "source": [
    "# Data Exploration\n",
    "Purpose: we gotta form a hypotheses / story about our defined problem by visually analyzing the data"
   ]
  },
  {
   "cell_type": "code",
   "execution_count": null,
   "id": "9d6eb912-c89d-4c24-ba2d-58bb082f544a",
   "metadata": {},
   "outputs": [],
   "source": [
    "#new dataset for exploration\n",
    "data_exp = final.copy()"
   ]
  },
  {
   "cell_type": "code",
   "execution_count": null,
   "id": "04864ad6-857c-4ce1-b12a-036587a7781a",
   "metadata": {},
   "outputs": [],
   "source": [
    "#years\n",
    "#final['launched_at_yr'] = [date.year for date in final['launched_at']]"
   ]
  },
  {
   "cell_type": "code",
   "execution_count": null,
   "id": "4cd85d6c-3711-47f3-97d8-abc5d298738a",
   "metadata": {},
   "outputs": [],
   "source": [
    "final.info()"
   ]
  },
  {
   "cell_type": "code",
   "execution_count": null,
   "id": "2748971a-a298-40e3-b869-ad1564fa97c1",
   "metadata": {},
   "outputs": [],
   "source": [
    "# Seperate continious vs. categorical variables\n",
    "data_cat_col = ['category','country','sub_category','country','currency','current_currency','is_starrable','disable_communication','state']\n",
    "data_cont_col = [x for x in final if x not in data_cat_col]\n",
    "data_cat = final[data_cat_col]\n",
    "data_cont = final[data_cont_col]"
   ]
  },
  {
   "cell_type": "code",
   "execution_count": null,
   "id": "343ff47a-d5fe-483e-b43e-4f337303f9c6",
   "metadata": {},
   "outputs": [],
   "source": [
    "# Check if scaling is needed ( we can do this by looking at the .skew()\n",
    "final.skew()"
   ]
  },
  {
   "cell_type": "code",
   "execution_count": null,
   "id": "54fc9b48-517d-4bbe-89ad-6a5a9fc75ac5",
   "metadata": {},
   "outputs": [],
   "source": [
    "#Plot correlation heatmap for continious values\n",
    "mask = np.triu(np.ones_like(data_cont.corr(), dtype=np.bool))\n",
    "f, ax = plt.subplots(figsize=(11, 9))\n",
    "\n",
    "cmap = sns.diverging_palette(220, 10, as_cmap=True)\n",
    "\n",
    "sns.heatmap(data_cont.corr(), mask=mask, cmap=cmap, vmax=.3, center=0,\n",
    "            square=True, linewidths=.5, cbar_kws={\"shrink\": .5}, annot=True, fmt=\".1g\");\n"
   ]
  },
  {
   "cell_type": "code",
   "execution_count": null,
   "id": "380bb54e-6fad-4bd3-b2e8-5ffd9907bc75",
   "metadata": {},
   "outputs": [],
   "source": [
    "#Plot a histogram of our Target 'state' and see if it needs scaling for future work\n",
    "data_exp['state'].value_counts(ascending=True).plot(kind='bar')"
   ]
  },
  {
   "cell_type": "markdown",
   "id": "32d2c0fa-d880-40d4-997b-b841a64a7a1a",
   "metadata": {},
   "source": [
    "* imbalanced data!!"
   ]
  },
  {
   "cell_type": "code",
   "execution_count": null,
   "id": "79d7f66e-2ce6-4989-a90a-d554d4fd15e7",
   "metadata": {},
   "outputs": [],
   "source": [
    "plt.figure(figsize=(14,8))\n",
    "sns.countplot(x='launched_at_yr', hue='state', data=data_exp);"
   ]
  },
  {
   "cell_type": "code",
   "execution_count": null,
   "id": "bb204719-4add-4fe5-98df-06168d94076c",
   "metadata": {},
   "outputs": [],
   "source": [
    "plt.figure(figsize=(14,10))\n",
    "sns.countplot(x='category', hue='state', data=data_exp);"
   ]
  },
  {
   "cell_type": "markdown",
   "id": "0957d76a-8ab1-4250-8231-3589e03372a0",
   "metadata": {},
   "source": [
    "# Feature Engineering"
   ]
  },
  {
   "cell_type": "code",
   "execution_count": null,
   "id": "26d2ffe0-f887-4897-a140-5aa0f2e7910a",
   "metadata": {},
   "outputs": [],
   "source": [
    "#create new features\n",
    "final['pledged_over'] = final.converted_pledged_amount - final.goal \n",
    "final['campaign_days'] = final.deadline - final.launched_at \n",
    "final['pre_launched_days'] = final.launched_at - final.created_at\n",
    "\n",
    "final['launched_at_yr'] = [date.year for date in final['launched_at']]\n",
    "\n",
    "final[\"goal_converted\"] = final[\"goal\"] * final[\"static_usd_rate\"]\n",
    "#use log on goal_converted"
   ]
  },
  {
   "cell_type": "code",
   "execution_count": null,
   "id": "9c81d5ba-83a0-4c92-b3bc-2194896c9e18",
   "metadata": {},
   "outputs": [],
   "source": [
    "#use log on stuff\n",
    "final['goal_converted_log'] = [math.log(el) for el in final['goal_converted']]\n",
    "final['converted_pledged_amount_log'] = np.log(final['converted_pledged_amount'])\n",
    "final['backers_count_log'] = np.log(final['backers_count'])"
   ]
  },
  {
   "cell_type": "markdown",
   "id": "c7a2591a-f804-40ce-aebe-70724d325379",
   "metadata": {},
   "source": [
    "# Preprocessing (Train/Test Split and Basemodel)\n",
    "In order to apply modelling on different dataset types, we should consider a nice way to do the splits.\n",
    "\n"
   ]
  },
  {
   "cell_type": "code",
   "execution_count": null,
   "id": "aff6a60e-4abd-45f6-90f0-72eea81ffbe9",
   "metadata": {},
   "outputs": [],
   "source": [
    "#define predictors and target variable X,y\n",
    "X = final.drop([\"state\"], axis=1)\n",
    "y = final[\"state\"]"
   ]
  },
  {
   "cell_type": "code",
   "execution_count": null,
   "id": "6bfc77c5-2b5f-47e5-856f-2bda601ac920",
   "metadata": {},
   "outputs": [],
   "source": [
    "#Split data into training and testing sets\n",
    "X_train, X_test, y_train, y_test= train_test_split(X,y,test_size=test_size,\n",
    "                                                        random_state=random_state,\n",
    "                                                        shuffle=True,\n",
    "                                                   stratify=y)"
   ]
  },
  {
   "cell_type": "code",
   "execution_count": null,
   "id": "a7c483a0-b376-4469-9075-b6a492ed083c",
   "metadata": {},
   "outputs": [],
   "source": [
    "X_train.info()"
   ]
  },
  {
   "cell_type": "code",
   "execution_count": null,
   "id": "58ca3113-cd31-4b22-a359-77fdb1f469aa",
   "metadata": {},
   "outputs": [],
   "source": [
    "# create a dummy classifier model as Basemodel\n",
    "dummy_clf = DummyClassifier(strategy='constant',constant=0).fit(X_train,y_train)\n",
    "y_pred_dum_clf = dum_clf.predict(X_test)\n",
    "dummy_clf.score(X_test, y_test)\n",
    "print(confusion_matrix(y_test,y_pred_dum_clf))\n",
    "print(classification_report(y_test,y_pred_dum_clf))\n"
   ]
  },
  {
   "cell_type": "code",
   "execution_count": null,
   "id": "f2b14294-a9d6-4cdd-a424-75b671efc292",
   "metadata": {},
   "outputs": [],
   "source": [
    "#for future work\n",
    "#scores = cross_val_score(dummy_clf, X_train, y_train, scoring='f1', cv=10, n_jobs=-1)"
   ]
  },
  {
   "cell_type": "code",
   "execution_count": null,
   "id": "cce91dc4-c231-4df6-bb7a-004a76affb0b",
   "metadata": {},
   "outputs": [],
   "source": [
    "#use oversampling\n",
    "\n",
    "# define oversampling strategy\n",
    "oversample = RandomOverSampler(sampling_strategy='minority', random_state=random_state)\n",
    "# fit and apply the transform\n",
    "X_train_over, y_train_over = oversample.fit_resample(X_train, y_train)\n",
    "\n"
   ]
  },
  {
   "cell_type": "code",
   "execution_count": null,
   "id": "17f6bc61-f0ec-48c1-a605-819cfc608e73",
   "metadata": {},
   "outputs": [],
   "source": [
    "X_train.info()"
   ]
  },
  {
   "cell_type": "code",
   "execution_count": null,
   "id": "8aac40ed-1ece-4cc1-b9d2-65a455aa0092",
   "metadata": {},
   "outputs": [],
   "source": [
    "#use standard scaler on X_train and y_train\n",
    "scaler = StandardScaler()\n",
    "X_train[data_cont_col] = scaler.fit_transform(X_train[data_cont_col]) # Scaler is fitted to training data _only_\n",
    "X_test[data_cont_col] = scaler.transform(X_test[data_cont_col]) # Already fitted scaler is applied to test data\n",
    "\n",
    "\n",
    "#data_cat_col = ['category','country','sub_category','country','currency','current_currency','is_starrable','disable_communication']\n",
    "#data_cont_col = [x for x in final if x not in data_cat_col]"
   ]
  },
  {
   "cell_type": "code",
   "execution_count": null,
   "id": "6ba10d8d-87b6-4850-a7c8-3f9de694cbf8",
   "metadata": {},
   "outputs": [],
   "source": [
    "#use standard scaler on X_train_over and y_train_over"
   ]
  },
  {
   "cell_type": "markdown",
   "id": "edb564e6-6bd0-4e07-a454-b71659742c12",
   "metadata": {},
   "source": [
    "# Predictive Modelling\n",
    "Purpose: Train machine learning models (supervised), evaluate their performance and use them to make predictions"
   ]
  },
  {
   "cell_type": "code",
   "execution_count": null,
   "id": "a035284f-4d42-4431-a6da-a2f0e775aeac",
   "metadata": {},
   "outputs": [],
   "source": [
    "#logistic regression"
   ]
  },
  {
   "cell_type": "code",
   "execution_count": null,
   "id": "979b9203-2860-47e2-b859-8d59ac82bbdb",
   "metadata": {},
   "outputs": [],
   "source": [
    "#Random Forest Classifier"
   ]
  },
  {
   "cell_type": "code",
   "execution_count": null,
   "id": "7c81e28e-f6f0-489a-b774-fdf6e053e9f8",
   "metadata": {},
   "outputs": [],
   "source": [
    "#Support Vector Machines (use classifier)"
   ]
  },
  {
   "cell_type": "code",
   "execution_count": null,
   "id": "b614480f-2822-4e5a-a299-b0a107f41cbc",
   "metadata": {},
   "outputs": [],
   "source": [
    "#maybe AdaBoost"
   ]
  },
  {
   "cell_type": "markdown",
   "id": "5d8a8c07-8602-4bf1-8288-71bd564be632",
   "metadata": {},
   "source": [
    "# Ensemble Methods"
   ]
  },
  {
   "cell_type": "code",
   "execution_count": null,
   "id": "088f2a32-78f7-400e-be2c-2fb16ee654ce",
   "metadata": {},
   "outputs": [],
   "source": [
    "#use KNN,SVC,DTC,Randomforestclassifier,XGB...."
   ]
  },
  {
   "cell_type": "markdown",
   "id": "b55d86c1-51e5-4c77-b77c-c290914e6aaa",
   "metadata": {},
   "source": [
    "# Future Work"
   ]
  },
  {
   "cell_type": "code",
   "execution_count": null,
   "id": "47d5074f-75da-4fb4-a951-1a2b59961f18",
   "metadata": {},
   "outputs": [],
   "source": [
    "#use maybe RandomizedSearchCV on RandomForest or any given Algorithm"
   ]
  },
  {
   "cell_type": "markdown",
   "id": "dedde418-bc1b-453b-822c-403f2c3f4691",
   "metadata": {},
   "source": [
    "# Data Visualisation\n",
    "Purpose: Communicate the findings with stakeholders using plots and interactive visualisations"
   ]
  },
  {
   "cell_type": "markdown",
   "id": "2e34df71-ef11-45b9-84c7-c2c1314440c3",
   "metadata": {},
   "source": [
    "# Findings \n",
    "Purpose: Summarize the key results and findings"
   ]
  },
  {
   "cell_type": "markdown",
   "id": "d0ecd254-3ba4-4b31-870e-acd98901ae30",
   "metadata": {},
   "source": [
    "# Future Work"
   ]
  },
  {
   "cell_type": "code",
   "execution_count": null,
   "id": "451b9e44-50ee-4af0-acac-b032f032b7d8",
   "metadata": {},
   "outputs": [],
   "source": [
    "# To do: save final df as csv\n",
    "#compression_opts = dict(method='zip', archive_name='Kickstarter_all_clean.csv')  \n",
    "#final.to_csv('Kickstarter_all_clean.zip', index=False, compression=compression_opts)"
   ]
  }
 ],
 "metadata": {
  "kernelspec": {
   "display_name": "Python 3 (ipykernel)",
   "language": "python",
   "name": "python3"
  },
  "language_info": {
   "codemirror_mode": {
    "name": "ipython",
    "version": 3
   },
   "file_extension": ".py",
   "mimetype": "text/x-python",
   "name": "python",
   "nbconvert_exporter": "python",
   "pygments_lexer": "ipython3",
   "version": "3.9.4"
  }
 },
 "nbformat": 4,
 "nbformat_minor": 5
}
