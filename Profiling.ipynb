{
 "cells": [
  {
   "cell_type": "markdown",
   "id": "c142a85d-2325-435c-9a1c-7effb84d00af",
   "metadata": {},
   "source": [
    "# Kickstarter Profiling"
   ]
  },
  {
   "cell_type": "code",
   "execution_count": null,
   "id": "842b4118-d8fe-4ca9-b778-ca88d5095680",
   "metadata": {},
   "outputs": [],
   "source": [
    "import pandas as pd\n",
    "from pandas_profiling import ProfileReport"
   ]
  },
  {
   "cell_type": "code",
   "execution_count": null,
   "id": "182d8383-d8b5-4f9e-a472-73a542a94fdd",
   "metadata": {},
   "outputs": [],
   "source": []
  }
 ],
 "metadata": {
  "kernelspec": {
   "display_name": "Python 3 (ipykernel)",
   "language": "python",
   "name": "python3"
  },
  "language_info": {
   "codemirror_mode": {
    "name": "ipython",
    "version": 3
   },
   "file_extension": ".py",
   "mimetype": "text/x-python",
   "name": "python",
   "nbconvert_exporter": "python",
   "pygments_lexer": "ipython3",
   "version": "3.9.4"
  }
 },
 "nbformat": 4,
 "nbformat_minor": 5
}
