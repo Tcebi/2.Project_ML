{
 "cells": [
  {
   "cell_type": "markdown",
   "id": "e7106b0b-cb26-4b88-9670-ccb097ab306a",
   "metadata": {
    "jp-MarkdownHeadingCollapsed": true,
    "tags": []
   },
   "source": [
    "## Business Understanding \n",
    "Purpose: Ask relevant questions and define objectives for the problem that needs to be tackled\n",
    "\n",
    "## Background\n",
    "In recent years, the range of funding options for projects created by individuals and small companies has expanded considerably. In addition to savings, bank loans, friends & family funding and other traditional options, crowdfunding has become a popular and readily available alternative.\n",
    "\n",
    "Kickstarter, founded in 2009, is one particularly well-known and popular crowdfunding platform. It has an all-or-nothing funding model, whereby a project is only funded if it meets its goal amount; otherwise no money is given by backers to a project. A huge variety of factors contribute to the success or failure of a project — in general, and also on Kickstarter. Some of these are able to be quantified or categorized, which allows for the construction of a model to attempt to predict whether a project will succeed or not. The aim of this project is to construct such a model and also to analyse Kickstarter project data more generally, in order to help potential project creators assess whether or not Kickstarter is a good funding option for them, and what their chances of success are.\n",
    "\n",
    "### Final Deliverables\n",
    "\n",
    "\n",
    "* Well designed presentation for non-technical stakeholders outlining findings and recommendations, as well as future work (10min presentation).\n",
    "* Jupyter notebook following Data Science Lifecycle\n",
    "\n",
    "### Things to think about\n",
    "\n",
    "* Try different (at least 3) machine learning algorithms to check which performs best on the problem at hand\n",
    "* What would be right performance metric: Precision, recall, accuracy, F1 score, or something else? (Check TPR?)\n",
    "* Check for data imbalance\n",
    "\n",
    "\n",
    "## Key Question \n",
    "\n",
    "We currently hold a task by Kickstarter to come up with a model to predict in a first step whether is project is likely to be successful, given certain project parameters. In a second step (out of scope), Kickstarter would like to be able to provide a good goal recommendation for creators( for example using staff picks etc.)\n",
    "\n",
    "* Given certain project parameters, __is a campaign likely to succeed or fail?__ --> classification\n",
    "* what would e a __reasonable goal reccomendation for creators__ --> regression\n",
    "\n",
    "\n",
    "\n",
    "## Feature Glossary\n",
    "\n",
    "Features included in model\n",
    "\n",
    "* Target : state\n",
    "*\n",
    "*\n",
    "*\n",
    "\n",
    "## Dataset Description\n",
    "\n",
    "- **backers_count**: Amount of people who backed this project\n",
    "- **category**: \n",
    "- **country**: Country the project owner lives in\n",
    "- **created_at**: Date when the prjoect was created\n",
    "- **currency**: Currency of the country where the owner lives in\n",
    "- **currency_trailing_code**: \n",
    "- **current_currency**: \n",
    "- **deadline**: Date until the project can be backed\n",
    "- **disable_communication**: If the communication with owner was disabled or not\n",
    "- **fx_rate**: Foreign exchange rate\n",
    "- **goal**: Project is only funded when the goal amount is reached\n",
    "- **launched_at**: Date when the project was launced\n",
    "- **spotlight**: Highlighted projects (available to all projects that are successfully funded)\n",
    "- **staff_pick**: Promissing project picked by Kickstarter employees\n",
    "- **state**: Project status\n",
    "- **state_changed_at**: Date when state changed the last time\n",
    "- **static_usd_rate**: static USD Convergen rate at time\n",
    "- **usd_pledged**: pledge amount converted to USD using Static_usd_rate\n",
    "\n",
    "\n",
    "## Dataset New/Added Feature Description\n",
    "\n",
    "- **campaign_days**: Days the Project was live\n",
    "- **pledged_over**: Amount Pledged surpassing the Goal(with converted pledge amount) \n",
    "- **pre_launched_days**: Days before the Project was launched\n",
    "\n",
    "\n",
    "## Target Metric\n",
    "\n",
    "* F1 score — Since creators wouldn’t want the model to predict too many success that will turn out to be a failure (minimize False Positives) and backers would want to make sure the model capture as many success as possible (minimize False Negatives), I want a balance between precision and recall\n",
    "\n",
    "## Outcome / Reccomendations\n",
    "*\n",
    "*\n",
    "*"
   ]
  },
  {
   "cell_type": "markdown",
   "id": "01c5ce27-de08-414b-a934-fc58320dcc1f",
   "metadata": {
    "tags": []
   },
   "source": [
    "## Import Libraries"
   ]
  },
  {
   "cell_type": "code",
   "execution_count": 84,
   "id": "b42169b9-15fd-49ac-94f6-6e0c95fb608d",
   "metadata": {
    "tags": []
   },
   "outputs": [],
   "source": [
    "import pandas as pd\n",
    "import numpy as np\n",
    "import matplotlib.pyplot as plt\n",
    "import matplotlib.ticker as ticker\n",
    "from matplotlib.gridspec import GridSpec\n",
    "import scipy as sc\n",
    "from scipy.stats import kstest\n",
    "import seaborn as sns\n",
    "import math\n",
    "import warnings\n",
    "warnings.filterwarnings(\"ignore\")\n",
    "\n",
    "#Data mining\n",
    "import os, glob\n",
    "\n",
    "#Preprocessing\n",
    "from sklearn.model_selection import train_test_split, RandomizedSearchCV\n",
    "from sklearn.dummy import DummyClassifier\n",
    "from sklearn.preprocessing import OneHotEncoder, MinMaxScaler, StandardScaler, PolynomialFeatures, LabelEncoder\n",
    "from sklearn.linear_model import LinearRegression, LogisticRegression\n",
    "from sklearn.model_selection import cross_val_score\n",
    "from sklearn.metrics import classification_report, confusion_matrix, f1_score, accuracy_score\n",
    "import imblearn\n",
    "from imblearn.over_sampling import RandomOverSampler\n",
    "\n",
    "## AdaBoost\n",
    "from sklearn.ensemble import AdaBoostClassifier\n",
    "from sklearn.model_selection import GridSearchCV\n",
    "from sklearn.metrics import make_scorer\n",
    "from sklearn.tree import DecisionTreeClassifier\n"
   ]
  },
  {
   "cell_type": "markdown",
   "id": "a340d81d-bff7-4438-bfdf-ec46523b0ef2",
   "metadata": {
    "tags": []
   },
   "source": [
    "## Dashboard\n",
    "Purpose : Define global variables and visuals"
   ]
  },
  {
   "cell_type": "code",
   "execution_count": 2,
   "id": "ff5ca982-73ac-4eb3-8200-8a972a93bf70",
   "metadata": {},
   "outputs": [],
   "source": [
    "random_state = 100\n",
    "test_size = 0.3\n",
    "sns.set(style = \"white\")"
   ]
  },
  {
   "cell_type": "markdown",
   "id": "bfbd055f-0174-427b-b7fc-61ee975585d8",
   "metadata": {
    "tags": []
   },
   "source": [
    "## Data Mining"
   ]
  },
  {
   "cell_type": "code",
   "execution_count": 3,
   "id": "dc1aa018-b655-4c84-bc82-b08c6eb40cb2",
   "metadata": {},
   "outputs": [],
   "source": [
    "# Import multiple Kickstarter csv files and merge into one dataframe\n",
    "\n",
    "path = \"data-2\"\n",
    "all_files = glob.glob(os.path.join(path, \"*.csv\"))\n",
    "\n",
    "all_df = []\n",
    "for f in all_files:\n",
    "    df = pd.read_csv(f, sep=',')\n",
    "    df['file'] = f.split('/')[-1]\n",
    "    all_df.append(df)\n",
    "    \n",
    "merged_df = pd.concat(all_df, ignore_index=True, sort=True)"
   ]
  },
  {
   "cell_type": "code",
   "execution_count": 4,
   "id": "4dd02ab6-5792-49af-8186-aff4ddb867e3",
   "metadata": {},
   "outputs": [],
   "source": [
    "#\n",
    "# merged_df = pd.read_csv('data-2/Kickstarter_all.csv') ### brauche ich wenn ich den Anderen Kram nicht laufen lassen will"
   ]
  },
  {
   "cell_type": "markdown",
   "id": "49a1e3ca-e891-4ff8-8c35-9cd8fe274c97",
   "metadata": {
    "tags": []
   },
   "source": [
    "## Inspection and Data Cleaning"
   ]
  },
  {
   "cell_type": "code",
   "execution_count": 5,
   "id": "7ccf0aaa-d6de-4498-b494-8babd33a1b40",
   "metadata": {},
   "outputs": [
    {
     "name": "stdout",
     "output_type": "stream",
     "text": [
      "<class 'pandas.core.frame.DataFrame'>\n",
      "RangeIndex: 209222 entries, 0 to 209221\n",
      "Data columns (total 38 columns):\n",
      " #   Column                    Non-Null Count   Dtype  \n",
      "---  ------                    --------------   -----  \n",
      " 0   backers_count             209222 non-null  int64  \n",
      " 1   blurb                     209214 non-null  object \n",
      " 2   category                  209222 non-null  object \n",
      " 3   converted_pledged_amount  209222 non-null  int64  \n",
      " 4   country                   209222 non-null  object \n",
      " 5   created_at                209222 non-null  int64  \n",
      " 6   creator                   209222 non-null  object \n",
      " 7   currency                  209222 non-null  object \n",
      " 8   currency_symbol           209222 non-null  object \n",
      " 9   currency_trailing_code    209222 non-null  bool   \n",
      " 10  current_currency          209222 non-null  object \n",
      " 11  deadline                  209222 non-null  int64  \n",
      " 12  disable_communication     209222 non-null  bool   \n",
      " 13  file                      209222 non-null  object \n",
      " 14  friends                   300 non-null     object \n",
      " 15  fx_rate                   209222 non-null  float64\n",
      " 16  goal                      209222 non-null  float64\n",
      " 17  id                        209222 non-null  int64  \n",
      " 18  is_backing                300 non-null     object \n",
      " 19  is_starrable              209222 non-null  bool   \n",
      " 20  is_starred                300 non-null     object \n",
      " 21  launched_at               209222 non-null  int64  \n",
      " 22  location                  208996 non-null  object \n",
      " 23  name                      209222 non-null  object \n",
      " 24  permissions               300 non-null     object \n",
      " 25  photo                     209222 non-null  object \n",
      " 26  pledged                   209222 non-null  float64\n",
      " 27  profile                   209222 non-null  object \n",
      " 28  slug                      209222 non-null  object \n",
      " 29  source_url                209222 non-null  object \n",
      " 30  spotlight                 209222 non-null  bool   \n",
      " 31  staff_pick                209222 non-null  bool   \n",
      " 32  state                     209222 non-null  object \n",
      " 33  state_changed_at          209222 non-null  int64  \n",
      " 34  static_usd_rate           209222 non-null  float64\n",
      " 35  urls                      209222 non-null  object \n",
      " 36  usd_pledged               209222 non-null  float64\n",
      " 37  usd_type                  208742 non-null  object \n",
      "dtypes: bool(5), float64(5), int64(7), object(21)\n",
      "memory usage: 53.7+ MB\n"
     ]
    }
   ],
   "source": [
    "merged_df.info()"
   ]
  },
  {
   "cell_type": "code",
   "execution_count": 6,
   "id": "ec4c9ada-df77-4f48-898c-91f884bffe88",
   "metadata": {},
   "outputs": [],
   "source": [
    "#save the merged data as .zip\n",
    "#compression_opts = dict(method='zip', archive_name='out.csv')  \n",
    "#merged_df.to_csv('out.zip', index=False, compression=compression_opts)"
   ]
  },
  {
   "cell_type": "code",
   "execution_count": 7,
   "id": "194f27ef-a743-4f6e-928b-6e830a951a0d",
   "metadata": {},
   "outputs": [
    {
     "data": {
      "text/plain": [
       "(209222, 38)"
      ]
     },
     "execution_count": 7,
     "metadata": {},
     "output_type": "execute_result"
    }
   ],
   "source": [
    "# Display shape of \"data\"\n",
    "merged_df.shape"
   ]
  },
  {
   "cell_type": "code",
   "execution_count": 8,
   "id": "a778074d-dc5f-4c77-9489-612373bd9a80",
   "metadata": {},
   "outputs": [
    {
     "data": {
      "text/html": [
       "<div>\n",
       "<style scoped>\n",
       "    .dataframe tbody tr th:only-of-type {\n",
       "        vertical-align: middle;\n",
       "    }\n",
       "\n",
       "    .dataframe tbody tr th {\n",
       "        vertical-align: top;\n",
       "    }\n",
       "\n",
       "    .dataframe thead th {\n",
       "        text-align: right;\n",
       "    }\n",
       "</style>\n",
       "<table border=\"1\" class=\"dataframe\">\n",
       "  <thead>\n",
       "    <tr style=\"text-align: right;\">\n",
       "      <th></th>\n",
       "      <th>backers_count</th>\n",
       "      <th>blurb</th>\n",
       "      <th>category</th>\n",
       "      <th>converted_pledged_amount</th>\n",
       "      <th>country</th>\n",
       "      <th>created_at</th>\n",
       "      <th>creator</th>\n",
       "      <th>currency</th>\n",
       "      <th>currency_symbol</th>\n",
       "      <th>currency_trailing_code</th>\n",
       "      <th>...</th>\n",
       "      <th>slug</th>\n",
       "      <th>source_url</th>\n",
       "      <th>spotlight</th>\n",
       "      <th>staff_pick</th>\n",
       "      <th>state</th>\n",
       "      <th>state_changed_at</th>\n",
       "      <th>static_usd_rate</th>\n",
       "      <th>urls</th>\n",
       "      <th>usd_pledged</th>\n",
       "      <th>usd_type</th>\n",
       "    </tr>\n",
       "  </thead>\n",
       "  <tbody>\n",
       "    <tr>\n",
       "      <th>0</th>\n",
       "      <td>315</td>\n",
       "      <td>Babalus Shoes</td>\n",
       "      <td>{\"id\":266,\"name\":\"Footwear\",\"slug\":\"fashion/fo...</td>\n",
       "      <td>28645</td>\n",
       "      <td>US</td>\n",
       "      <td>1541459205</td>\n",
       "      <td>{\"id\":2094277840,\"name\":\"Lucy Conroy\",\"slug\":\"...</td>\n",
       "      <td>USD</td>\n",
       "      <td>$</td>\n",
       "      <td>True</td>\n",
       "      <td>...</td>\n",
       "      <td>babalus-childrens-shoes</td>\n",
       "      <td>https://www.kickstarter.com/discover/categorie...</td>\n",
       "      <td>False</td>\n",
       "      <td>False</td>\n",
       "      <td>live</td>\n",
       "      <td>1548223375</td>\n",
       "      <td>1.000000</td>\n",
       "      <td>{\"web\":{\"project\":\"https://www.kickstarter.com...</td>\n",
       "      <td>28645.000000</td>\n",
       "      <td>international</td>\n",
       "    </tr>\n",
       "    <tr>\n",
       "      <th>1</th>\n",
       "      <td>47</td>\n",
       "      <td>A colorful Dia de los Muertos themed oracle de...</td>\n",
       "      <td>{\"id\":273,\"name\":\"Playing Cards\",\"slug\":\"games...</td>\n",
       "      <td>1950</td>\n",
       "      <td>US</td>\n",
       "      <td>1501684093</td>\n",
       "      <td>{\"id\":723886115,\"name\":\"Lisa Vollrath\",\"slug\":...</td>\n",
       "      <td>USD</td>\n",
       "      <td>$</td>\n",
       "      <td>True</td>\n",
       "      <td>...</td>\n",
       "      <td>the-ofrenda-oracle-deck</td>\n",
       "      <td>https://www.kickstarter.com/discover/categorie...</td>\n",
       "      <td>True</td>\n",
       "      <td>False</td>\n",
       "      <td>successful</td>\n",
       "      <td>1504976459</td>\n",
       "      <td>1.000000</td>\n",
       "      <td>{\"web\":{\"project\":\"https://www.kickstarter.com...</td>\n",
       "      <td>1950.000000</td>\n",
       "      <td>domestic</td>\n",
       "    </tr>\n",
       "    <tr>\n",
       "      <th>2</th>\n",
       "      <td>271</td>\n",
       "      <td>Electra's long awaited, eclectic Debut Pop/Roc...</td>\n",
       "      <td>{\"id\":43,\"name\":\"Rock\",\"slug\":\"music/rock\",\"po...</td>\n",
       "      <td>22404</td>\n",
       "      <td>US</td>\n",
       "      <td>1348987533</td>\n",
       "      <td>{\"id\":323849677,\"name\":\"Electra\",\"is_registere...</td>\n",
       "      <td>USD</td>\n",
       "      <td>$</td>\n",
       "      <td>True</td>\n",
       "      <td>...</td>\n",
       "      <td>record-electras-debut-album-pop-rock-classical</td>\n",
       "      <td>https://www.kickstarter.com/discover/categorie...</td>\n",
       "      <td>True</td>\n",
       "      <td>False</td>\n",
       "      <td>successful</td>\n",
       "      <td>1371013395</td>\n",
       "      <td>1.000000</td>\n",
       "      <td>{\"web\":{\"project\":\"https://www.kickstarter.com...</td>\n",
       "      <td>22404.000000</td>\n",
       "      <td>international</td>\n",
       "    </tr>\n",
       "    <tr>\n",
       "      <th>3</th>\n",
       "      <td>3</td>\n",
       "      <td>The Mist of Tribunal is a turn-based card game...</td>\n",
       "      <td>{\"id\":273,\"name\":\"Playing Cards\",\"slug\":\"games...</td>\n",
       "      <td>165</td>\n",
       "      <td>GB</td>\n",
       "      <td>1483780271</td>\n",
       "      <td>{\"id\":196281496,\"name\":\"Artur Ordijanc (delete...</td>\n",
       "      <td>GBP</td>\n",
       "      <td>£</td>\n",
       "      <td>False</td>\n",
       "      <td>...</td>\n",
       "      <td>the-mist-of-tribunal-a-card-game</td>\n",
       "      <td>https://www.kickstarter.com/discover/categorie...</td>\n",
       "      <td>False</td>\n",
       "      <td>False</td>\n",
       "      <td>failed</td>\n",
       "      <td>1489425776</td>\n",
       "      <td>1.216066</td>\n",
       "      <td>{\"web\":{\"project\":\"https://www.kickstarter.com...</td>\n",
       "      <td>165.384934</td>\n",
       "      <td>domestic</td>\n",
       "    </tr>\n",
       "    <tr>\n",
       "      <th>4</th>\n",
       "      <td>3</td>\n",
       "      <td>Livng with a brain impairment, what its like t...</td>\n",
       "      <td>{\"id\":48,\"name\":\"Nonfiction\",\"slug\":\"publishin...</td>\n",
       "      <td>2820</td>\n",
       "      <td>US</td>\n",
       "      <td>1354817071</td>\n",
       "      <td>{\"id\":1178460181,\"name\":\"Dawn Johnston\",\"is_re...</td>\n",
       "      <td>USD</td>\n",
       "      <td>$</td>\n",
       "      <td>True</td>\n",
       "      <td>...</td>\n",
       "      <td>help-change-the-face-of-brain-impairment</td>\n",
       "      <td>https://www.kickstarter.com/discover/categorie...</td>\n",
       "      <td>True</td>\n",
       "      <td>False</td>\n",
       "      <td>successful</td>\n",
       "      <td>1357763527</td>\n",
       "      <td>1.000000</td>\n",
       "      <td>{\"web\":{\"project\":\"https://www.kickstarter.com...</td>\n",
       "      <td>2820.000000</td>\n",
       "      <td>domestic</td>\n",
       "    </tr>\n",
       "  </tbody>\n",
       "</table>\n",
       "<p>5 rows × 38 columns</p>\n",
       "</div>"
      ],
      "text/plain": [
       "   backers_count                                              blurb  \\\n",
       "0            315                                      Babalus Shoes   \n",
       "1             47  A colorful Dia de los Muertos themed oracle de...   \n",
       "2            271  Electra's long awaited, eclectic Debut Pop/Roc...   \n",
       "3              3  The Mist of Tribunal is a turn-based card game...   \n",
       "4              3  Livng with a brain impairment, what its like t...   \n",
       "\n",
       "                                            category  \\\n",
       "0  {\"id\":266,\"name\":\"Footwear\",\"slug\":\"fashion/fo...   \n",
       "1  {\"id\":273,\"name\":\"Playing Cards\",\"slug\":\"games...   \n",
       "2  {\"id\":43,\"name\":\"Rock\",\"slug\":\"music/rock\",\"po...   \n",
       "3  {\"id\":273,\"name\":\"Playing Cards\",\"slug\":\"games...   \n",
       "4  {\"id\":48,\"name\":\"Nonfiction\",\"slug\":\"publishin...   \n",
       "\n",
       "   converted_pledged_amount country  created_at  \\\n",
       "0                     28645      US  1541459205   \n",
       "1                      1950      US  1501684093   \n",
       "2                     22404      US  1348987533   \n",
       "3                       165      GB  1483780271   \n",
       "4                      2820      US  1354817071   \n",
       "\n",
       "                                             creator currency currency_symbol  \\\n",
       "0  {\"id\":2094277840,\"name\":\"Lucy Conroy\",\"slug\":\"...      USD               $   \n",
       "1  {\"id\":723886115,\"name\":\"Lisa Vollrath\",\"slug\":...      USD               $   \n",
       "2  {\"id\":323849677,\"name\":\"Electra\",\"is_registere...      USD               $   \n",
       "3  {\"id\":196281496,\"name\":\"Artur Ordijanc (delete...      GBP               £   \n",
       "4  {\"id\":1178460181,\"name\":\"Dawn Johnston\",\"is_re...      USD               $   \n",
       "\n",
       "   currency_trailing_code  ...  \\\n",
       "0                    True  ...   \n",
       "1                    True  ...   \n",
       "2                    True  ...   \n",
       "3                   False  ...   \n",
       "4                    True  ...   \n",
       "\n",
       "                                             slug  \\\n",
       "0                         babalus-childrens-shoes   \n",
       "1                         the-ofrenda-oracle-deck   \n",
       "2  record-electras-debut-album-pop-rock-classical   \n",
       "3                the-mist-of-tribunal-a-card-game   \n",
       "4        help-change-the-face-of-brain-impairment   \n",
       "\n",
       "                                          source_url  spotlight staff_pick  \\\n",
       "0  https://www.kickstarter.com/discover/categorie...      False      False   \n",
       "1  https://www.kickstarter.com/discover/categorie...       True      False   \n",
       "2  https://www.kickstarter.com/discover/categorie...       True      False   \n",
       "3  https://www.kickstarter.com/discover/categorie...      False      False   \n",
       "4  https://www.kickstarter.com/discover/categorie...       True      False   \n",
       "\n",
       "        state  state_changed_at  static_usd_rate  \\\n",
       "0        live        1548223375         1.000000   \n",
       "1  successful        1504976459         1.000000   \n",
       "2  successful        1371013395         1.000000   \n",
       "3      failed        1489425776         1.216066   \n",
       "4  successful        1357763527         1.000000   \n",
       "\n",
       "                                                urls   usd_pledged  \\\n",
       "0  {\"web\":{\"project\":\"https://www.kickstarter.com...  28645.000000   \n",
       "1  {\"web\":{\"project\":\"https://www.kickstarter.com...   1950.000000   \n",
       "2  {\"web\":{\"project\":\"https://www.kickstarter.com...  22404.000000   \n",
       "3  {\"web\":{\"project\":\"https://www.kickstarter.com...    165.384934   \n",
       "4  {\"web\":{\"project\":\"https://www.kickstarter.com...   2820.000000   \n",
       "\n",
       "        usd_type  \n",
       "0  international  \n",
       "1       domestic  \n",
       "2  international  \n",
       "3       domestic  \n",
       "4       domestic  \n",
       "\n",
       "[5 rows x 38 columns]"
      ]
     },
     "execution_count": 8,
     "metadata": {},
     "output_type": "execute_result"
    }
   ],
   "source": [
    "merged_df.head()"
   ]
  },
  {
   "cell_type": "code",
   "execution_count": 9,
   "id": "e6c4703b-ca6e-4c18-b70f-ff1c77f4801e",
   "metadata": {},
   "outputs": [
    {
     "data": {
      "text/plain": [
       "Index(['backers_count', 'blurb', 'category', 'converted_pledged_amount',\n",
       "       'country', 'created_at', 'creator', 'currency', 'currency_symbol',\n",
       "       'currency_trailing_code', 'current_currency', 'deadline',\n",
       "       'disable_communication', 'file', 'friends', 'fx_rate', 'goal', 'id',\n",
       "       'is_backing', 'is_starrable', 'is_starred', 'launched_at', 'location',\n",
       "       'name', 'permissions', 'photo', 'pledged', 'profile', 'slug',\n",
       "       'source_url', 'spotlight', 'staff_pick', 'state', 'state_changed_at',\n",
       "       'static_usd_rate', 'urls', 'usd_pledged', 'usd_type'],\n",
       "      dtype='object')"
      ]
     },
     "execution_count": 9,
     "metadata": {},
     "output_type": "execute_result"
    }
   ],
   "source": [
    "merged_df.columns"
   ]
  },
  {
   "cell_type": "code",
   "execution_count": 10,
   "id": "186a52be-8974-41e1-8d1a-8d590499e010",
   "metadata": {},
   "outputs": [
    {
     "data": {
      "text/html": [
       "<div>\n",
       "<style scoped>\n",
       "    .dataframe tbody tr th:only-of-type {\n",
       "        vertical-align: middle;\n",
       "    }\n",
       "\n",
       "    .dataframe tbody tr th {\n",
       "        vertical-align: top;\n",
       "    }\n",
       "\n",
       "    .dataframe thead th {\n",
       "        text-align: right;\n",
       "    }\n",
       "</style>\n",
       "<table border=\"1\" class=\"dataframe\">\n",
       "  <thead>\n",
       "    <tr style=\"text-align: right;\">\n",
       "      <th></th>\n",
       "      <th>backers_count</th>\n",
       "      <th>blurb</th>\n",
       "      <th>category</th>\n",
       "      <th>converted_pledged_amount</th>\n",
       "      <th>country</th>\n",
       "      <th>created_at</th>\n",
       "      <th>creator</th>\n",
       "      <th>currency</th>\n",
       "      <th>currency_symbol</th>\n",
       "      <th>currency_trailing_code</th>\n",
       "      <th>...</th>\n",
       "      <th>profile</th>\n",
       "      <th>slug</th>\n",
       "      <th>source_url</th>\n",
       "      <th>spotlight</th>\n",
       "      <th>staff_pick</th>\n",
       "      <th>state_changed_at</th>\n",
       "      <th>static_usd_rate</th>\n",
       "      <th>urls</th>\n",
       "      <th>usd_pledged</th>\n",
       "      <th>usd_type</th>\n",
       "    </tr>\n",
       "    <tr>\n",
       "      <th>state</th>\n",
       "      <th></th>\n",
       "      <th></th>\n",
       "      <th></th>\n",
       "      <th></th>\n",
       "      <th></th>\n",
       "      <th></th>\n",
       "      <th></th>\n",
       "      <th></th>\n",
       "      <th></th>\n",
       "      <th></th>\n",
       "      <th></th>\n",
       "      <th></th>\n",
       "      <th></th>\n",
       "      <th></th>\n",
       "      <th></th>\n",
       "      <th></th>\n",
       "      <th></th>\n",
       "      <th></th>\n",
       "      <th></th>\n",
       "      <th></th>\n",
       "      <th></th>\n",
       "    </tr>\n",
       "  </thead>\n",
       "  <tbody>\n",
       "    <tr>\n",
       "      <th>canceled</th>\n",
       "      <td>8624</td>\n",
       "      <td>8618</td>\n",
       "      <td>8624</td>\n",
       "      <td>8624</td>\n",
       "      <td>8624</td>\n",
       "      <td>8624</td>\n",
       "      <td>8624</td>\n",
       "      <td>8624</td>\n",
       "      <td>8624</td>\n",
       "      <td>8624</td>\n",
       "      <td>...</td>\n",
       "      <td>8624</td>\n",
       "      <td>8624</td>\n",
       "      <td>8624</td>\n",
       "      <td>8624</td>\n",
       "      <td>8624</td>\n",
       "      <td>8624</td>\n",
       "      <td>8624</td>\n",
       "      <td>8624</td>\n",
       "      <td>8624</td>\n",
       "      <td>8624</td>\n",
       "    </tr>\n",
       "    <tr>\n",
       "      <th>failed</th>\n",
       "      <td>75199</td>\n",
       "      <td>75197</td>\n",
       "      <td>75199</td>\n",
       "      <td>75199</td>\n",
       "      <td>75199</td>\n",
       "      <td>75199</td>\n",
       "      <td>75199</td>\n",
       "      <td>75199</td>\n",
       "      <td>75199</td>\n",
       "      <td>75199</td>\n",
       "      <td>...</td>\n",
       "      <td>75199</td>\n",
       "      <td>75199</td>\n",
       "      <td>75199</td>\n",
       "      <td>75199</td>\n",
       "      <td>75199</td>\n",
       "      <td>75199</td>\n",
       "      <td>75199</td>\n",
       "      <td>75199</td>\n",
       "      <td>75199</td>\n",
       "      <td>75199</td>\n",
       "    </tr>\n",
       "    <tr>\n",
       "      <th>live</th>\n",
       "      <td>7311</td>\n",
       "      <td>7311</td>\n",
       "      <td>7311</td>\n",
       "      <td>7311</td>\n",
       "      <td>7311</td>\n",
       "      <td>7311</td>\n",
       "      <td>7311</td>\n",
       "      <td>7311</td>\n",
       "      <td>7311</td>\n",
       "      <td>7311</td>\n",
       "      <td>...</td>\n",
       "      <td>7311</td>\n",
       "      <td>7311</td>\n",
       "      <td>7311</td>\n",
       "      <td>7311</td>\n",
       "      <td>7311</td>\n",
       "      <td>7311</td>\n",
       "      <td>7311</td>\n",
       "      <td>7311</td>\n",
       "      <td>7311</td>\n",
       "      <td>6869</td>\n",
       "    </tr>\n",
       "    <tr>\n",
       "      <th>successful</th>\n",
       "      <td>117465</td>\n",
       "      <td>117465</td>\n",
       "      <td>117465</td>\n",
       "      <td>117465</td>\n",
       "      <td>117465</td>\n",
       "      <td>117465</td>\n",
       "      <td>117465</td>\n",
       "      <td>117465</td>\n",
       "      <td>117465</td>\n",
       "      <td>117465</td>\n",
       "      <td>...</td>\n",
       "      <td>117465</td>\n",
       "      <td>117465</td>\n",
       "      <td>117465</td>\n",
       "      <td>117465</td>\n",
       "      <td>117465</td>\n",
       "      <td>117465</td>\n",
       "      <td>117465</td>\n",
       "      <td>117465</td>\n",
       "      <td>117465</td>\n",
       "      <td>117427</td>\n",
       "    </tr>\n",
       "    <tr>\n",
       "      <th>suspended</th>\n",
       "      <td>623</td>\n",
       "      <td>623</td>\n",
       "      <td>623</td>\n",
       "      <td>623</td>\n",
       "      <td>623</td>\n",
       "      <td>623</td>\n",
       "      <td>623</td>\n",
       "      <td>623</td>\n",
       "      <td>623</td>\n",
       "      <td>623</td>\n",
       "      <td>...</td>\n",
       "      <td>623</td>\n",
       "      <td>623</td>\n",
       "      <td>623</td>\n",
       "      <td>623</td>\n",
       "      <td>623</td>\n",
       "      <td>623</td>\n",
       "      <td>623</td>\n",
       "      <td>623</td>\n",
       "      <td>623</td>\n",
       "      <td>623</td>\n",
       "    </tr>\n",
       "  </tbody>\n",
       "</table>\n",
       "<p>5 rows × 37 columns</p>\n",
       "</div>"
      ],
      "text/plain": [
       "            backers_count   blurb  category  converted_pledged_amount  \\\n",
       "state                                                                   \n",
       "canceled             8624    8618      8624                      8624   \n",
       "failed              75199   75197     75199                     75199   \n",
       "live                 7311    7311      7311                      7311   \n",
       "successful         117465  117465    117465                    117465   \n",
       "suspended             623     623       623                       623   \n",
       "\n",
       "            country  created_at  creator  currency  currency_symbol  \\\n",
       "state                                                                 \n",
       "canceled       8624        8624     8624      8624             8624   \n",
       "failed        75199       75199    75199     75199            75199   \n",
       "live           7311        7311     7311      7311             7311   \n",
       "successful   117465      117465   117465    117465           117465   \n",
       "suspended       623         623      623       623              623   \n",
       "\n",
       "            currency_trailing_code  ...  profile    slug  source_url  \\\n",
       "state                               ...                                \n",
       "canceled                      8624  ...     8624    8624        8624   \n",
       "failed                       75199  ...    75199   75199       75199   \n",
       "live                          7311  ...     7311    7311        7311   \n",
       "successful                  117465  ...   117465  117465      117465   \n",
       "suspended                      623  ...      623     623         623   \n",
       "\n",
       "            spotlight  staff_pick  state_changed_at  static_usd_rate    urls  \\\n",
       "state                                                                          \n",
       "canceled         8624        8624              8624             8624    8624   \n",
       "failed          75199       75199             75199            75199   75199   \n",
       "live             7311        7311              7311             7311    7311   \n",
       "successful     117465      117465            117465           117465  117465   \n",
       "suspended         623         623               623              623     623   \n",
       "\n",
       "            usd_pledged  usd_type  \n",
       "state                              \n",
       "canceled           8624      8624  \n",
       "failed            75199     75199  \n",
       "live               7311      6869  \n",
       "successful       117465    117427  \n",
       "suspended           623       623  \n",
       "\n",
       "[5 rows x 37 columns]"
      ]
     },
     "execution_count": 10,
     "metadata": {},
     "output_type": "execute_result"
    }
   ],
   "source": [
    "merged_df.groupby('state').count()"
   ]
  },
  {
   "cell_type": "code",
   "execution_count": 11,
   "id": "9c8b8ce3-96ac-469a-a054-d1a6a3fe325b",
   "metadata": {},
   "outputs": [
    {
     "data": {
      "text/plain": [
       "backers_count                    0\n",
       "blurb                            8\n",
       "category                         0\n",
       "converted_pledged_amount         0\n",
       "country                          0\n",
       "created_at                       0\n",
       "creator                          0\n",
       "currency                         0\n",
       "currency_symbol                  0\n",
       "currency_trailing_code           0\n",
       "current_currency                 0\n",
       "deadline                         0\n",
       "disable_communication            0\n",
       "file                             0\n",
       "friends                     208922\n",
       "fx_rate                          0\n",
       "goal                             0\n",
       "id                               0\n",
       "is_backing                  208922\n",
       "is_starrable                     0\n",
       "is_starred                  208922\n",
       "launched_at                      0\n",
       "location                       226\n",
       "name                             0\n",
       "permissions                 208922\n",
       "photo                            0\n",
       "pledged                          0\n",
       "profile                          0\n",
       "slug                             0\n",
       "source_url                       0\n",
       "spotlight                        0\n",
       "staff_pick                       0\n",
       "state                            0\n",
       "state_changed_at                 0\n",
       "static_usd_rate                  0\n",
       "urls                             0\n",
       "usd_pledged                      0\n",
       "usd_type                       480\n",
       "dtype: int64"
      ]
     },
     "execution_count": 11,
     "metadata": {},
     "output_type": "execute_result"
    }
   ],
   "source": [
    "pd.isnull(merged_df).sum()"
   ]
  },
  {
   "cell_type": "markdown",
   "id": "473ffe53-a58e-4dae-9b3a-8a060b00cb55",
   "metadata": {
    "tags": []
   },
   "source": [
    "## Data Handling"
   ]
  },
  {
   "cell_type": "code",
   "execution_count": 12,
   "id": "a4b50b30-8cfa-40ce-b227-b4b223b535a3",
   "metadata": {},
   "outputs": [],
   "source": [
    "# create a dataset for Inspection\n",
    "final = merged_df.copy()"
   ]
  },
  {
   "cell_type": "markdown",
   "id": "e099540c-5073-4b52-82bb-e7ccca4ccb61",
   "metadata": {
    "tags": []
   },
   "source": [
    "### Dropping Data"
   ]
  },
  {
   "cell_type": "code",
   "execution_count": 13,
   "id": "3205e7cf-afda-49df-98ad-52ad9403e6dd",
   "metadata": {},
   "outputs": [],
   "source": [
    "drop_list = []"
   ]
  },
  {
   "cell_type": "markdown",
   "id": "0e8f4a92-5efa-48cd-8ce5-618c97afd112",
   "metadata": {},
   "source": [
    "#### Dropping features with missing values"
   ]
  },
  {
   "cell_type": "code",
   "execution_count": 14,
   "id": "bd514c88-1309-4978-a5db-56c9c5b60b36",
   "metadata": {},
   "outputs": [],
   "source": [
    "drop_missing_values = ['blurb', 'friends', 'is_backing', 'is_starred', 'permissions', 'usd_type', 'location']\n",
    "drop_list.extend(drop_missing_values)\n",
    "final = final.drop(drop_missing_values, axis = 1)\n"
   ]
  },
  {
   "cell_type": "markdown",
   "id": "420d37f3-3648-46eb-bbc7-16c98f7e6d65",
   "metadata": {},
   "source": [
    "#### Dropping useless features "
   ]
  },
  {
   "cell_type": "code",
   "execution_count": 15,
   "id": "fabbc6e2-50d2-4305-8068-83d7fd4ca055",
   "metadata": {},
   "outputs": [],
   "source": [
    "drop_useless_features = ['creator', 'currency_symbol', 'name', 'photo', 'profile', 'slug', 'source_url', 'urls', 'file']\n",
    "drop_list.extend(drop_useless_features)\n",
    "final = final.drop(drop_useless_features, axis = 1)"
   ]
  },
  {
   "cell_type": "markdown",
   "id": "ec63ae91-5a5a-4952-a5ae-1bfac974d8bb",
   "metadata": {},
   "source": [
    "#### Dropping redundant features"
   ]
  },
  {
   "cell_type": "code",
   "execution_count": 16,
   "id": "6e71f858-d38c-473e-afac-f5e8523a77b7",
   "metadata": {},
   "outputs": [],
   "source": [
    "drop_redundant_features = ['pledged', 'usd_pledged']\n",
    "drop_list.extend(drop_redundant_features)\n",
    "final = final.drop(drop_redundant_features, axis = 1)"
   ]
  },
  {
   "cell_type": "code",
   "execution_count": 17,
   "id": "d280fc33-c356-4199-93f7-51b1050414fe",
   "metadata": {},
   "outputs": [
    {
     "data": {
      "text/plain": [
       "['blurb',\n",
       " 'friends',\n",
       " 'is_backing',\n",
       " 'is_starred',\n",
       " 'permissions',\n",
       " 'usd_type',\n",
       " 'location',\n",
       " 'creator',\n",
       " 'currency_symbol',\n",
       " 'name',\n",
       " 'photo',\n",
       " 'profile',\n",
       " 'slug',\n",
       " 'source_url',\n",
       " 'urls',\n",
       " 'file',\n",
       " 'pledged',\n",
       " 'usd_pledged']"
      ]
     },
     "execution_count": 17,
     "metadata": {},
     "output_type": "execute_result"
    }
   ],
   "source": [
    "drop_list"
   ]
  },
  {
   "cell_type": "markdown",
   "id": "670a58ba-4346-4b66-89a9-55b629723941",
   "metadata": {},
   "source": [
    "#### Replacing features"
   ]
  },
  {
   "cell_type": "code",
   "execution_count": 18,
   "id": "c7a906c0-048f-4c37-ace6-c5289b5bbee4",
   "metadata": {},
   "outputs": [],
   "source": [
    "def clean_category(DataFrame): \n",
    "    cat_list = []\n",
    "    subcat_list = []\n",
    "    for e in DataFrame.category:\n",
    "        string_list = e.split(',')\n",
    "        if '/' in string_list[2]:\n",
    "            cat_list.append(string_list[2].split('/')[0][8:])\n",
    "            subcat_list.append(string_list[2].split('/')[1][:-1])\n",
    "        else:\n",
    "            cat_list.append(string_list[2][8:-1])\n",
    "            subcat_list.append('None')\n",
    "    DataFrame['category'] = cat_list\n",
    "    DataFrame['sub_category'] = subcat_list\n",
    "    return DataFrame"
   ]
  },
  {
   "cell_type": "code",
   "execution_count": 19,
   "id": "7e372844-574c-4e4f-9943-7a66f2255bde",
   "metadata": {},
   "outputs": [],
   "source": [
    "modified_list = ['category','state']"
   ]
  },
  {
   "cell_type": "code",
   "execution_count": 20,
   "id": "c2e2dac0-d795-42ec-a765-22759ed97dce",
   "metadata": {},
   "outputs": [],
   "source": [
    "final = clean_category(final)"
   ]
  },
  {
   "cell_type": "code",
   "execution_count": 21,
   "id": "7f5ef8e3-ba82-40f7-b7fe-9898ee2a4fac",
   "metadata": {},
   "outputs": [
    {
     "data": {
      "text/plain": [
       "array(['fashion', 'games', 'music', 'publishing', 'theater', 'food',\n",
       "       'art', 'photography', 'technology', 'dance', 'design',\n",
       "       'film & video', 'crafts', 'comics', 'journalism'], dtype=object)"
      ]
     },
     "execution_count": 21,
     "metadata": {},
     "output_type": "execute_result"
    }
   ],
   "source": [
    "final.category.unique()"
   ]
  },
  {
   "cell_type": "code",
   "execution_count": 22,
   "id": "d6eed94d-fd95-414b-bdac-0a9740f19218",
   "metadata": {},
   "outputs": [],
   "source": [
    "#replace successful and failed with 1 and 0\n",
    "final.state.replace(['successful','failed'], [1,0],inplace=True)\n",
    "final = final.query('state == [1,0]')\n",
    "final.state = final.state.astype(int)\n",
    "#\n",
    "\n",
    "final.is_starrable = final.is_starrable.astype(int)\n",
    "final.disable_communication = final.disable_communication.astype(int)\n",
    "final.currency_trailing_code = final.currency_trailing_code.astype(int)\n",
    "final.staff_pick = final.staff_pick.astype(int)\n",
    "final.spotlight = final.spotlight.astype(int)\n",
    "#drop live,susspended,cancelled\n",
    "#final = final[final['state'] == [1,0]]\n"
   ]
  },
  {
   "cell_type": "markdown",
   "id": "861a501e-271a-4a93-994e-293eeb613cea",
   "metadata": {
    "tags": []
   },
   "source": [
    "### Time conversions\n",
    "\n"
   ]
  },
  {
   "cell_type": "code",
   "execution_count": 23,
   "id": "cafc4062-8a68-40fc-8c0a-c43d091f5419",
   "metadata": {},
   "outputs": [],
   "source": [
    "modified_list.extend(['launched_at', 'deadline', 'created_at', 'state_changed_at'])         "
   ]
  },
  {
   "cell_type": "code",
   "execution_count": 24,
   "id": "e83bdb1a-cdf7-4192-a29f-40894e618ac6",
   "metadata": {},
   "outputs": [],
   "source": [
    "#converting unix time \n",
    "final.launched_at = pd.to_datetime(final.launched_at,unit='s',infer_datetime_format=True)\n",
    "final.deadline = pd.to_datetime(final.deadline,unit='s',infer_datetime_format=True)\n",
    "final.created_at = pd.to_datetime(final.created_at,unit='s',infer_datetime_format=True)\n",
    "final.state_changed_at = pd.to_datetime(final.state_changed_at,unit='s',infer_datetime_format=True)"
   ]
  },
  {
   "cell_type": "markdown",
   "id": "a68eb0f5-d2aa-4511-81c2-ad3d430972ea",
   "metadata": {},
   "source": [
    "### Writing df changes"
   ]
  },
  {
   "cell_type": "code",
   "execution_count": 25,
   "id": "5378090a-6bad-48eb-b55d-a2e21844c3ad",
   "metadata": {},
   "outputs": [],
   "source": [
    "feature_list = list(merged_df.columns)\n",
    "\n",
    "df_features = pd.DataFrame(feature_list,columns =['features'])\n",
    "df_features['dropped'] = df_features.features.isin(drop_list)\n",
    "df_features['drop_reason'] = ['missing_values' if x in drop_missing_values \\\n",
    "                              else 'useless' if x in drop_useless_features \\\n",
    "                              else 'redundant' if x in drop_redundant_features \\\n",
    "                              else 'None' for x in df_features['features']]\n",
    "df_features['modified'] = df_features.features.isin(modified_list)"
   ]
  },
  {
   "cell_type": "code",
   "execution_count": 26,
   "id": "df86b518-d47e-42e0-9a8c-e7248db1549f",
   "metadata": {},
   "outputs": [
    {
     "data": {
      "text/html": [
       "<div>\n",
       "<style scoped>\n",
       "    .dataframe tbody tr th:only-of-type {\n",
       "        vertical-align: middle;\n",
       "    }\n",
       "\n",
       "    .dataframe tbody tr th {\n",
       "        vertical-align: top;\n",
       "    }\n",
       "\n",
       "    .dataframe thead th {\n",
       "        text-align: right;\n",
       "    }\n",
       "</style>\n",
       "<table border=\"1\" class=\"dataframe\">\n",
       "  <thead>\n",
       "    <tr style=\"text-align: right;\">\n",
       "      <th></th>\n",
       "      <th>features</th>\n",
       "      <th>dropped</th>\n",
       "      <th>drop_reason</th>\n",
       "      <th>modified</th>\n",
       "    </tr>\n",
       "  </thead>\n",
       "  <tbody>\n",
       "    <tr>\n",
       "      <th>0</th>\n",
       "      <td>backers_count</td>\n",
       "      <td>False</td>\n",
       "      <td>None</td>\n",
       "      <td>False</td>\n",
       "    </tr>\n",
       "    <tr>\n",
       "      <th>1</th>\n",
       "      <td>blurb</td>\n",
       "      <td>True</td>\n",
       "      <td>missing_values</td>\n",
       "      <td>False</td>\n",
       "    </tr>\n",
       "    <tr>\n",
       "      <th>2</th>\n",
       "      <td>category</td>\n",
       "      <td>False</td>\n",
       "      <td>None</td>\n",
       "      <td>True</td>\n",
       "    </tr>\n",
       "    <tr>\n",
       "      <th>3</th>\n",
       "      <td>converted_pledged_amount</td>\n",
       "      <td>False</td>\n",
       "      <td>None</td>\n",
       "      <td>False</td>\n",
       "    </tr>\n",
       "    <tr>\n",
       "      <th>4</th>\n",
       "      <td>country</td>\n",
       "      <td>False</td>\n",
       "      <td>None</td>\n",
       "      <td>False</td>\n",
       "    </tr>\n",
       "    <tr>\n",
       "      <th>5</th>\n",
       "      <td>created_at</td>\n",
       "      <td>False</td>\n",
       "      <td>None</td>\n",
       "      <td>True</td>\n",
       "    </tr>\n",
       "    <tr>\n",
       "      <th>6</th>\n",
       "      <td>creator</td>\n",
       "      <td>True</td>\n",
       "      <td>useless</td>\n",
       "      <td>False</td>\n",
       "    </tr>\n",
       "    <tr>\n",
       "      <th>7</th>\n",
       "      <td>currency</td>\n",
       "      <td>False</td>\n",
       "      <td>None</td>\n",
       "      <td>False</td>\n",
       "    </tr>\n",
       "    <tr>\n",
       "      <th>8</th>\n",
       "      <td>currency_symbol</td>\n",
       "      <td>True</td>\n",
       "      <td>useless</td>\n",
       "      <td>False</td>\n",
       "    </tr>\n",
       "    <tr>\n",
       "      <th>9</th>\n",
       "      <td>currency_trailing_code</td>\n",
       "      <td>False</td>\n",
       "      <td>None</td>\n",
       "      <td>False</td>\n",
       "    </tr>\n",
       "    <tr>\n",
       "      <th>10</th>\n",
       "      <td>current_currency</td>\n",
       "      <td>False</td>\n",
       "      <td>None</td>\n",
       "      <td>False</td>\n",
       "    </tr>\n",
       "    <tr>\n",
       "      <th>11</th>\n",
       "      <td>deadline</td>\n",
       "      <td>False</td>\n",
       "      <td>None</td>\n",
       "      <td>True</td>\n",
       "    </tr>\n",
       "    <tr>\n",
       "      <th>12</th>\n",
       "      <td>disable_communication</td>\n",
       "      <td>False</td>\n",
       "      <td>None</td>\n",
       "      <td>False</td>\n",
       "    </tr>\n",
       "    <tr>\n",
       "      <th>13</th>\n",
       "      <td>file</td>\n",
       "      <td>True</td>\n",
       "      <td>useless</td>\n",
       "      <td>False</td>\n",
       "    </tr>\n",
       "    <tr>\n",
       "      <th>14</th>\n",
       "      <td>friends</td>\n",
       "      <td>True</td>\n",
       "      <td>missing_values</td>\n",
       "      <td>False</td>\n",
       "    </tr>\n",
       "    <tr>\n",
       "      <th>15</th>\n",
       "      <td>fx_rate</td>\n",
       "      <td>False</td>\n",
       "      <td>None</td>\n",
       "      <td>False</td>\n",
       "    </tr>\n",
       "    <tr>\n",
       "      <th>16</th>\n",
       "      <td>goal</td>\n",
       "      <td>False</td>\n",
       "      <td>None</td>\n",
       "      <td>False</td>\n",
       "    </tr>\n",
       "    <tr>\n",
       "      <th>17</th>\n",
       "      <td>id</td>\n",
       "      <td>False</td>\n",
       "      <td>None</td>\n",
       "      <td>False</td>\n",
       "    </tr>\n",
       "    <tr>\n",
       "      <th>18</th>\n",
       "      <td>is_backing</td>\n",
       "      <td>True</td>\n",
       "      <td>missing_values</td>\n",
       "      <td>False</td>\n",
       "    </tr>\n",
       "    <tr>\n",
       "      <th>19</th>\n",
       "      <td>is_starrable</td>\n",
       "      <td>False</td>\n",
       "      <td>None</td>\n",
       "      <td>False</td>\n",
       "    </tr>\n",
       "    <tr>\n",
       "      <th>20</th>\n",
       "      <td>is_starred</td>\n",
       "      <td>True</td>\n",
       "      <td>missing_values</td>\n",
       "      <td>False</td>\n",
       "    </tr>\n",
       "    <tr>\n",
       "      <th>21</th>\n",
       "      <td>launched_at</td>\n",
       "      <td>False</td>\n",
       "      <td>None</td>\n",
       "      <td>True</td>\n",
       "    </tr>\n",
       "    <tr>\n",
       "      <th>22</th>\n",
       "      <td>location</td>\n",
       "      <td>True</td>\n",
       "      <td>missing_values</td>\n",
       "      <td>False</td>\n",
       "    </tr>\n",
       "    <tr>\n",
       "      <th>23</th>\n",
       "      <td>name</td>\n",
       "      <td>True</td>\n",
       "      <td>useless</td>\n",
       "      <td>False</td>\n",
       "    </tr>\n",
       "    <tr>\n",
       "      <th>24</th>\n",
       "      <td>permissions</td>\n",
       "      <td>True</td>\n",
       "      <td>missing_values</td>\n",
       "      <td>False</td>\n",
       "    </tr>\n",
       "    <tr>\n",
       "      <th>25</th>\n",
       "      <td>photo</td>\n",
       "      <td>True</td>\n",
       "      <td>useless</td>\n",
       "      <td>False</td>\n",
       "    </tr>\n",
       "    <tr>\n",
       "      <th>26</th>\n",
       "      <td>pledged</td>\n",
       "      <td>True</td>\n",
       "      <td>redundant</td>\n",
       "      <td>False</td>\n",
       "    </tr>\n",
       "    <tr>\n",
       "      <th>27</th>\n",
       "      <td>profile</td>\n",
       "      <td>True</td>\n",
       "      <td>useless</td>\n",
       "      <td>False</td>\n",
       "    </tr>\n",
       "    <tr>\n",
       "      <th>28</th>\n",
       "      <td>slug</td>\n",
       "      <td>True</td>\n",
       "      <td>useless</td>\n",
       "      <td>False</td>\n",
       "    </tr>\n",
       "    <tr>\n",
       "      <th>29</th>\n",
       "      <td>source_url</td>\n",
       "      <td>True</td>\n",
       "      <td>useless</td>\n",
       "      <td>False</td>\n",
       "    </tr>\n",
       "    <tr>\n",
       "      <th>30</th>\n",
       "      <td>spotlight</td>\n",
       "      <td>False</td>\n",
       "      <td>None</td>\n",
       "      <td>False</td>\n",
       "    </tr>\n",
       "    <tr>\n",
       "      <th>31</th>\n",
       "      <td>staff_pick</td>\n",
       "      <td>False</td>\n",
       "      <td>None</td>\n",
       "      <td>False</td>\n",
       "    </tr>\n",
       "    <tr>\n",
       "      <th>32</th>\n",
       "      <td>state</td>\n",
       "      <td>False</td>\n",
       "      <td>None</td>\n",
       "      <td>True</td>\n",
       "    </tr>\n",
       "    <tr>\n",
       "      <th>33</th>\n",
       "      <td>state_changed_at</td>\n",
       "      <td>False</td>\n",
       "      <td>None</td>\n",
       "      <td>True</td>\n",
       "    </tr>\n",
       "    <tr>\n",
       "      <th>34</th>\n",
       "      <td>static_usd_rate</td>\n",
       "      <td>False</td>\n",
       "      <td>None</td>\n",
       "      <td>False</td>\n",
       "    </tr>\n",
       "    <tr>\n",
       "      <th>35</th>\n",
       "      <td>urls</td>\n",
       "      <td>True</td>\n",
       "      <td>useless</td>\n",
       "      <td>False</td>\n",
       "    </tr>\n",
       "    <tr>\n",
       "      <th>36</th>\n",
       "      <td>usd_pledged</td>\n",
       "      <td>True</td>\n",
       "      <td>redundant</td>\n",
       "      <td>False</td>\n",
       "    </tr>\n",
       "    <tr>\n",
       "      <th>37</th>\n",
       "      <td>usd_type</td>\n",
       "      <td>True</td>\n",
       "      <td>missing_values</td>\n",
       "      <td>False</td>\n",
       "    </tr>\n",
       "  </tbody>\n",
       "</table>\n",
       "</div>"
      ],
      "text/plain": [
       "                    features  dropped     drop_reason  modified\n",
       "0              backers_count    False            None     False\n",
       "1                      blurb     True  missing_values     False\n",
       "2                   category    False            None      True\n",
       "3   converted_pledged_amount    False            None     False\n",
       "4                    country    False            None     False\n",
       "5                 created_at    False            None      True\n",
       "6                    creator     True         useless     False\n",
       "7                   currency    False            None     False\n",
       "8            currency_symbol     True         useless     False\n",
       "9     currency_trailing_code    False            None     False\n",
       "10          current_currency    False            None     False\n",
       "11                  deadline    False            None      True\n",
       "12     disable_communication    False            None     False\n",
       "13                      file     True         useless     False\n",
       "14                   friends     True  missing_values     False\n",
       "15                   fx_rate    False            None     False\n",
       "16                      goal    False            None     False\n",
       "17                        id    False            None     False\n",
       "18                is_backing     True  missing_values     False\n",
       "19              is_starrable    False            None     False\n",
       "20                is_starred     True  missing_values     False\n",
       "21               launched_at    False            None      True\n",
       "22                  location     True  missing_values     False\n",
       "23                      name     True         useless     False\n",
       "24               permissions     True  missing_values     False\n",
       "25                     photo     True         useless     False\n",
       "26                   pledged     True       redundant     False\n",
       "27                   profile     True         useless     False\n",
       "28                      slug     True         useless     False\n",
       "29                source_url     True         useless     False\n",
       "30                 spotlight    False            None     False\n",
       "31                staff_pick    False            None     False\n",
       "32                     state    False            None      True\n",
       "33          state_changed_at    False            None      True\n",
       "34           static_usd_rate    False            None     False\n",
       "35                      urls     True         useless     False\n",
       "36               usd_pledged     True       redundant     False\n",
       "37                  usd_type     True  missing_values     False"
      ]
     },
     "execution_count": 26,
     "metadata": {},
     "output_type": "execute_result"
    }
   ],
   "source": [
    "df_features"
   ]
  },
  {
   "cell_type": "markdown",
   "id": "ea8c3f66-dbf5-4f08-8f74-90c4e1bfa92e",
   "metadata": {
    "tags": []
   },
   "source": [
    "# Data Exploration\n",
    "Purpose: we gotta form a hypotheses / story about our defined problem by visually analyzing the data"
   ]
  },
  {
   "cell_type": "code",
   "execution_count": 27,
   "id": "9d6eb912-c89d-4c24-ba2d-58bb082f544a",
   "metadata": {},
   "outputs": [],
   "source": [
    "#new dataset for exploration\n",
    "data_exp = final.copy()"
   ]
  },
  {
   "cell_type": "code",
   "execution_count": 28,
   "id": "04864ad6-857c-4ce1-b12a-036587a7781a",
   "metadata": {},
   "outputs": [],
   "source": [
    "#years\n",
    "#final['launched_at_yr'] = [date.year for date in final['launched_at']]"
   ]
  },
  {
   "cell_type": "code",
   "execution_count": 29,
   "id": "4cd85d6c-3711-47f3-97d8-abc5d298738a",
   "metadata": {},
   "outputs": [
    {
     "name": "stdout",
     "output_type": "stream",
     "text": [
      "<class 'pandas.core.frame.DataFrame'>\n",
      "Int64Index: 192664 entries, 1 to 209221\n",
      "Data columns (total 21 columns):\n",
      " #   Column                    Non-Null Count   Dtype         \n",
      "---  ------                    --------------   -----         \n",
      " 0   backers_count             192664 non-null  int64         \n",
      " 1   category                  192664 non-null  object        \n",
      " 2   converted_pledged_amount  192664 non-null  int64         \n",
      " 3   country                   192664 non-null  object        \n",
      " 4   created_at                192664 non-null  datetime64[ns]\n",
      " 5   currency                  192664 non-null  object        \n",
      " 6   currency_trailing_code    192664 non-null  int64         \n",
      " 7   current_currency          192664 non-null  object        \n",
      " 8   deadline                  192664 non-null  datetime64[ns]\n",
      " 9   disable_communication     192664 non-null  int64         \n",
      " 10  fx_rate                   192664 non-null  float64       \n",
      " 11  goal                      192664 non-null  float64       \n",
      " 12  id                        192664 non-null  int64         \n",
      " 13  is_starrable              192664 non-null  int64         \n",
      " 14  launched_at               192664 non-null  datetime64[ns]\n",
      " 15  spotlight                 192664 non-null  int64         \n",
      " 16  staff_pick                192664 non-null  int64         \n",
      " 17  state                     192664 non-null  int64         \n",
      " 18  state_changed_at          192664 non-null  datetime64[ns]\n",
      " 19  static_usd_rate           192664 non-null  float64       \n",
      " 20  sub_category              192664 non-null  object        \n",
      "dtypes: datetime64[ns](4), float64(3), int64(9), object(5)\n",
      "memory usage: 32.3+ MB\n"
     ]
    }
   ],
   "source": [
    "final.info()"
   ]
  },
  {
   "cell_type": "code",
   "execution_count": 30,
   "id": "2748971a-a298-40e3-b869-ad1564fa97c1",
   "metadata": {},
   "outputs": [],
   "source": [
    "# Seperate continious vs. categorical variables\n",
    "data_cat_col = ['category','country','sub_category','country','currency','current_currency','is_starrable','disable_communication','state']\n",
    "data_cont_col = [x for x in final if x not in data_cat_col]\n",
    "data_cat = final[data_cat_col]\n",
    "data_cont = final[data_cont_col]"
   ]
  },
  {
   "cell_type": "code",
   "execution_count": 31,
   "id": "343ff47a-d5fe-483e-b43e-4f337303f9c6",
   "metadata": {},
   "outputs": [
    {
     "data": {
      "text/plain": [
       "backers_count               41.997986\n",
       "converted_pledged_amount    34.422017\n",
       "currency_trailing_code      -1.671302\n",
       "disable_communication        0.000000\n",
       "fx_rate                     -2.244813\n",
       "goal                        73.476994\n",
       "id                          -0.002373\n",
       "is_starrable                 0.000000\n",
       "spotlight                   -0.449712\n",
       "staff_pick                   2.137329\n",
       "state                       -0.449712\n",
       "static_usd_rate             -1.144525\n",
       "dtype: float64"
      ]
     },
     "execution_count": 31,
     "metadata": {},
     "output_type": "execute_result"
    }
   ],
   "source": [
    "# Check if scaling is needed ( we can do this by looking at the .skew()\n",
    "final.skew()"
   ]
  },
  {
   "cell_type": "code",
   "execution_count": 32,
   "id": "54fc9b48-517d-4bbe-89ad-6a5a9fc75ac5",
   "metadata": {},
   "outputs": [
    {
     "data": {
      "image/png": "[encoded data removed]",
      "text/plain": [
       "<Figure size 792x648 with 2 Axes>"
      ]
     },
     "metadata": {},
     "output_type": "display_data"
    }
   ],
   "source": [
    "#Plot correlation heatmap for continious values\n",
    "mask = np.triu(np.ones_like(data_cont.corr(), dtype=np.bool))\n",
    "f, ax = plt.subplots(figsize=(11, 9))\n",
    "\n",
    "cmap = sns.diverging_palette(220, 10, as_cmap=True)\n",
    "\n",
    "sns.heatmap(data_cont.corr(), mask=mask, cmap=cmap, vmax=.3, center=0,\n",
    "            square=True, linewidths=.5, cbar_kws={\"shrink\": .5}, annot=True, fmt=\".1g\");\n"
   ]
  },
  {
   "cell_type": "code",
   "execution_count": 33,
   "id": "380bb54e-6fad-4bd3-b2e8-5ffd9907bc75",
   "metadata": {},
   "outputs": [
    {
     "data": {
      "text/plain": [
       "<AxesSubplot:>"
      ]
     },
     "execution_count": 33,
     "metadata": {},
     "output_type": "execute_result"
    },
    {
     "data": {
      "image/png": "[encoded data removed]",
      "text/plain": [
       "<Figure size 432x288 with 1 Axes>"
      ]
     },
     "metadata": {},
     "output_type": "display_data"
    }
   ],
   "source": [
    "#Plot a histogram of our Target 'state' and see if it needs scaling for future work\n",
    "data_exp['state'].value_counts(ascending=True).plot(kind='bar')"
   ]
  },
  {
   "cell_type": "markdown",
   "id": "32d2c0fa-d880-40d4-997b-b841a64a7a1a",
   "metadata": {},
   "source": [
    "* imbalanced data!!"
   ]
  },
  {
   "cell_type": "code",
   "execution_count": 34,
   "id": "79d7f66e-2ce6-4989-a90a-d554d4fd15e7",
   "metadata": {},
   "outputs": [],
   "source": [
    "#plt.figure(figsize=(14,8))\n",
    "#sns.countplot(x='launched_at_yr', hue='state', data=data_exp);"
   ]
  },
  {
   "cell_type": "code",
   "execution_count": 35,
   "id": "bb204719-4add-4fe5-98df-06168d94076c",
   "metadata": {},
   "outputs": [
    {
     "data": {
      "image/png": "[encoded data removed]",
      "text/plain": [
       "<Figure size 1008x720 with 1 Axes>"
      ]
     },
     "metadata": {},
     "output_type": "display_data"
    }
   ],
   "source": [
    "plt.figure(figsize=(14,10))\n",
    "sns.countplot(x='category', hue='state', data=data_exp);"
   ]
  },
  {
   "cell_type": "markdown",
   "id": "0957d76a-8ab1-4250-8231-3589e03372a0",
   "metadata": {},
   "source": [
    "# Feature Engineering"
   ]
  },
  {
   "cell_type": "code",
   "execution_count": 36,
   "id": "3f8ebdb7-ebea-4601-963c-ea4e24d20f22",
   "metadata": {},
   "outputs": [],
   "source": [
    "new_features_list = ['pledged_over', 'campaign_days', 'pre_launched_days', 'launched_at_yr', 'goal_converted']"
   ]
  },
  {
   "cell_type": "code",
   "execution_count": 37,
   "id": "26d2ffe0-f887-4897-a140-5aa0f2e7910a",
   "metadata": {},
   "outputs": [],
   "source": [
    "#create new features\n",
    "final['pledged_over'] = final.converted_pledged_amount - final.goal \n",
    "final['campaign_days'] = ((final.deadline - final.launched_at)/ np.timedelta64(1, 'h')).astype(int)\n",
    "final['pre_launched_days'] = ((final.launched_at - final.created_at)/ np.timedelta64(1, 'h')).astype(int)\n",
    "\n",
    "final['launched_at_yr'] = [date.year for date in final['launched_at']]\n",
    "final['launched_at_mth'] = [date.month for date in final['launched_at']]\n",
    "\n",
    "final['goal_converted'] = final[\"goal\"] * final[\"static_usd_rate\"]\n",
    "#use log on goal_converted\n",
    "\n"
   ]
  },
  {
   "cell_type": "code",
   "execution_count": 38,
   "id": "9c81d5ba-83a0-4c92-b3bc-2194896c9e18",
   "metadata": {},
   "outputs": [],
   "source": [
    "#use log on stuff\n",
    "final['goal_converted_log'] = [(math.log(el)+1) for el in final['goal_converted']]\n",
    "final['converted_pledged_amount_log'] = np.log(final['converted_pledged_amount']+1)\n",
    "final['backers_count_log'] = np.log(final['backers_count']+1)"
   ]
  },
  {
   "cell_type": "code",
   "execution_count": 39,
   "id": "a025e8fc-d24c-4f96-ad3e-e683570ed3e8",
   "metadata": {},
   "outputs": [
    {
     "data": {
      "text/plain": [
       "array([ 7.90775528, 10.61580548, 10.40596118, ...,  8.50185141,\n",
       "        9.26436333,  9.60639387])"
      ]
     },
     "execution_count": 39,
     "metadata": {},
     "output_type": "execute_result"
    }
   ],
   "source": [
    "final['goal_converted_log'].unique()"
   ]
  },
  {
   "cell_type": "markdown",
   "id": "c7a2591a-f804-40ce-aebe-70724d325379",
   "metadata": {},
   "source": [
    "# Preprocessing (Train/Test Split and Basemodel)\n",
    "In order to apply modelling on different dataset types, we should consider a nice way to do the splits.\n",
    "\n"
   ]
  },
  {
   "cell_type": "code",
   "execution_count": 40,
   "id": "aff6a60e-4abd-45f6-90f0-72eea81ffbe9",
   "metadata": {},
   "outputs": [],
   "source": [
    "#define predictors and target variable X,y\n",
    "#X = final.drop([\"state\"], axis=1)\n",
    "#y = final[\"state\"]"
   ]
  },
  {
   "cell_type": "code",
   "execution_count": 41,
   "id": "7530a629-9fe0-4e3d-8d6d-fff977bf2246",
   "metadata": {},
   "outputs": [
    {
     "name": "stdout",
     "output_type": "stream",
     "text": [
      "<class 'pandas.core.frame.DataFrame'>\n",
      "Int64Index: 192664 entries, 1 to 209221\n",
      "Data columns (total 30 columns):\n",
      " #   Column                        Non-Null Count   Dtype         \n",
      "---  ------                        --------------   -----         \n",
      " 0   backers_count                 192664 non-null  int64         \n",
      " 1   category                      192664 non-null  object        \n",
      " 2   converted_pledged_amount      192664 non-null  int64         \n",
      " 3   country                       192664 non-null  object        \n",
      " 4   created_at                    192664 non-null  datetime64[ns]\n",
      " 5   currency                      192664 non-null  object        \n",
      " 6   currency_trailing_code        192664 non-null  int64         \n",
      " 7   current_currency              192664 non-null  object        \n",
      " 8   deadline                      192664 non-null  datetime64[ns]\n",
      " 9   disable_communication         192664 non-null  int64         \n",
      " 10  fx_rate                       192664 non-null  float64       \n",
      " 11  goal                          192664 non-null  float64       \n",
      " 12  id                            192664 non-null  int64         \n",
      " 13  is_starrable                  192664 non-null  int64         \n",
      " 14  launched_at                   192664 non-null  datetime64[ns]\n",
      " 15  spotlight                     192664 non-null  int64         \n",
      " 16  staff_pick                    192664 non-null  int64         \n",
      " 17  state                         192664 non-null  int64         \n",
      " 18  state_changed_at              192664 non-null  datetime64[ns]\n",
      " 19  static_usd_rate               192664 non-null  float64       \n",
      " 20  sub_category                  192664 non-null  object        \n",
      " 21  pledged_over                  192664 non-null  float64       \n",
      " 22  campaign_days                 192664 non-null  int64         \n",
      " 23  pre_launched_days             192664 non-null  int64         \n",
      " 24  launched_at_yr                192664 non-null  int64         \n",
      " 25  launched_at_mth               192664 non-null  int64         \n",
      " 26  goal_converted                192664 non-null  float64       \n",
      " 27  goal_converted_log            192664 non-null  float64       \n",
      " 28  converted_pledged_amount_log  192664 non-null  float64       \n",
      " 29  backers_count_log             192664 non-null  float64       \n",
      "dtypes: datetime64[ns](4), float64(8), int64(13), object(5)\n",
      "memory usage: 49.6+ MB\n"
     ]
    }
   ],
   "source": [
    "final.info()"
   ]
  },
  {
   "cell_type": "code",
   "execution_count": 42,
   "id": "8b2da8ed-76ad-4c7e-abdf-8b11e55b1b5d",
   "metadata": {},
   "outputs": [],
   "source": [
    "# Get dummies for object variables: category, sub_category, currency, country\n",
    "\n",
    "category_dummies = pd.get_dummies(final['category'], prefix='cat', drop_first=True) \n",
    "subcategory_dummies = pd.get_dummies(final['sub_category'], prefix='subcat', drop_first=True)\n",
    "currency_dummies = pd.get_dummies(final['currency'], prefix='cur', drop_first=True) \n",
    "country_dummies = pd.get_dummies(final['country'], prefix='country', drop_first=True)\n",
    "final = final.drop(['category', 'sub_category', 'currency', 'country'], axis=1) \n",
    "final = pd.concat([final, category_dummies, subcategory_dummies, currency_dummies, country_dummies], axis=1) "
   ]
  },
  {
   "cell_type": "code",
   "execution_count": 43,
   "id": "934b9d09-c692-44c9-b0d9-88f1836e719d",
   "metadata": {},
   "outputs": [],
   "source": [
    "X = final.drop([\"state\", 'pledged_over', 'spotlight', 'currency_trailing_code', 'current_currency', 'created_at', 'deadline', 'fx_rate', 'goal', 'id', 'launched_at', 'state_changed_at', 'backers_count', 'backers_count_log', 'static_usd_rate', 'converted_pledged_amount_log', 'converted_pledged_amount'], axis=1)\n",
    "y = final[\"state\"]\n"
   ]
  },
  {
   "cell_type": "code",
   "execution_count": 44,
   "id": "6bfc77c5-2b5f-47e5-856f-2bda601ac920",
   "metadata": {},
   "outputs": [],
   "source": [
    "#Split data into training and testing sets\n",
    "X_train, X_test, y_train, y_test= train_test_split(X,y,test_size=test_size,\n",
    "                                                        random_state=random_state,\n",
    "                                                        shuffle=True,\n",
    "                                                   stratify=y)\n",
    "# X_train = np.array(X_train)\n",
    "# X_test = np.array(X_test)\n",
    "# y_train = np.array(y_train)\n",
    "# y_test = np.array(y_test)"
   ]
  },
  {
   "cell_type": "code",
   "execution_count": 45,
   "id": "58ca3113-cd31-4b22-a359-77fdb1f469aa",
   "metadata": {},
   "outputs": [
    {
     "name": "stdout",
     "output_type": "stream",
     "text": [
      "[[    0 22560]\n",
      " [    0 35240]]\n",
      "              precision    recall  f1-score   support\n",
      "\n",
      "           0       0.00      0.00      0.00     22560\n",
      "           1       0.61      1.00      0.76     35240\n",
      "\n",
      "    accuracy                           0.61     57800\n",
      "   macro avg       0.30      0.50      0.38     57800\n",
      "weighted avg       0.37      0.61      0.46     57800\n",
      "\n"
     ]
    }
   ],
   "source": [
    "# create a dummy classifier model as Basemodel\n",
    "dum_clf = DummyClassifier(strategy='constant',constant=1).fit(X_train,y_train)\n",
    "y_pred_dum_clf = dum_clf.predict(X_test)\n",
    "\n",
    "print(confusion_matrix(y_test,y_pred_dum_clf))\n",
    "print(classification_report(y_test,y_pred_dum_clf))\n"
   ]
  },
  {
   "cell_type": "code",
   "execution_count": 46,
   "id": "f2b14294-a9d6-4cdd-a424-75b671efc292",
   "metadata": {},
   "outputs": [],
   "source": [
    "#for future work\n",
    "#scores = cross_val_score(dummy_clf, X_train, y_train, scoring='f1', cv=10, n_jobs=-1)"
   ]
  },
  {
   "cell_type": "code",
   "execution_count": 47,
   "id": "cce91dc4-c231-4df6-bb7a-004a76affb0b",
   "metadata": {},
   "outputs": [],
   "source": [
    "#use oversampling\n",
    "\n",
    "# define oversampling strategy\n",
    "oversample = RandomOverSampler(sampling_strategy='minority', random_state=random_state)\n",
    "# fit and apply the transform\n",
    "X_train_over, y_train_over = oversample.fit_resample(np.array(X_train), np.array(y_train))\n",
    "\n"
   ]
  },
  {
   "cell_type": "code",
   "execution_count": 48,
   "id": "17f6bc61-f0ec-48c1-a605-819cfc608e73",
   "metadata": {},
   "outputs": [
    {
     "data": {
      "text/plain": [
       "82225"
      ]
     },
     "execution_count": 48,
     "metadata": {},
     "output_type": "execute_result"
    }
   ],
   "source": [
    "sum(y_train_over)"
   ]
  },
  {
   "cell_type": "code",
   "execution_count": 49,
   "id": "b3e09f91-b1b0-499f-9bd7-1d526010b0db",
   "metadata": {},
   "outputs": [
    {
     "data": {
      "text/plain": [
       "164450"
      ]
     },
     "execution_count": 49,
     "metadata": {},
     "output_type": "execute_result"
    }
   ],
   "source": [
    "len(y_train_over)"
   ]
  },
  {
   "cell_type": "code",
   "execution_count": 50,
   "id": "06fa548d-0d6f-40ef-8f77-ca7f2ba59011",
   "metadata": {},
   "outputs": [],
   "source": [
    "features_scalable_list = ['goal_converted']"
   ]
  },
  {
   "cell_type": "code",
   "execution_count": 51,
   "id": "7851b0d7-2334-47b5-91b3-bba22720ac54",
   "metadata": {},
   "outputs": [
    {
     "data": {
      "text/plain": [
       "['backers_count',\n",
       " 'converted_pledged_amount',\n",
       " 'created_at',\n",
       " 'currency_trailing_code',\n",
       " 'deadline',\n",
       " 'fx_rate',\n",
       " 'goal',\n",
       " 'id',\n",
       " 'launched_at',\n",
       " 'spotlight',\n",
       " 'staff_pick',\n",
       " 'state_changed_at',\n",
       " 'static_usd_rate']"
      ]
     },
     "execution_count": 51,
     "metadata": {},
     "output_type": "execute_result"
    }
   ],
   "source": [
    "data_cont_col"
   ]
  },
  {
   "cell_type": "code",
   "execution_count": 52,
   "id": "263c3b1a-7153-403e-bdb5-a6e9d672bfaa",
   "metadata": {},
   "outputs": [],
   "source": [
    "#X_train[features_scalable_list]"
   ]
  },
  {
   "cell_type": "code",
   "execution_count": 53,
   "id": "c263f92a-132e-4dc0-9ce5-5dad520ebf4c",
   "metadata": {},
   "outputs": [],
   "source": [
    "X_train_scaled = X_train.copy()\n",
    "X_test_scaled = X_test.copy()"
   ]
  },
  {
   "cell_type": "code",
   "execution_count": 54,
   "id": "8aac40ed-1ece-4cc1-b9d2-65a455aa0092",
   "metadata": {},
   "outputs": [],
   "source": [
    "#use standard scaler on X_train and y_train\n",
    "scaler = StandardScaler()\n",
    "X_train_scaled[features_scalable_list] = scaler.fit_transform(np.array(X_train[features_scalable_list])) # Scaler is fitted to training data _only_\n",
    "X_test_scaled[features_scalable_list] = scaler.transform(np.array(X_test[features_scalable_list])) # Already fitted scaler is applied to test data\n",
    "\n",
    "\n",
    "#data_cat_col = ['category','country','sub_category','country','currency','current_currency','is_starrable','disable_communication']\n",
    "#data_cont_col = [x for x in final if x not in data_cat_col]"
   ]
  },
  {
   "cell_type": "code",
   "execution_count": 55,
   "id": "6ba10d8d-87b6-4850-a7c8-3f9de694cbf8",
   "metadata": {},
   "outputs": [],
   "source": [
    "#use standard scaler on X_train_over and y_train_over"
   ]
  },
  {
   "cell_type": "markdown",
   "id": "d0ecd254-3ba4-4b31-870e-acd98901ae30",
   "metadata": {
    "tags": []
   },
   "source": [
    "# Future Work"
   ]
  },
  {
   "cell_type": "code",
   "execution_count": 56,
   "id": "451b9e44-50ee-4af0-acac-b032f032b7d8",
   "metadata": {},
   "outputs": [],
   "source": [
    "# To do: save final df as csv\n",
    "#compression_opts = dict(method='zip', archive_name='Kickstarter_all_clean.csv')  \n",
    "#final.to_csv('Kickstarter_all_clean.zip', index=False, compression=compression_opts)"
   ]
  },
  {
   "cell_type": "markdown",
   "id": "edb564e6-6bd0-4e07-a454-b71659742c12",
   "metadata": {},
   "source": [
    "# Predictive Modelling\n",
    "Purpose: Train machine learning models (supervised), evaluate their performance and use them to make predictions"
   ]
  },
  {
   "cell_type": "markdown",
   "id": "c88b0880-0d2b-4ace-b9cd-a0f4fc86a86e",
   "metadata": {},
   "source": [
    "* using f1 score as our metric"
   ]
  },
  {
   "cell_type": "code",
   "execution_count": 57,
   "id": "a035284f-4d42-4431-a6da-a2f0e775aeac",
   "metadata": {},
   "outputs": [],
   "source": [
    "#logistic regression"
   ]
  },
  {
   "cell_type": "code",
   "execution_count": 58,
   "id": "979b9203-2860-47e2-b859-8d59ac82bbdb",
   "metadata": {},
   "outputs": [],
   "source": [
    "#Random Forest Classifier"
   ]
  },
  {
   "cell_type": "code",
   "execution_count": 59,
   "id": "7c81e28e-f6f0-489a-b774-fdf6e053e9f8",
   "metadata": {},
   "outputs": [],
   "source": [
    "#Support Vector Machines (use classifier)"
   ]
  },
  {
   "cell_type": "code",
   "execution_count": 60,
   "id": "b614480f-2822-4e5a-a299-b0a107f41cbc",
   "metadata": {},
   "outputs": [
    {
     "data": {
      "text/html": [
       "<div>\n",
       "<style scoped>\n",
       "    .dataframe tbody tr th:only-of-type {\n",
       "        vertical-align: middle;\n",
       "    }\n",
       "\n",
       "    .dataframe tbody tr th {\n",
       "        vertical-align: top;\n",
       "    }\n",
       "\n",
       "    .dataframe thead th {\n",
       "        text-align: right;\n",
       "    }\n",
       "</style>\n",
       "<table border=\"1\" class=\"dataframe\">\n",
       "  <thead>\n",
       "    <tr style=\"text-align: right;\">\n",
       "      <th></th>\n",
       "      <th>disable_communication</th>\n",
       "      <th>is_starrable</th>\n",
       "      <th>staff_pick</th>\n",
       "      <th>campaign_days</th>\n",
       "      <th>pre_launched_days</th>\n",
       "      <th>launched_at_yr</th>\n",
       "      <th>launched_at_mth</th>\n",
       "      <th>goal_converted</th>\n",
       "      <th>goal_converted_log</th>\n",
       "      <th>cat_comics</th>\n",
       "      <th>...</th>\n",
       "      <th>country_IT</th>\n",
       "      <th>country_JP</th>\n",
       "      <th>country_LU</th>\n",
       "      <th>country_MX</th>\n",
       "      <th>country_NL</th>\n",
       "      <th>country_NO</th>\n",
       "      <th>country_NZ</th>\n",
       "      <th>country_SE</th>\n",
       "      <th>country_SG</th>\n",
       "      <th>country_US</th>\n",
       "    </tr>\n",
       "  </thead>\n",
       "  <tbody>\n",
       "    <tr>\n",
       "      <th>207856</th>\n",
       "      <td>0</td>\n",
       "      <td>0</td>\n",
       "      <td>0</td>\n",
       "      <td>600</td>\n",
       "      <td>2246</td>\n",
       "      <td>2015</td>\n",
       "      <td>4</td>\n",
       "      <td>1002.478125</td>\n",
       "      <td>7.910230</td>\n",
       "      <td>0</td>\n",
       "      <td>...</td>\n",
       "      <td>0</td>\n",
       "      <td>0</td>\n",
       "      <td>0</td>\n",
       "      <td>0</td>\n",
       "      <td>0</td>\n",
       "      <td>0</td>\n",
       "      <td>0</td>\n",
       "      <td>0</td>\n",
       "      <td>0</td>\n",
       "      <td>0</td>\n",
       "    </tr>\n",
       "    <tr>\n",
       "      <th>179860</th>\n",
       "      <td>0</td>\n",
       "      <td>0</td>\n",
       "      <td>1</td>\n",
       "      <td>1175</td>\n",
       "      <td>159</td>\n",
       "      <td>2018</td>\n",
       "      <td>7</td>\n",
       "      <td>25000.000000</td>\n",
       "      <td>11.126631</td>\n",
       "      <td>0</td>\n",
       "      <td>...</td>\n",
       "      <td>0</td>\n",
       "      <td>0</td>\n",
       "      <td>0</td>\n",
       "      <td>0</td>\n",
       "      <td>0</td>\n",
       "      <td>0</td>\n",
       "      <td>0</td>\n",
       "      <td>0</td>\n",
       "      <td>0</td>\n",
       "      <td>1</td>\n",
       "    </tr>\n",
       "    <tr>\n",
       "      <th>36509</th>\n",
       "      <td>0</td>\n",
       "      <td>0</td>\n",
       "      <td>0</td>\n",
       "      <td>720</td>\n",
       "      <td>142</td>\n",
       "      <td>2013</td>\n",
       "      <td>8</td>\n",
       "      <td>10000.000000</td>\n",
       "      <td>10.210340</td>\n",
       "      <td>0</td>\n",
       "      <td>...</td>\n",
       "      <td>0</td>\n",
       "      <td>0</td>\n",
       "      <td>0</td>\n",
       "      <td>0</td>\n",
       "      <td>0</td>\n",
       "      <td>0</td>\n",
       "      <td>0</td>\n",
       "      <td>0</td>\n",
       "      <td>0</td>\n",
       "      <td>1</td>\n",
       "    </tr>\n",
       "    <tr>\n",
       "      <th>24237</th>\n",
       "      <td>0</td>\n",
       "      <td>0</td>\n",
       "      <td>0</td>\n",
       "      <td>720</td>\n",
       "      <td>2143</td>\n",
       "      <td>2014</td>\n",
       "      <td>8</td>\n",
       "      <td>30000.000000</td>\n",
       "      <td>11.308953</td>\n",
       "      <td>0</td>\n",
       "      <td>...</td>\n",
       "      <td>0</td>\n",
       "      <td>0</td>\n",
       "      <td>0</td>\n",
       "      <td>0</td>\n",
       "      <td>0</td>\n",
       "      <td>0</td>\n",
       "      <td>0</td>\n",
       "      <td>0</td>\n",
       "      <td>0</td>\n",
       "      <td>1</td>\n",
       "    </tr>\n",
       "    <tr>\n",
       "      <th>13252</th>\n",
       "      <td>0</td>\n",
       "      <td>0</td>\n",
       "      <td>0</td>\n",
       "      <td>720</td>\n",
       "      <td>1379</td>\n",
       "      <td>2018</td>\n",
       "      <td>3</td>\n",
       "      <td>50000.000000</td>\n",
       "      <td>11.819778</td>\n",
       "      <td>0</td>\n",
       "      <td>...</td>\n",
       "      <td>0</td>\n",
       "      <td>0</td>\n",
       "      <td>0</td>\n",
       "      <td>0</td>\n",
       "      <td>0</td>\n",
       "      <td>0</td>\n",
       "      <td>0</td>\n",
       "      <td>0</td>\n",
       "      <td>0</td>\n",
       "      <td>1</td>\n",
       "    </tr>\n",
       "  </tbody>\n",
       "</table>\n",
       "<p>5 rows × 201 columns</p>\n",
       "</div>"
      ],
      "text/plain": [
       "        disable_communication  is_starrable  staff_pick  campaign_days  \\\n",
       "207856                      0             0           0            600   \n",
       "179860                      0             0           1           1175   \n",
       "36509                       0             0           0            720   \n",
       "24237                       0             0           0            720   \n",
       "13252                       0             0           0            720   \n",
       "\n",
       "        pre_launched_days  launched_at_yr  launched_at_mth  goal_converted  \\\n",
       "207856               2246            2015                4     1002.478125   \n",
       "179860                159            2018                7    25000.000000   \n",
       "36509                 142            2013                8    10000.000000   \n",
       "24237                2143            2014                8    30000.000000   \n",
       "13252                1379            2018                3    50000.000000   \n",
       "\n",
       "        goal_converted_log  cat_comics  ...  country_IT  country_JP  \\\n",
       "207856            7.910230           0  ...           0           0   \n",
       "179860           11.126631           0  ...           0           0   \n",
       "36509            10.210340           0  ...           0           0   \n",
       "24237            11.308953           0  ...           0           0   \n",
       "13252            11.819778           0  ...           0           0   \n",
       "\n",
       "        country_LU  country_MX  country_NL  country_NO  country_NZ  \\\n",
       "207856           0           0           0           0           0   \n",
       "179860           0           0           0           0           0   \n",
       "36509            0           0           0           0           0   \n",
       "24237            0           0           0           0           0   \n",
       "13252            0           0           0           0           0   \n",
       "\n",
       "        country_SE  country_SG  country_US  \n",
       "207856           0           0           0  \n",
       "179860           0           0           1  \n",
       "36509            0           0           1  \n",
       "24237            0           0           1  \n",
       "13252            0           0           1  \n",
       "\n",
       "[5 rows x 201 columns]"
      ]
     },
     "execution_count": 60,
     "metadata": {},
     "output_type": "execute_result"
    }
   ],
   "source": [
    "#AdaBoost\n",
    "X_train.head()"
   ]
  },
  {
   "cell_type": "code",
   "execution_count": 86,
   "id": "bafc3380-0d1d-450c-ab22-9c1c36de5fce",
   "metadata": {},
   "outputs": [
    {
     "name": "stdout",
     "output_type": "stream",
     "text": [
      "<class 'pandas.core.frame.DataFrame'>\n",
      "Int64Index: 134864 entries, 207856 to 33035\n",
      "Columns: 201 entries, disable_communication to country_US\n",
      "dtypes: float64(2), int64(7), uint8(192)\n",
      "memory usage: 35.0 MB\n"
     ]
    }
   ],
   "source": [
    "adaB = AdaBoostClassifier(base_estimator=DecisionTreeClassifier(), n_estimators=100, learning_rate=0.4, random_state=1)\n",
    "model = adaB.fit(X_train_scaled, y_train)\n",
    "X_train.info()"
   ]
  },
  {
   "cell_type": "code",
   "execution_count": 70,
   "id": "333e80df-8c55-414e-bee6-799a868742e9",
   "metadata": {},
   "outputs": [],
   "source": [
    "def generic_clf(X_train, Y_train, X_test, Y_test, clf):\n",
    "    mod = clf.fit(X_train,Y_train)\n",
    "    pred_train = clf.predict(X_train)\n",
    "    pred_test = clf.predict(X_test)\n",
    "    print(f1_score(Y_test, pred_test))\n",
    "    print(classification_report(Y_test, pred_test)) \n",
    "    print(confusion_matrix(Y_test, pred_test))\n",
    "    sns.heatmap(confusion_matrix(Y_test, pred_test), annot=True, cmap='YlGn', fmt='d');\n",
    "    return pred_train, pred_test"
   ]
  },
  {
   "cell_type": "code",
   "execution_count": 77,
   "id": "35c2b3c5-135f-4be5-beaf-8d8cb19d366e",
   "metadata": {},
   "outputs": [
    {
     "name": "stdout",
     "output_type": "stream",
     "text": [
      "0.8327498523288815\n",
      "              precision    recall  f1-score   support\n",
      "\n",
      "           0       0.73      0.77      0.75     22560\n",
      "           1       0.85      0.82      0.83     35240\n",
      "\n",
      "    accuracy                           0.80     57800\n",
      "   macro avg       0.79      0.79      0.79     57800\n",
      "weighted avg       0.80      0.80      0.80     57800\n",
      "\n",
      "[[17290  5270]\n",
      " [ 6339 28901]]\n"
     ]
    },
    {
     "data": {
      "image/png": "[encoded data removed]",
      "text/plain": [
       "<Figure size 432x288 with 2 Axes>"
      ]
     },
     "metadata": {},
     "output_type": "display_data"
    }
   ],
   "source": [
    "adamodel = generic_clf(X_train, y_train, X_test, y_test, adaB)"
   ]
  },
  {
   "cell_type": "code",
   "execution_count": 76,
   "id": "23096d2b-f992-4dca-ad9e-163345be0925",
   "metadata": {},
   "outputs": [
    {
     "name": "stdout",
     "output_type": "stream",
     "text": [
      "0.8327498523288815\n",
      "              precision    recall  f1-score   support\n",
      "\n",
      "           0       0.73      0.77      0.75     22560\n",
      "           1       0.85      0.82      0.83     35240\n",
      "\n",
      "    accuracy                           0.80     57800\n",
      "   macro avg       0.79      0.79      0.79     57800\n",
      "weighted avg       0.80      0.80      0.80     57800\n",
      "\n",
      "[[17290  5270]\n",
      " [ 6339 28901]]\n"
     ]
    },
    {
     "data": {
      "image/png": "[encoded data removed]",
      "text/plain": [
       "<Figure size 432x288 with 2 Axes>"
      ]
     },
     "metadata": {},
     "output_type": "display_data"
    }
   ],
   "source": [
    "adamodel_scaled = generic_clf(X_train_scaled, y_train, X_test_scaled, y_test, adaB)"
   ]
  },
  {
   "cell_type": "code",
   "execution_count": 64,
   "id": "4ad6bfbe-f8a5-4e83-acdc-d2deff21bf3d",
   "metadata": {},
   "outputs": [
    {
     "name": "stdout",
     "output_type": "stream",
     "text": [
      "[0.  0.  0.5 0.  0.1 0.  0.  0.3 0.1 0.  0.  0.  0.  0.  0.  0.  0.  0.\n",
      " 0.  0.  0.  0.  0.  0.  0.  0.  0.  0.  0.  0.  0.  0.  0.  0.  0.  0.\n",
      " 0.  0.  0.  0.  0.  0.  0.  0.  0.  0.  0.  0.  0.  0.  0.  0.  0.  0.\n",
      " 0.  0.  0.  0.  0.  0.  0.  0.  0.  0.  0.  0.  0.  0.  0.  0.  0.  0.\n",
      " 0.  0.  0.  0.  0.  0.  0.  0.  0.  0.  0.  0.  0.  0.  0.  0.  0.  0.\n",
      " 0.  0.  0.  0.  0.  0.  0.  0.  0.  0.  0.  0.  0.  0.  0.  0.  0.  0.\n",
      " 0.  0.  0.  0.  0.  0.  0.  0.  0.  0.  0.  0.  0.  0.  0.  0.  0.  0.\n",
      " 0.  0.  0.  0.  0.  0.  0.  0.  0.  0.  0.  0.  0.  0.  0.  0.  0.  0.\n",
      " 0.  0.  0.  0.  0.  0.  0.  0.  0.  0.  0.  0.  0.  0.  0.  0.  0.  0.\n",
      " 0.  0.  0.  0.  0.  0.  0.  0.  0.  0.  0.  0.  0.  0.  0.  0.  0.  0.\n",
      " 0.  0.  0.  0.  0.  0.  0.  0.  0.  0.  0.  0.  0.  0.  0.  0.  0.  0.\n",
      " 0.  0.  0. ]\n"
     ]
    }
   ],
   "source": [
    "print(model.feature_importances_)"
   ]
  },
  {
   "cell_type": "code",
   "execution_count": 74,
   "id": "e1c0324b-557f-47eb-a62e-4f29e1f34da7",
   "metadata": {},
   "outputs": [
    {
     "name": "stdout",
     "output_type": "stream",
     "text": [
      "campaign_days launched_at_yr goal_converted_log cat_comics\n"
     ]
    }
   ],
   "source": [
    "important_features = X_train.columns.to_list()\n",
    "print(important_features[3], important_features[5], important_features[8], important_features[9])"
   ]
  },
  {
   "cell_type": "code",
   "execution_count": 81,
   "id": "9d4a18f8-ac4a-4112-8b28-4b38b92f7436",
   "metadata": {},
   "outputs": [
    {
     "data": {
      "text/plain": [
       "AdaBoostClassifier(learning_rate=0.4, n_estimators=100, random_state=1)"
      ]
     },
     "execution_count": 81,
     "metadata": {},
     "output_type": "execute_result"
    }
   ],
   "source": [
    "model"
   ]
  },
  {
   "cell_type": "code",
   "execution_count": 85,
   "id": "6191d847-f583-4020-a2d0-b7e3a1c8920c",
   "metadata": {},
   "outputs": [
    {
     "name": "stdout",
     "output_type": "stream",
     "text": [
      "Fitting 5 folds for each of 54 candidates, totalling 270 fits\n",
      "Best Parameters: {'base_estimator__max_depth': 3, 'base_estimator__min_samples_split': 2, 'learning_rate': 0.5, 'n_estimators': 120}\n",
      "Best Score: 0.8554056873636828\n"
     ]
    }
   ],
   "source": [
    "# GridSearch\n",
    "\n",
    "parameters = {'n_estimators':[50, 120],                \n",
    "              'learning_rate':[0.1, 0.5, 1.],               \n",
    "              'base_estimator__min_samples_split' : np.arange(2, 8, 2),               \n",
    "              'base_estimator__max_depth' : np.arange(1, 4, 1)              \n",
    "             }\n",
    "clf = AdaBoostClassifier(base_estimator=DecisionTreeClassifier())\n",
    "scorer = make_scorer(f1_score)\n",
    "grid = GridSearchCV(clf, parameters, verbose=True, scoring = scorer)\n",
    "\n",
    "result = grid.fit(X_train, y_train)\n",
    "\n",
    "print('Best Parameters:', result.best_params_)\n",
    "print('Best Score:', result.best_score_)"
   ]
  },
  {
   "cell_type": "markdown",
   "id": "27e3b1bf-a528-4066-ad1c-387b96e1b065",
   "metadata": {},
   "source": [
    "Best Parameters: {'base_estimator__max_depth': 3, 'base_estimator__min_samples_split': 2, 'learning_rate': 0.5, 'n_estimators': 120}\n",
    "\n",
    "Best Score: 0.8554056873636828"
   ]
  },
  {
   "cell_type": "code",
   "execution_count": null,
   "id": "22fbdd05-8ce6-46e6-a48f-1a6222849d67",
   "metadata": {
    "tags": []
   },
   "outputs": [
    {
     "name": "stdout",
     "output_type": "stream",
     "text": [
      "Fitting 5 folds for each of 54 candidates, totalling 270 fits\n"
     ]
    }
   ],
   "source": [
    "# Further GridSearch\n",
    "\n",
    "parameters2 = {'n_estimators':[120, 150],                \n",
    "              'learning_rate':[0.4, 0.5],               \n",
    "              'base_estimator__min_samples_split' : np.arange(2, 8, 2),               \n",
    "              'base_estimator__max_depth' : np.arange(1, 4, 1)               \n",
    "             }\n",
    "clf = AdaBoostClassifier(base_estimator=DecisionTreeClassifier())\n",
    "scorer = make_scorer(f1_score)\n",
    "grid2 = GridSearchCV(clf, parameters2, verbose=True, scoring = scorer)\n",
    "\n",
    "result2 = grid.fit(X_train, y_train)\n",
    "\n",
    "print('Best Parameters:', result2.best_params_)\n",
    "print('Best Score:', result2.best_score_)"
   ]
  },
  {
   "cell_type": "markdown",
   "id": "9f40dffe-12cd-4a5e-994d-a3a5f2b11f5b",
   "metadata": {},
   "source": [
    "#### TO DO: \n",
    "- check ob monat drin is, \n",
    "- sub cat raus, year raus"
   ]
  },
  {
   "cell_type": "markdown",
   "id": "5d8a8c07-8602-4bf1-8288-71bd564be632",
   "metadata": {
    "tags": []
   },
   "source": [
    "# Ensemble Methods"
   ]
  },
  {
   "cell_type": "code",
   "execution_count": 66,
   "id": "088f2a32-78f7-400e-be2c-2fb16ee654ce",
   "metadata": {},
   "outputs": [],
   "source": [
    "#use KNN,SVC,DTC,Randomforestclassifier,XGB...."
   ]
  },
  {
   "cell_type": "markdown",
   "id": "b55d86c1-51e5-4c77-b77c-c290914e6aaa",
   "metadata": {},
   "source": [
    "# Future Work"
   ]
  },
  {
   "cell_type": "code",
   "execution_count": 67,
   "id": "47d5074f-75da-4fb4-a951-1a2b59961f18",
   "metadata": {},
   "outputs": [],
   "source": [
    "#use maybe RandomizedSearchCV on RandomForest or any given Algorithm"
   ]
  },
  {
   "cell_type": "markdown",
   "id": "dedde418-bc1b-453b-822c-403f2c3f4691",
   "metadata": {},
   "source": [
    "# Data Visualisation\n",
    "Purpose: Communicate the findings with stakeholders using plots and interactive visualisations"
   ]
  },
  {
   "cell_type": "markdown",
   "id": "80224519-7d2d-4221-a157-8611c8ea3d63",
   "metadata": {},
   "source": [
    "ideas for stakeholder communication:\n",
    "- which are the top (5) categories for successfull kickstarter projects?\n",
    "- goal amount as important feature: bin the amounts and plot them over successfull projects count. \n",
    "- add month variable to show which month for launching the project is the most promising.\n",
    "- show successrates of projects over the years: Kickstarter, still worth it?\n",
    "\n",
    "- outlook for future research: what is the role of marketing campaigns? (further data needed)"
   ]
  },
  {
   "cell_type": "markdown",
   "id": "2e34df71-ef11-45b9-84c7-c2c1314440c3",
   "metadata": {},
   "source": [
    "# Findings \n",
    "Purpose: Summarize the key results and findings"
   ]
  }
 ],
 "metadata": {
  "kernelspec": {
   "display_name": "Python 3 (ipykernel)",
   "language": "python",
   "name": "python3"
  },
  "language_info": {
   "codemirror_mode": {
    "name": "ipython",
    "version": 3
   },
   "file_extension": ".py",
   "mimetype": "text/x-python",
   "name": "python",
   "nbconvert_exporter": "python",
   "pygments_lexer": "ipython3",
   "version": "3.9.4"
  }
 },
 "nbformat": 4,
 "nbformat_minor": 5
}
